{
  "cells": [
    {
      "cell_type": "markdown",
      "id": "02e211a0",
      "metadata": {
        "id": "02e211a0"
      },
      "source": [
        "# Stochastic block model"
      ]
    },
    {
      "cell_type": "markdown",
      "id": "1f14b9cd",
      "metadata": {
        "id": "1f14b9cd"
      },
      "source": [
        "The stochastic block model is a random graph model where all vertices are assigned a group. Edges are place between two vertices independently from the placement of other edges. The probability that an edge is placed between two given vertices depends only on the groups they have been assigned to. This random graph model is often used to mimic social where people are subdivided into groups where there is a lot of communication within people of each group, but not much between people from different groups.\n",
        "\n",
        "Mathematically , the model is defined through a vector $\\vec{n} = (n_1, n_2, \\ldots, n_r)$ and a matrix $$P = \\begin{pmatrix}\n",
        "p_{11} & \\cdots & p_{1r} \\\\\n",
        "   \\vdots & \\ddots & \\vdots \\\\\n",
        "   p_{r1} & \\cdots & p_{rr}\n",
        "\\end{pmatrix}.$$\n",
        "Here, $r$ is the number of groups, the value of $n_k$ for fixed $k \\in \\{1, 2, \\ldots, r\\}$ tells you how many vertices are present in group $k$. Finally, the value of $p_{kl}$ for fixed $k, l \\in \\{1, 2, \\ldots, r\\}$ tells you the probability that an edge is placed between a vertex of group $k$ and $l$. Since the output graph is undirected, we need to have that $p_{kl} = p_{lk}$.\n",
        "\n",
        "Algorithmically, we can create an instance of the stochastic block model by first generating an array $V = \\{1, 2, \\ldots, n_1 + n_2 + \\ldots + n_r\\}$ of vertices and an array $T$ of vertex groups. Element $T_i$ in the array $T$ will contain the group of vertex $i \\in V$. For simplicity, you can often let $T$ be given by $$T = \\{\\underbrace{1, 1, \\ldots, 1}_{n_1 \\text{ times}}, \\underbrace{2, 2, \\ldots, 2}_{n_2 \\text{ times}}, \\ldots, \\underbrace{r, r, \\ldots, r}_{n_r \\text{ times}}\\}.$$ After defining $V$ and $T$, we loop through all vertices $i, j \\in V$ such that $i \\neq j$ and check their groups. Suppose that the group of vertex $i$ is $k$ and the group of vertex $j$ is $l$. Then, we add the edge $\\{i, j\\}$ to the edge list $E$ with probability $p_{kl}$. After we have looped over all pairs of vertices, then we have found a realisation of the stochastic block model."
      ]
    },
    {
      "cell_type": "markdown",
      "id": "a0e8832c",
      "metadata": {
        "id": "a0e8832c"
      },
      "source": [
        "**Exercise 1.** Create a function ``SBM(n, P)`` that inputs the vector $\\vec{n}$ and matrix $P$ and outputs an instance of the stochastic block model. Make sure it outputs the vertex list $V$, the group list $T$ and the edge list $E$."
      ]
    },
    {
      "cell_type": "code",
      "execution_count": 14,
      "id": "a072c4a1",
      "metadata": {
        "colab": {
          "base_uri": "https://localhost:8080/"
        },
        "id": "a072c4a1",
        "outputId": "fac605f5-81fa-4bcc-d477-827227947749"
      },
      "outputs": [
        {
          "output_type": "stream",
          "name": "stdout",
          "text": [
            "[0.5, 0.1, 0.02]\n",
            "[0.1, 0.7, 0.1]\n",
            "[0.02, 0.1, 0.3]\n",
            "90\n",
            "1149\n",
            "90\n",
            "[1, 1, 1, 1, 1, 1, 1, 1, 1, 1, 1, 1, 1, 1, 1, 1, 1, 1, 1, 1, 1, 1, 1, 1, 1, 1, 1, 1, 1, 1, 1, 1, 1, 1, 1, 1, 1, 1, 1, 1, 1, 1, 1, 1, 1, 1, 1, 1, 1, 1, 2, 2, 2, 2, 2, 2, 2, 2, 2, 2, 2, 2, 2, 2, 2, 2, 2, 2, 2, 2, 2, 2, 2, 2, 2, 2, 2, 2, 2, 2, 3, 3, 3, 3, 3, 3, 3, 3, 3, 3]\n",
            "[[0, 1], [0, 4], [0, 5], [0, 6], [0, 7], [0, 10], [0, 11], [0, 13], [0, 15], [0, 16], [0, 18], [0, 20], [0, 23], [0, 24], [0, 26], [0, 27], [0, 28], [0, 29], [0, 30], [0, 32], [0, 33], [0, 34], [0, 36], [0, 37], [0, 38], [0, 41], [0, 47], [0, 49], [0, 61], [0, 66], [0, 69], [0, 73], [1, 2], [1, 6], [1, 7], [1, 9], [1, 10], [1, 13], [1, 15], [1, 17], [1, 20], [1, 23], [1, 30], [1, 32], [1, 34], [1, 38], [1, 44], [1, 45], [1, 47], [1, 49], [1, 55], [1, 63], [1, 69], [1, 71], [1, 76], [2, 3], [2, 4], [2, 5], [2, 6], [2, 8], [2, 10], [2, 11], [2, 13], [2, 14], [2, 16], [2, 18], [2, 20], [2, 23], [2, 24], [2, 26], [2, 28], [2, 29], [2, 32], [2, 33], [2, 36], [2, 37], [2, 38], [2, 39], [2, 40], [2, 47], [2, 48], [2, 49], [2, 56], [2, 60], [2, 62], [2, 67], [2, 73], [3, 4], [3, 5], [3, 7], [3, 8], [3, 9], [3, 11], [3, 15], [3, 17], [3, 18], [3, 19], [3, 20], [3, 22], [3, 24], [3, 29], [3, 30], [3, 31], [3, 34], [3, 35], [3, 37], [3, 39], [3, 41], [3, 43], [3, 45], [3, 46], [3, 48], [3, 52], [3, 65], [3, 72], [4, 6], [4, 7], [4, 9], [4, 18], [4, 20], [4, 22], [4, 23], [4, 24], [4, 26], [4, 28], [4, 32], [4, 33], [4, 34], [4, 35], [4, 39], [4, 40], [4, 41], [4, 43], [4, 44], [4, 47], [4, 48], [4, 52], [4, 63], [4, 65], [5, 8], [5, 9], [5, 11], [5, 12], [5, 13], [5, 15], [5, 16], [5, 17], [5, 20], [5, 23], [5, 24], [5, 25], [5, 27], [5, 28], [5, 31], [5, 32], [5, 33], [5, 34], [5, 36], [5, 38], [5, 40], [5, 41], [5, 43], [5, 44], [5, 45], [5, 47], [5, 70], [5, 72], [5, 88], [6, 7], [6, 8], [6, 9], [6, 10], [6, 11], [6, 14], [6, 15], [6, 16], [6, 17], [6, 21], [6, 22], [6, 25], [6, 30], [6, 31], [6, 32], [6, 34], [6, 36], [6, 37], [6, 40], [6, 41], [6, 42], [6, 45], [6, 46], [6, 47], [6, 66], [6, 69], [6, 73], [7, 8], [7, 9], [7, 12], [7, 14], [7, 16], [7, 21], [7, 22], [7, 24], [7, 26], [7, 27], [7, 29], [7, 33], [7, 34], [7, 37], [7, 44], [7, 47], [7, 48], [7, 61], [7, 62], [7, 75], [7, 79], [8, 9], [8, 10], [8, 11], [8, 13], [8, 15], [8, 16], [8, 17], [8, 18], [8, 19], [8, 20], [8, 23], [8, 26], [8, 28], [8, 33], [8, 36], [8, 37], [8, 39], [8, 40], [8, 43], [8, 45], [8, 47], [8, 51], [8, 61], [8, 79], [9, 11], [9, 13], [9, 14], [9, 15], [9, 16], [9, 18], [9, 19], [9, 21], [9, 23], [9, 24], [9, 28], [9, 31], [9, 37], [9, 38], [9, 39], [9, 41], [9, 42], [9, 45], [9, 46], [9, 49], [9, 51], [9, 75], [9, 82], [10, 12], [10, 13], [10, 14], [10, 15], [10, 16], [10, 17], [10, 28], [10, 30], [10, 31], [10, 33], [10, 34], [10, 35], [10, 36], [10, 39], [10, 40], [10, 44], [10, 45], [10, 55], [11, 12], [11, 14], [11, 16], [11, 17], [11, 20], [11, 21], [11, 24], [11, 25], [11, 26], [11, 28], [11, 31], [11, 34], [11, 36], [11, 37], [11, 38], [11, 39], [11, 42], [11, 43], [11, 44], [11, 47], [11, 48], [11, 49], [11, 73], [12, 13], [12, 15], [12, 16], [12, 19], [12, 22], [12, 26], [12, 29], [12, 34], [12, 36], [12, 37], [12, 41], [12, 44], [12, 45], [12, 46], [12, 48], [12, 50], [12, 70], [13, 15], [13, 16], [13, 17], [13, 19], [13, 20], [13, 23], [13, 29], [13, 30], [13, 31], [13, 33], [13, 37], [13, 41], [13, 43], [13, 44], [13, 45], [13, 47], [13, 64], [13, 82], [14, 16], [14, 18], [14, 20], [14, 24], [14, 25], [14, 28], [14, 29], [14, 30], [14, 31], [14, 33], [14, 34], [14, 37], [14, 38], [14, 40], [14, 41], [14, 45], [14, 48], [14, 49], [14, 56], [14, 60], [14, 68], [14, 69], [15, 16], [15, 17], [15, 20], [15, 21], [15, 24], [15, 25], [15, 26], [15, 27], [15, 28], [15, 31], [15, 32], [15, 33], [15, 34], [15, 35], [15, 38], [15, 39], [15, 40], [15, 42], [15, 43], [15, 44], [15, 48], [15, 63], [15, 65], [15, 78], [15, 79], [16, 17], [16, 19], [16, 20], [16, 21], [16, 23], [16, 25], [16, 27], [16, 28], [16, 29], [16, 31], [16, 32], [16, 33], [16, 37], [16, 39], [16, 41], [16, 42], [16, 44], [16, 46], [16, 47], [16, 76], [17, 19], [17, 21], [17, 22], [17, 23], [17, 24], [17, 25], [17, 26], [17, 27], [17, 30], [17, 31], [17, 32], [17, 33], [17, 38], [17, 41], [17, 44], [17, 45], [17, 48], [17, 49], [17, 51], [17, 64], [17, 77], [17, 79], [17, 83], [18, 19], [18, 21], [18, 23], [18, 25], [18, 28], [18, 30], [18, 34], [18, 35], [18, 38], [18, 39], [18, 40], [18, 43], [18, 46], [18, 47], [18, 54], [18, 56], [18, 58], [18, 65], [19, 20], [19, 23], [19, 27], [19, 28], [19, 29], [19, 31], [19, 32], [19, 34], [19, 39], [19, 41], [19, 42], [19, 43], [19, 44], [19, 49], [19, 50], [19, 53], [19, 56], [20, 21], [20, 23], [20, 24], [20, 25], [20, 29], [20, 31], [20, 34], [20, 35], [20, 37], [20, 38], [20, 39], [20, 42], [20, 44], [20, 47], [20, 48], [20, 68], [20, 70], [20, 71], [21, 22], [21, 24], [21, 26], [21, 27], [21, 28], [21, 32], [21, 35], [21, 37], [21, 38], [21, 41], [21, 43], [21, 44], [21, 49], [21, 57], [21, 64], [21, 67], [21, 69], [21, 72], [22, 23], [22, 25], [22, 27], [22, 29], [22, 34], [22, 36], [22, 43], [22, 46], [22, 48], [22, 49], [22, 58], [22, 65], [22, 66], [22, 79], [22, 82], [23, 24], [23, 25], [23, 27], [23, 28], [23, 29], [23, 30], [23, 31], [23, 35], [23, 37], [23, 38], [23, 39], [23, 42], [23, 45], [23, 46], [23, 56], [23, 60], [23, 66], [23, 81], [24, 27], [24, 28], [24, 29], [24, 31], [24, 34], [24, 35], [24, 37], [24, 42], [24, 44], [25, 31], [25, 33], [25, 35], [25, 36], [25, 37], [25, 38], [25, 42], [25, 43], [25, 47], [25, 48], [25, 61], [25, 71], [25, 73], [26, 27], [26, 31], [26, 33], [26, 35], [26, 36], [26, 39], [26, 40], [26, 41], [26, 42], [26, 43], [26, 45], [26, 46], [26, 49], [26, 60], [26, 70], [27, 29], [27, 30], [27, 32], [27, 33], [27, 34], [27, 35], [27, 43], [27, 45], [27, 47], [27, 48], [27, 49], [27, 50], [27, 64], [28, 30], [28, 31], [28, 33], [28, 34], [28, 36], [28, 37], [28, 40], [28, 41], [28, 42], [28, 43], [28, 44], [28, 46], [28, 49], [28, 51], [28, 55], [28, 72], [28, 78], [29, 30], [29, 31], [29, 32], [29, 34], [29, 35], [29, 36], [29, 39], [29, 40], [29, 42], [29, 44], [29, 45], [29, 46], [29, 48], [29, 52], [29, 68], [29, 69], [30, 32], [30, 36], [30, 37], [30, 42], [30, 43], [30, 44], [30, 47], [30, 48], [30, 69], [30, 72], [31, 32], [31, 34], [31, 35], [31, 37], [31, 40], [31, 41], [31, 42], [31, 44], [31, 48], [31, 49], [31, 59], [31, 71], [31, 72], [32, 33], [32, 34], [32, 35], [32, 36], [32, 39], [32, 41], [32, 43], [32, 47], [32, 68], [33, 34], [33, 36], [33, 37], [33, 38], [33, 42], [33, 43], [33, 44], [33, 49], [33, 60], [33, 67], [33, 70], [33, 74], [34, 35], [34, 37], [34, 38], [34, 41], [34, 43], [34, 44], [34, 47], [34, 48], [34, 55], [34, 60], [34, 66], [34, 72], [34, 79], [35, 37], [35, 39], [35, 41], [35, 44], [35, 46], [35, 47], [35, 48], [35, 50], [35, 55], [35, 65], [35, 72], [35, 75], [35, 82], [36, 37], [36, 38], [36, 39], [36, 40], [36, 41], [36, 67], [36, 71], [36, 77], [37, 38], [37, 40], [37, 41], [37, 44], [37, 45], [37, 47], [37, 48], [37, 50], [37, 52], [37, 54], [37, 55], [37, 57], [37, 62], [37, 78], [37, 82], [38, 41], [38, 42], [38, 43], [38, 44], [38, 45], [38, 69], [38, 75], [39, 40], [39, 41], [39, 42], [39, 43], [39, 44], [39, 46], [39, 47], [39, 48], [39, 53], [39, 74], [40, 41], [40, 42], [40, 43], [40, 45], [40, 46], [40, 47], [40, 49], [40, 50], [40, 52], [40, 61], [41, 42], [41, 43], [41, 44], [41, 45], [41, 47], [41, 48], [41, 49], [41, 85], [42, 43], [42, 45], [42, 47], [42, 52], [43, 44], [43, 47], [43, 48], [43, 49], [43, 53], [43, 58], [43, 65], [44, 46], [44, 49], [44, 50], [44, 55], [44, 61], [44, 70], [44, 73], [45, 46], [45, 49], [45, 59], [45, 68], [45, 71], [46, 59], [46, 63], [46, 75], [46, 79], [47, 48], [47, 55], [47, 68], [47, 69], [48, 49], [48, 58], [48, 73], [48, 79], [49, 79], [50, 51], [50, 53], [50, 54], [50, 55], [50, 56], [50, 57], [50, 59], [50, 60], [50, 61], [50, 63], [50, 64], [50, 66], [50, 67], [50, 68], [50, 70], [50, 71], [50, 72], [50, 73], [50, 74], [50, 75], [50, 76], [50, 77], [50, 78], [50, 88], [51, 54], [51, 55], [51, 57], [51, 58], [51, 59], [51, 60], [51, 61], [51, 62], [51, 63], [51, 64], [51, 65], [51, 66], [51, 67], [51, 69], [51, 70], [51, 72], [51, 73], [51, 78], [51, 80], [51, 84], [52, 54], [52, 55], [52, 56], [52, 57], [52, 58], [52, 61], [52, 63], [52, 64], [52, 65], [52, 66], [52, 67], [52, 68], [52, 69], [52, 70], [52, 71], [52, 73], [52, 74], [52, 76], [52, 77], [52, 78], [52, 79], [52, 89], [53, 55], [53, 56], [53, 57], [53, 58], [53, 59], [53, 61], [53, 62], [53, 63], [53, 64], [53, 65], [53, 66], [53, 67], [53, 68], [53, 70], [53, 71], [53, 74], [53, 75], [53, 76], [53, 77], [53, 79], [53, 80], [53, 85], [54, 57], [54, 58], [54, 59], [54, 60], [54, 61], [54, 62], [54, 63], [54, 66], [54, 67], [54, 73], [54, 75], [54, 77], [54, 78], [54, 79], [55, 56], [55, 57], [55, 58], [55, 60], [55, 63], [55, 64], [55, 65], [55, 66], [55, 69], [55, 71], [55, 73], [55, 76], [55, 78], [55, 79], [55, 80], [55, 81], [55, 82], [55, 83], [56, 57], [56, 58], [56, 60], [56, 62], [56, 63], [56, 65], [56, 69], [56, 70], [56, 71], [56, 72], [56, 74], [56, 75], [56, 76], [56, 78], [56, 86], [57, 58], [57, 59], [57, 60], [57, 61], [57, 62], [57, 63], [57, 65], [57, 66], [57, 67], [57, 68], [57, 69], [57, 71], [57, 73], [57, 74], [57, 75], [57, 77], [57, 78], [57, 79], [57, 87], [58, 59], [58, 60], [58, 61], [58, 62], [58, 64], [58, 65], [58, 67], [58, 68], [58, 70], [58, 71], [58, 73], [58, 74], [58, 75], [58, 76], [58, 78], [58, 86], [59, 60], [59, 61], [59, 63], [59, 64], [59, 65], [59, 67], [59, 68], [59, 69], [59, 70], [59, 73], [59, 78], [59, 79], [59, 80], [59, 81], [60, 64], [60, 65], [60, 67], [60, 68], [60, 69], [60, 70], [60, 71], [60, 72], [60, 73], [60, 74], [60, 77], [60, 79], [60, 82], [60, 89], [61, 62], [61, 63], [61, 65], [61, 66], [61, 68], [61, 70], [61, 72], [61, 73], [61, 74], [61, 76], [61, 77], [61, 78], [61, 79], [61, 82], [61, 85], [62, 64], [62, 65], [62, 66], [62, 68], [62, 69], [62, 70], [62, 71], [62, 72], [62, 73], [62, 74], [62, 75], [62, 76], [62, 78], [62, 79], [62, 80], [63, 64], [63, 65], [63, 66], [63, 68], [63, 69], [63, 72], [63, 73], [63, 74], [63, 75], [63, 77], [63, 78], [63, 79], [63, 80], [63, 86], [64, 66], [64, 67], [64, 68], [64, 69], [64, 71], [64, 72], [64, 73], [64, 74], [64, 75], [64, 77], [64, 78], [64, 86], [65, 67], [65, 68], [65, 70], [65, 71], [65, 72], [65, 73], [65, 74], [65, 75], [65, 76], [65, 88], [66, 68], [66, 70], [66, 71], [66, 72], [66, 74], [66, 75], [66, 76], [66, 78], [67, 68], [67, 69], [67, 70], [67, 72], [67, 73], [67, 74], [67, 75], [67, 77], [67, 78], [67, 89], [68, 69], [68, 71], [68, 72], [68, 73], [68, 74], [68, 76], [68, 77], [68, 79], [68, 83], [69, 70], [69, 71], [69, 72], [69, 73], [69, 75], [69, 76], [69, 77], [69, 78], [69, 79], [69, 80], [69, 84], [69, 85], [69, 88], [69, 89], [70, 71], [70, 72], [70, 73], [70, 74], [70, 75], [70, 76], [70, 77], [70, 78], [70, 79], [70, 81], [70, 86], [71, 72], [71, 74], [71, 75], [71, 76], [71, 77], [71, 78], [71, 81], [71, 87], [72, 73], [72, 74], [72, 75], [72, 76], [72, 83], [73, 74], [73, 75], [73, 76], [73, 77], [73, 79], [73, 82], [73, 85], [73, 89], [74, 76], [74, 77], [74, 78], [74, 79], [75, 77], [75, 79], [75, 85], [76, 78], [76, 79], [77, 78], [77, 79], [77, 87], [77, 88], [77, 89], [78, 79], [78, 85], [78, 89], [79, 83], [79, 87], [80, 81], [80, 83], [80, 84], [82, 83], [83, 84], [83, 86], [83, 88], [84, 87], [85, 88], [85, 89], [86, 88], [86, 89], [88, 89]]\n"
          ]
        }
      ],
      "source": [
        "import numpy as np\n",
        "\n",
        "def SBM(n, P):\n",
        "    V = []\n",
        "    T = []\n",
        "    E = []\n",
        "\n",
        "    number_vertices = sum(n)\n",
        "    for i in range(number_vertices):\n",
        "        V.append(i)\n",
        "    for i in range(len(n)):\n",
        "        for j in range(n[i]):\n",
        "            T.append(i+1)\n",
        "    for i in range(len(V)):\n",
        "        for j in range(i+1, len(V)):\n",
        "            if np.random.rand() < P[T[i]-1][T[j]-1]:\n",
        "                E.append([V[i], V[j]])\n",
        "\n",
        "    return V, E, T\n",
        "\n",
        "#testing\n",
        "n = [50, 30, 10]\n",
        "P = [[0.5, 0.1, 0.02], [0.1, 0.7, 0.1], [0.02, 0.1, 0.3]]\n",
        "for row in P:\n",
        "    print(row)\n",
        "\n",
        "V, E, T = SBM(n, P)\n",
        "print(len(V))\n",
        "print(len(E))\n",
        "print(len(T))\n",
        "print(T)\n",
        "print(E)"
      ]
    },
    {
      "cell_type": "markdown",
      "id": "721f09e8",
      "metadata": {
        "id": "721f09e8"
      },
      "source": [
        "## The stochastic block model in NetworkX"
      ]
    },
    {
      "cell_type": "markdown",
      "id": "79a15374",
      "metadata": {
        "id": "79a15374"
      },
      "source": [
        "In NetworkX the stochastic block model can be generated using the function ``stochastic_block_model``. It inputs the vector $\\vec{n}$ and the matrix $P$ as lists (or ``np.array`` objects). Below you see some example code where NetworkX is used to generate an instance of the stochastic block model with three groups."
      ]
    },
    {
      "cell_type": "code",
      "execution_count": 19,
      "id": "e70cf163",
      "metadata": {
        "id": "e70cf163"
      },
      "outputs": [],
      "source": [
        "import networkx as nx\n",
        "\n",
        "#Generate the instance of SBM\n",
        "n = [50, 30, 10]\n",
        "P = [[0.5, 0.1, 0.02], [0.1, 0.7, 0.1], [0.02, 0.1, 0.3]]\n",
        "G = nx.stochastic_block_model(n, P)\n",
        "\n",
        "#Extract the vertex list, edge list, and the group allocation\n",
        "V = np.array(G.nodes)\n",
        "E = np.array(G.edges)\n",
        "T = np.zeros_like(V)\n",
        "for group, partition in enumerate(np.array(G.graph['partition'])):\n",
        "    T[np.array(list(partition))] = group"
      ]
    },
    {
      "cell_type": "markdown",
      "id": "66a3f164",
      "metadata": {
        "id": "66a3f164"
      },
      "source": [
        "**Exercise 2.** By default, the function ``stochastic_block_model`` will always assign vertex $1$ through $n_1$ to group $1$, vertex $n_1 + 1$ through $n_1 + n_2$ to group $2$ et cetera. Sometimes, though, you might want to specificy the groups beforehand. Create an implementation of the stochastic block model using NetworkX where you input the vertex-group array $T$ and the probability matrix $P$, but not the vector $\\vec{n}$."
      ]
    },
    {
      "cell_type": "code",
      "execution_count": 22,
      "id": "ac35f51b",
      "metadata": {
        "colab": {
          "base_uri": "https://localhost:8080/",
          "height": 356
        },
        "id": "ac35f51b",
        "outputId": "51072a81-1529-4c9a-e6b6-e3839a8cbafe"
      },
      "outputs": [
        {
          "output_type": "error",
          "ename": "NetworkXException",
          "evalue": "'sizes' and 'p' do not match.",
          "traceback": [
            "\u001b[0;31m---------------------------------------------------------------------------\u001b[0m",
            "\u001b[0;31mNetworkXException\u001b[0m                         Traceback (most recent call last)",
            "\u001b[0;32m/tmp/ipython-input-2856770385.py\u001b[0m in \u001b[0;36m<cell line: 0>\u001b[0;34m()\u001b[0m\n\u001b[1;32m      2\u001b[0m \u001b[0mT\u001b[0m \u001b[0;34m=\u001b[0m \u001b[0;34m[\u001b[0m\u001b[0;36m1\u001b[0m\u001b[0;34m,\u001b[0m\u001b[0;36m2\u001b[0m\u001b[0;34m,\u001b[0m\u001b[0;36m3\u001b[0m\u001b[0;34m,\u001b[0m\u001b[0;36m1\u001b[0m\u001b[0;34m,\u001b[0m\u001b[0;36m2\u001b[0m\u001b[0;34m,\u001b[0m\u001b[0;36m3\u001b[0m\u001b[0;34m,\u001b[0m\u001b[0;36m2\u001b[0m\u001b[0;34m,\u001b[0m\u001b[0;36m2\u001b[0m\u001b[0;34m,\u001b[0m\u001b[0;36m3\u001b[0m\u001b[0;34m,\u001b[0m\u001b[0;36m1\u001b[0m\u001b[0;34m,\u001b[0m\u001b[0;36m1\u001b[0m\u001b[0;34m,\u001b[0m\u001b[0;36m2\u001b[0m\u001b[0;34m]\u001b[0m\u001b[0;34m\u001b[0m\u001b[0;34m\u001b[0m\u001b[0m\n\u001b[1;32m      3\u001b[0m \u001b[0mP\u001b[0m \u001b[0;34m=\u001b[0m \u001b[0;34m[\u001b[0m\u001b[0;34m[\u001b[0m\u001b[0;36m0.5\u001b[0m\u001b[0;34m,\u001b[0m \u001b[0;36m0.1\u001b[0m\u001b[0;34m,\u001b[0m \u001b[0;36m0.02\u001b[0m\u001b[0;34m]\u001b[0m\u001b[0;34m,\u001b[0m \u001b[0;34m[\u001b[0m\u001b[0;36m0.1\u001b[0m\u001b[0;34m,\u001b[0m \u001b[0;36m0.7\u001b[0m\u001b[0;34m,\u001b[0m \u001b[0;36m0.1\u001b[0m\u001b[0;34m]\u001b[0m\u001b[0;34m,\u001b[0m \u001b[0;34m[\u001b[0m\u001b[0;36m0.02\u001b[0m\u001b[0;34m,\u001b[0m \u001b[0;36m0.1\u001b[0m\u001b[0;34m,\u001b[0m \u001b[0;36m0.3\u001b[0m\u001b[0;34m]\u001b[0m\u001b[0;34m]\u001b[0m\u001b[0;34m\u001b[0m\u001b[0;34m\u001b[0m\u001b[0m\n\u001b[0;32m----> 4\u001b[0;31m \u001b[0mG\u001b[0m \u001b[0;34m=\u001b[0m \u001b[0mnx\u001b[0m\u001b[0;34m.\u001b[0m\u001b[0mstochastic_block_model\u001b[0m\u001b[0;34m(\u001b[0m\u001b[0mT\u001b[0m\u001b[0;34m,\u001b[0m \u001b[0mP\u001b[0m\u001b[0;34m)\u001b[0m\u001b[0;34m\u001b[0m\u001b[0;34m\u001b[0m\u001b[0m\n\u001b[0m\u001b[1;32m      5\u001b[0m \u001b[0mV\u001b[0m \u001b[0;34m=\u001b[0m \u001b[0mnp\u001b[0m\u001b[0;34m.\u001b[0m\u001b[0marray\u001b[0m\u001b[0;34m(\u001b[0m\u001b[0mG\u001b[0m\u001b[0;34m.\u001b[0m\u001b[0mnodes\u001b[0m\u001b[0;34m)\u001b[0m\u001b[0;34m\u001b[0m\u001b[0;34m\u001b[0m\u001b[0m\n\u001b[1;32m      6\u001b[0m \u001b[0mE\u001b[0m \u001b[0;34m=\u001b[0m \u001b[0mnp\u001b[0m\u001b[0;34m.\u001b[0m\u001b[0marray\u001b[0m\u001b[0;34m(\u001b[0m\u001b[0mG\u001b[0m\u001b[0;34m.\u001b[0m\u001b[0medges\u001b[0m\u001b[0;34m)\u001b[0m\u001b[0;34m\u001b[0m\u001b[0;34m\u001b[0m\u001b[0m\n",
            "\u001b[0;32m/usr/local/lib/python3.12/dist-packages/networkx/utils/decorators.py\u001b[0m in \u001b[0;36margmap_stochastic_block_model_1\u001b[0;34m(sizes, p, nodelist, seed, directed, selfloops, sparse, backend, **backend_kwargs)\u001b[0m\n\u001b[1;32m      2\u001b[0m \u001b[0;32mimport\u001b[0m \u001b[0mcollections\u001b[0m\u001b[0;34m\u001b[0m\u001b[0;34m\u001b[0m\u001b[0m\n\u001b[1;32m      3\u001b[0m \u001b[0;32mimport\u001b[0m \u001b[0mgzip\u001b[0m\u001b[0;34m\u001b[0m\u001b[0;34m\u001b[0m\u001b[0m\n\u001b[0;32m----> 4\u001b[0;31m \u001b[0;32mimport\u001b[0m \u001b[0minspect\u001b[0m\u001b[0;34m\u001b[0m\u001b[0;34m\u001b[0m\u001b[0m\n\u001b[0m\u001b[1;32m      5\u001b[0m \u001b[0;32mimport\u001b[0m \u001b[0mitertools\u001b[0m\u001b[0;34m\u001b[0m\u001b[0;34m\u001b[0m\u001b[0m\n\u001b[1;32m      6\u001b[0m \u001b[0;32mimport\u001b[0m \u001b[0mre\u001b[0m\u001b[0;34m\u001b[0m\u001b[0;34m\u001b[0m\u001b[0m\n",
            "\u001b[0;32m/usr/local/lib/python3.12/dist-packages/networkx/utils/backends.py\u001b[0m in \u001b[0;36m_call_if_any_backends_installed\u001b[0;34m(self, backend, *args, **kwargs)\u001b[0m\n\u001b[1;32m    927\u001b[0m                 \u001b[0;32mif\u001b[0m \u001b[0;32mnot\u001b[0m \u001b[0mgraph_backend_names\u001b[0m \u001b[0;32mor\u001b[0m \u001b[0mgraph_backend_names\u001b[0m \u001b[0;34m==\u001b[0m \u001b[0;34m{\u001b[0m\u001b[0mbackend_name\u001b[0m\u001b[0;34m}\u001b[0m\u001b[0;34m:\u001b[0m\u001b[0;34m\u001b[0m\u001b[0;34m\u001b[0m\u001b[0m\n\u001b[1;32m    928\u001b[0m                     \u001b[0;32mif\u001b[0m \u001b[0mself\u001b[0m\u001b[0;34m.\u001b[0m\u001b[0m_can_backend_run\u001b[0m\u001b[0;34m(\u001b[0m\u001b[0mbackend_name\u001b[0m\u001b[0;34m,\u001b[0m \u001b[0margs\u001b[0m\u001b[0;34m,\u001b[0m \u001b[0mkwargs\u001b[0m\u001b[0;34m)\u001b[0m\u001b[0;34m:\u001b[0m\u001b[0;34m\u001b[0m\u001b[0;34m\u001b[0m\u001b[0m\n\u001b[0;32m--> 929\u001b[0;31m                         \u001b[0;32mreturn\u001b[0m \u001b[0mself\u001b[0m\u001b[0;34m.\u001b[0m\u001b[0m_call_with_backend\u001b[0m\u001b[0;34m(\u001b[0m\u001b[0mbackend_name\u001b[0m\u001b[0;34m,\u001b[0m \u001b[0margs\u001b[0m\u001b[0;34m,\u001b[0m \u001b[0mkwargs\u001b[0m\u001b[0;34m)\u001b[0m\u001b[0;34m\u001b[0m\u001b[0;34m\u001b[0m\u001b[0m\n\u001b[0m\u001b[1;32m    930\u001b[0m                 elif self._can_convert(\n\u001b[1;32m    931\u001b[0m                     \u001b[0mbackend_name\u001b[0m\u001b[0;34m,\u001b[0m \u001b[0mgraph_backend_names\u001b[0m\u001b[0;34m\u001b[0m\u001b[0;34m\u001b[0m\u001b[0m\n",
            "\u001b[0;32m/usr/local/lib/python3.12/dist-packages/networkx/utils/backends.py\u001b[0m in \u001b[0;36m_call_with_backend\u001b[0;34m(self, backend_name, args, kwargs, extra_message)\u001b[0m\n\u001b[1;32m   1461\u001b[0m         \u001b[0;34m\"\"\"Call this dispatchable function with a backend without converting inputs.\"\"\"\u001b[0m\u001b[0;34m\u001b[0m\u001b[0;34m\u001b[0m\u001b[0m\n\u001b[1;32m   1462\u001b[0m         \u001b[0;32mif\u001b[0m \u001b[0mbackend_name\u001b[0m \u001b[0;34m==\u001b[0m \u001b[0;34m\"networkx\"\u001b[0m\u001b[0;34m:\u001b[0m\u001b[0;34m\u001b[0m\u001b[0;34m\u001b[0m\u001b[0m\n\u001b[0;32m-> 1463\u001b[0;31m             \u001b[0;32mreturn\u001b[0m \u001b[0mself\u001b[0m\u001b[0;34m.\u001b[0m\u001b[0morig_func\u001b[0m\u001b[0;34m(\u001b[0m\u001b[0;34m*\u001b[0m\u001b[0margs\u001b[0m\u001b[0;34m,\u001b[0m \u001b[0;34m**\u001b[0m\u001b[0mkwargs\u001b[0m\u001b[0;34m)\u001b[0m\u001b[0;34m\u001b[0m\u001b[0;34m\u001b[0m\u001b[0m\n\u001b[0m\u001b[1;32m   1464\u001b[0m         \u001b[0mbackend\u001b[0m \u001b[0;34m=\u001b[0m \u001b[0m_load_backend\u001b[0m\u001b[0;34m(\u001b[0m\u001b[0mbackend_name\u001b[0m\u001b[0;34m)\u001b[0m\u001b[0;34m\u001b[0m\u001b[0;34m\u001b[0m\u001b[0m\n\u001b[1;32m   1465\u001b[0m         _logger.debug(\n",
            "\u001b[0;32m/usr/local/lib/python3.12/dist-packages/networkx/generators/community.py\u001b[0m in \u001b[0;36mstochastic_block_model\u001b[0;34m(sizes, p, nodelist, seed, directed, selfloops, sparse)\u001b[0m\n\u001b[1;32m    577\u001b[0m     \u001b[0;31m# Check if dimensions match\u001b[0m\u001b[0;34m\u001b[0m\u001b[0;34m\u001b[0m\u001b[0m\n\u001b[1;32m    578\u001b[0m     \u001b[0;32mif\u001b[0m \u001b[0mlen\u001b[0m\u001b[0;34m(\u001b[0m\u001b[0msizes\u001b[0m\u001b[0;34m)\u001b[0m \u001b[0;34m!=\u001b[0m \u001b[0mlen\u001b[0m\u001b[0;34m(\u001b[0m\u001b[0mp\u001b[0m\u001b[0;34m)\u001b[0m\u001b[0;34m:\u001b[0m\u001b[0;34m\u001b[0m\u001b[0;34m\u001b[0m\u001b[0m\n\u001b[0;32m--> 579\u001b[0;31m         \u001b[0;32mraise\u001b[0m \u001b[0mnx\u001b[0m\u001b[0;34m.\u001b[0m\u001b[0mNetworkXException\u001b[0m\u001b[0;34m(\u001b[0m\u001b[0;34m\"'sizes' and 'p' do not match.\"\u001b[0m\u001b[0;34m)\u001b[0m\u001b[0;34m\u001b[0m\u001b[0;34m\u001b[0m\u001b[0m\n\u001b[0m\u001b[1;32m    580\u001b[0m     \u001b[0;31m# Check for probability symmetry (undirected) and shape (directed)\u001b[0m\u001b[0;34m\u001b[0m\u001b[0;34m\u001b[0m\u001b[0m\n\u001b[1;32m    581\u001b[0m     \u001b[0;32mfor\u001b[0m \u001b[0mrow\u001b[0m \u001b[0;32min\u001b[0m \u001b[0mp\u001b[0m\u001b[0;34m:\u001b[0m\u001b[0;34m\u001b[0m\u001b[0;34m\u001b[0m\u001b[0m\n",
            "\u001b[0;31mNetworkXException\u001b[0m: 'sizes' and 'p' do not match."
          ]
        }
      ],
      "source": []
    },
    {
      "cell_type": "markdown",
      "id": "c3b2f854",
      "metadata": {
        "id": "c3b2f854"
      },
      "source": [
        "Like in the Erdős–Rényi model, the implementation of ``stochastic_block_model`` in NetworkX might be relatively slow when the probabilities $p_{kl}$ in the matrix $P$ satisfy $$p_{kl} \\approx \\frac{C_{kl}}{n_1 + n_2 + \\ldots + n_r},$$ for some fixed constant $C_{kl} > 0$ for all groups $k$ and $l$. To solve this issue, the NetworkX implementation of ``stochastic_block_model`` has an optional parameter ``sparse`` that changes the generation algorithm of the stochastic block model. Its default value is \"true\" which results in a faster algorithm when the probabilities $p_{kl}$ are small compared to $n_1 + n_2 + \\ldots + n_r$, but a slower algorithm when these values are big."
      ]
    },
    {
      "cell_type": "markdown",
      "id": "b71e9da8",
      "metadata": {
        "id": "b71e9da8"
      },
      "source": [
        "**Exercise 3.** Compare the NetworkX implementation of the stochastic block model for increasing values of $n$ with the following two probability matrices: $$P_1 = \\begin{pmatrix}0.3 & 0.6 \\\\0.6 & 0.4 \\end{pmatrix}, \\qquad \\text{and} \\qquad P_2 = \\begin{pmatrix}0.15 / n & 0.3/n \\\\0.3/n & 0.2/n \\end{pmatrix}. $$ Take $n_1 = n_2 = n/2$ (rounding the values up or down if needed), and consider both the option ``sparse`` to be true, and ``sparse`` to be false. For each value of $n$ you consider, measure the average time the code takes to run over multiple realisations of the model. Then, plot these times on a log-log scale for all probability matrices and ``sparse``-option settings. What do you see?"
      ]
    },
    {
      "cell_type": "code",
      "execution_count": null,
      "id": "203a8a62",
      "metadata": {
        "id": "203a8a62"
      },
      "outputs": [],
      "source": [
        "#Your answer goes here"
      ]
    }
  ],
  "metadata": {
    "kernelspec": {
      "display_name": "Python 3 (ipykernel)",
      "language": "python",
      "name": "python3"
    },
    "language_info": {
      "codemirror_mode": {
        "name": "ipython",
        "version": 3
      },
      "file_extension": ".py",
      "mimetype": "text/x-python",
      "name": "python",
      "nbconvert_exporter": "python",
      "pygments_lexer": "ipython3",
      "version": "3.10.6"
    },
    "colab": {
      "provenance": []
    }
  },
  "nbformat": 4,
  "nbformat_minor": 5
}