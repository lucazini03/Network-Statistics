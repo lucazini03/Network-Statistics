{
  "cells": [
    {
      "cell_type": "markdown",
      "id": "4b8c9e12",
      "metadata": {
        "id": "4b8c9e12"
      },
      "source": [
        "# Introduction to NetworkX\n",
        "\n",
        "In this course we will use the **NetworkX library** for working with networks. This notebook is meant as a very short and basic introduction to using this library. For more information see https://networkx.org/documentation/stable/index.html or https://networkx.org/documentation/stable/tutorial.html for a quick introduction to using the library.\n",
        "\n",
        "We begin with loading in the library"
      ]
    },
    {
      "cell_type": "code",
      "execution_count": 1,
      "id": "30cfea47",
      "metadata": {
        "id": "30cfea47"
      },
      "outputs": [],
      "source": [
        "import networkx as nx"
      ]
    },
    {
      "cell_type": "markdown",
      "id": "145fe298",
      "metadata": {
        "id": "145fe298"
      },
      "source": [
        "## Creating a graph\n",
        "\n",
        "The first thing we need to do is create a graph. This is done by first using the `Graph` function of NetworkX to create a graph object. Then we add nodes to this graphs using `add_node` and finally we create edges using `add_edges`.\n",
        "\n",
        "Below is an example code that creates a triangle graph."
      ]
    },
    {
      "cell_type": "code",
      "execution_count": 2,
      "id": "2e4e8218",
      "metadata": {
        "id": "2e4e8218"
      },
      "outputs": [],
      "source": [
        "### To create a new network from scratch we use the Graph function.\n",
        "\n",
        "triangle_graph = nx.Graph()\n",
        "\n",
        "### This network has no nodes or edges. So lets start by adding three nodes.\n",
        "triangle_graph.add_node(1)\n",
        "triangle_graph.add_node(2)\n",
        "triangle_graph.add_node(3)\n",
        "\n",
        "### Next we add edges to make this network into a triangle\n",
        "triangle_graph.add_edge(1,2)\n",
        "triangle_graph.add_edge(2,3)\n",
        "triangle_graph.add_edge(3,1)"
      ]
    },
    {
      "cell_type": "markdown",
      "id": "c987bbf9",
      "metadata": {
        "id": "c987bbf9"
      },
      "source": [
        "Once a graph is created we can access the nodes and edges in the graph using the `nodes` and `edges` functions. The `nodes` function returns an list with the node labels. The `edges` function returns a lists if *edges* where each edge is again a list of lenght 2."
      ]
    },
    {
      "cell_type": "code",
      "execution_count": 3,
      "id": "2ff6a4e5",
      "metadata": {
        "id": "2ff6a4e5",
        "outputId": "1b527dbf-8700-4a53-c7fd-d8869a622513",
        "colab": {
          "base_uri": "https://localhost:8080/"
        }
      },
      "outputs": [
        {
          "output_type": "stream",
          "name": "stdout",
          "text": [
            "Node 1 is part of the graph\n",
            "Node 2 is part of the graph\n",
            "Node 3 is part of the graph\n",
            "Edge (1, 2) is part of the graph and connects 1 with 2\n",
            "Edge (1, 3) is part of the graph and connects 1 with 3\n",
            "Edge (2, 3) is part of the graph and connects 2 with 3\n"
          ]
        }
      ],
      "source": [
        "### List all nodes and edges in the graph\n",
        "\n",
        "for node in triangle_graph.nodes():\n",
        "    print(f\"Node {node} is part of the graph\")\n",
        "\n",
        "for edge in triangle_graph.edges():\n",
        "    print(f\"Edge {edge} is part of the graph and connects {edge[0]} with {edge[1]}\")"
      ]
    },
    {
      "cell_type": "markdown",
      "id": "4eab3835",
      "metadata": {
        "id": "4eab3835"
      },
      "source": [
        "Instead of first adding each node to the graph and then the edges, we can simply start with adding edges. This is because when an edge is added using `add_edge` each node that is not yet part of the graph is added automatically. Note that this way you will never have a node with $d_i=0$."
      ]
    },
    {
      "cell_type": "code",
      "execution_count": 4,
      "id": "4a8a99e2",
      "metadata": {
        "id": "4a8a99e2",
        "outputId": "e5b7a33c-6cdb-4ef2-9aa0-80c151edd731",
        "colab": {
          "base_uri": "https://localhost:8080/"
        }
      },
      "outputs": [
        {
          "output_type": "stream",
          "name": "stdout",
          "text": [
            "Node 1 is part of the graph\n",
            "Node 2 is part of the graph\n",
            "Node 3 is part of the graph\n"
          ]
        }
      ],
      "source": [
        "### Create the network object\n",
        "triangle_graph_alt = nx.Graph()\n",
        "\n",
        "### Now we directly add the edges to make this network into a triangle\n",
        "triangle_graph_alt.add_edge(1,2)\n",
        "triangle_graph_alt.add_edge(2,3)\n",
        "triangle_graph_alt.add_edge(3,1)\n",
        "\n",
        "\n",
        "### Let's check that all nodes are part of the graph\n",
        "for node in triangle_graph_alt.nodes():\n",
        "    print(f\"Node {node} is part of the graph\")"
      ]
    },
    {
      "cell_type": "markdown",
      "id": "a6749f2c",
      "metadata": {
        "id": "a6749f2c"
      },
      "source": [
        "## Accessing neighbors of nodes\n",
        "\n",
        "When we have a graph we can also list neighbors of given nodes and loop through them. For this we use the `adj` function which returns a dictionary where each entry has a key corresponding to the label of neighbors of a given node. For example `adj[i]` is has as keys the labels of the neighbors of the node whose label is $i$.\n",
        "\n",
        "To demonstrate we will create a graph on 4 nodes that form a square and list all neighbors of node $1$."
      ]
    },
    {
      "cell_type": "code",
      "execution_count": 13,
      "id": "ac68323f",
      "metadata": {
        "scrolled": true,
        "id": "ac68323f",
        "outputId": "5f7c54bf-eacd-46c8-d41a-a2d4d39a6fca",
        "colab": {
          "base_uri": "https://localhost:8080/"
        }
      },
      "outputs": [
        {
          "output_type": "stream",
          "name": "stdout",
          "text": [
            "Number of neighbors of node 1 is 2\n",
            "Number of neighbors of node 1 is 2\n",
            "Node 1 is connected to the following nodes:\n",
            "\t node 2\n",
            "\t node 4\n"
          ]
        }
      ],
      "source": [
        "### Create the square graph\n",
        "square_graph = nx.Graph()\n",
        "\n",
        "square_graph.add_edge(1,2)\n",
        "square_graph.add_edge(2,3)\n",
        "square_graph.add_edge(3,4)\n",
        "square_graph.add_edge(4,1)\n",
        "\n",
        "### Retreive the list of neighbors of node 1\n",
        "neighbors = square_graph.adj[1]\n",
        "\n",
        "### The length of the neighbors is equal to the degree of the node\n",
        "### NOTE: In general it is better to use G.degree[1] to get the degree of node 1\n",
        "print(f\"Number of neighbors of node {1} is {len(neighbors)}\")\n",
        "print(f\"Number of neighbors of node {1} is {square_graph.degree[1]}\")\n",
        "\n",
        "### We can access each neighbor in a loop as follows\n",
        "\n",
        "print(f\"Node {1} is connected to the following nodes:\")\n",
        "for neighbor in neighbors:\n",
        "    print(f\"\\t node {neighbor}\")"
      ]
    },
    {
      "cell_type": "markdown",
      "id": "e28f3a15",
      "metadata": {
        "id": "e28f3a15"
      },
      "source": [
        "We can also loop through all nodes and their neighbors simultaniously using `adjacency`. An example is given below. Note that since the graph is undirected, each edge is visited twice."
      ]
    },
    {
      "cell_type": "code",
      "execution_count": null,
      "id": "deab8b68",
      "metadata": {
        "id": "deab8b68",
        "outputId": "a127cf9a-5986-47e1-a222-acc3e84a8a4c"
      },
      "outputs": [
        {
          "name": "stdout",
          "output_type": "stream",
          "text": [
            "Node 1 is connected to:\n",
            "\t node 2\n",
            "\t node 4\n",
            "Node 2 is connected to:\n",
            "\t node 1\n",
            "\t node 3\n",
            "Node 3 is connected to:\n",
            "\t node 2\n",
            "\t node 4\n",
            "Node 4 is connected to:\n",
            "\t node 3\n",
            "\t node 1\n"
          ]
        }
      ],
      "source": [
        "### Loop over all nodes in the square and their neighbors.\n",
        "for node,neighbors in square_graph.adjacency():\n",
        "    print(f\"Node {node} is connected to:\")\n",
        "    for neighbor in neighbors:\n",
        "        print(f\"\\t node {neighbor}\")"
      ]
    },
    {
      "cell_type": "markdown",
      "id": "4bd5b068",
      "metadata": {
        "id": "4bd5b068"
      },
      "source": [
        "## Exercises"
      ]
    },
    {
      "cell_type": "markdown",
      "id": "37f0013e",
      "metadata": {
        "id": "37f0013e"
      },
      "source": [
        "**Exercise 1**\n",
        "This exercise will help you to practice a bit with the basic functions.\n",
        "\n",
        "1. Create a graph using the code below.\n",
        "2. List all nodes that are neighbors of node $17$ and node $71$.\n",
        "3. Check if there exists a triangle between nodes $3$, $5$ and $7$. If not, add this triangle to the graph."
      ]
    },
    {
      "cell_type": "code",
      "execution_count": 14,
      "id": "f007ef09",
      "metadata": {
        "id": "f007ef09",
        "outputId": "0e360eb8-d986-4cf8-a201-d01c59f244db",
        "colab": {
          "base_uri": "https://localhost:8080/"
        }
      },
      "outputs": [
        {
          "output_type": "stream",
          "name": "stdout",
          "text": [
            "[0, 1, 2, 3, 4, 5, 6, 7, 8, 9, 10, 11, 12, 13, 14, 15, 16, 17, 18, 19, 20, 21, 22, 23, 24, 25, 26, 27, 28, 29, 30, 31, 32, 33, 34, 35, 36, 37, 38, 39, 40, 41, 42, 43, 44, 45, 46, 47, 48, 49, 50, 51, 52, 53, 54, 55, 56, 57, 58, 59, 60, 61, 62, 63, 64, 65, 66, 67, 68, 69, 70, 71, 72, 73, 74, 75, 76, 77, 78, 79, 80, 81, 82, 83, 84, 85, 86, 87, 88, 89, 90, 91, 92, 93, 94, 95, 96, 97, 98, 99]\n"
          ]
        }
      ],
      "source": [
        "### Generate a graph with 100 nodes\n",
        "graph = nx.erdos_renyi_graph(100,0.2)\n",
        "\n",
        "### Note that the nodes are labeled 0 - 99\n",
        "print(graph.nodes())"
      ]
    },
    {
      "cell_type": "code",
      "execution_count": 16,
      "id": "0dffac96",
      "metadata": {
        "collapsed": true,
        "id": "0dffac96",
        "outputId": "3f08ef40-191b-4d0d-d372-ccf22bfeb479",
        "colab": {
          "base_uri": "https://localhost:8080/"
        }
      },
      "outputs": [
        {
          "output_type": "stream",
          "name": "stdout",
          "text": [
            "Node 17 is connected to the following nodes:\n",
            "\t node 3\n",
            "\t node 4\n",
            "\t node 11\n",
            "\t node 22\n",
            "\t node 31\n",
            "\t node 32\n",
            "\t node 33\n",
            "\t node 35\n",
            "\t node 36\n",
            "\t node 42\n",
            "\t node 48\n",
            "\t node 50\n",
            "\t node 53\n",
            "\t node 70\n",
            "\t node 83\n",
            "\t node 85\n",
            "\t node 88\n",
            "\t node 91\n",
            "\t node 94\n",
            "\t node 96\n",
            "\t node 97\n"
          ]
        }
      ],
      "source": [
        "### list all nodes that are neighbors of node 17 and node 71\n",
        "print(f\"Node 17 is connected to the following nodes:\")\n",
        "for neighbor in graph.adj[17]:\n",
        "    print(f\"\\t node {neighbor}\")\n",
        "# print(f\"Node 71 is connected to the following nodes:\")\n",
        "# for neighbor in graph.adj[71]:\n",
        "#     print(f\"\\t node {neighbor}\")"
      ]
    },
    {
      "cell_type": "code",
      "source": [
        "#check if there exists a triangle between nodes 3, 5 and 7\n",
        "if (3 in graph.adj[5]) and (5 in graph.adj[7]) and (7 in graph.adj[3]):\n",
        "    print(\"Triangle exists\")\n",
        "else:\n",
        "    print(\"Triangle does not exist\")\n",
        "    graph.add_edge(3,5)\n",
        "    graph.add_edge(5,7)\n",
        "    graph.add_edge(7,3)\n",
        "    print(\"Triangle added\")"
      ],
      "metadata": {
        "id": "XOdD4DHtgFjW",
        "outputId": "4f5aead9-7091-4af4-a961-b38a3a444b56",
        "colab": {
          "base_uri": "https://localhost:8080/"
        }
      },
      "id": "XOdD4DHtgFjW",
      "execution_count": 18,
      "outputs": [
        {
          "output_type": "stream",
          "name": "stdout",
          "text": [
            "Triangle does not exist\n",
            "Triangle added\n"
          ]
        }
      ]
    },
    {
      "cell_type": "markdown",
      "id": "52646d82",
      "metadata": {
        "id": "52646d82"
      },
      "source": [
        "**Exercise 2**\n",
        "Up to now we have dealt only with undirected graphs but NetworkX also allows for directed graphs. To create a directed graph we need to use `DiGraph` instead of `Graph`.\n",
        "\n",
        "Create a directed graph on 5 nodes such that they form a cycle, i.e. node $i$ is connected to $(i+1) \\mod 5$. Check your code by listing for each node its out-neighbors and in-neighbors. For this you can use the `successors` and `predecessors` function."
      ]
    },
    {
      "cell_type": "code",
      "execution_count": 21,
      "id": "e75b4057",
      "metadata": {
        "id": "e75b4057",
        "outputId": "637560cb-2ca7-41cc-86bd-2f69cb68a2ac",
        "colab": {
          "base_uri": "https://localhost:8080/"
        }
      },
      "outputs": [
        {
          "output_type": "stream",
          "name": "stdout",
          "text": [
            "Node 0 has the following out-neighbors:\n",
            "\t node 1\n",
            "Node 0 has the following in-neighbors:\n",
            "\t node 4\n",
            "Node 1 has the following out-neighbors:\n",
            "\t node 2\n",
            "Node 1 has the following in-neighbors:\n",
            "\t node 0\n",
            "Node 2 has the following out-neighbors:\n",
            "\t node 3\n",
            "Node 2 has the following in-neighbors:\n",
            "\t node 1\n",
            "Node 3 has the following out-neighbors:\n",
            "\t node 4\n",
            "Node 3 has the following in-neighbors:\n",
            "\t node 2\n",
            "Node 4 has the following out-neighbors:\n",
            "\t node 0\n",
            "Node 4 has the following in-neighbors:\n",
            "\t node 3\n"
          ]
        }
      ],
      "source": [
        "### Solution\n",
        "directed_graph = nx.DiGraph()\n",
        "\n",
        "for i in range(5):\n",
        "    directed_graph.add_edge(i,(i+1)%5)\n",
        "\n",
        "for node in directed_graph.nodes():\n",
        "    print(f\"Node {node} has the following out-neighbors:\")\n",
        "    for neighbor in directed_graph.successors(node):\n",
        "        print(f\"\\t node {neighbor}\")\n",
        "    print(f\"Node {node} has the following in-neighbors:\")\n",
        "    for neighbor in directed_graph.predecessors(node):\n",
        "        print(f\"\\t node {neighbor}\")"
      ]
    }
  ],
  "metadata": {
    "kernelspec": {
      "display_name": "Python 3 (ipykernel)",
      "language": "python",
      "name": "python3"
    },
    "language_info": {
      "codemirror_mode": {
        "name": "ipython",
        "version": 3
      },
      "file_extension": ".py",
      "mimetype": "text/x-python",
      "name": "python",
      "nbconvert_exporter": "python",
      "pygments_lexer": "ipython3",
      "version": "3.11.4"
    },
    "colab": {
      "provenance": []
    }
  },
  "nbformat": 4,
  "nbformat_minor": 5
}