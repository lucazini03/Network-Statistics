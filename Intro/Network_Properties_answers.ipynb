{
 "cells": [
  {
   "cell_type": "markdown",
   "id": "604a6acf",
   "metadata": {},
   "source": [
    "# Network properties"
   ]
  },
  {
   "cell_type": "markdown",
   "id": "3e59ad57",
   "metadata": {},
   "source": [
    "In this notebook you will learn how to use the NetworkX library to analyze basic properties of networks."
   ]
  },
  {
   "cell_type": "markdown",
   "id": "3ebaec1a",
   "metadata": {},
   "source": [
    "## Degrees"
   ]
  },
  {
   "cell_type": "markdown",
   "id": "18cba927",
   "metadata": {},
   "source": [
    "The most basic property of a network is the number of connections nodes have, the *degree* of a node. In this notebook we will show how to compute different properties associated to degrees. To illustrate this we first generate a *star graph* where one central is connected to $4$ other nodes."
   ]
  },
  {
   "cell_type": "code",
   "execution_count": 10,
   "id": "066bead3",
   "metadata": {},
   "outputs": [],
   "source": [
    "import networkx as nx"
   ]
  },
  {
   "cell_type": "code",
   "execution_count": 11,
   "id": "0ff7121d",
   "metadata": {},
   "outputs": [],
   "source": [
    "star_graph = nx.Graph()\n",
    "\n",
    "star_graph.add_edge(1,2)\n",
    "star_graph.add_edge(1,3)\n",
    "star_graph.add_edge(1,4)\n",
    "star_graph.add_edge(1,5)"
   ]
  },
  {
   "cell_type": "markdown",
   "id": "3fa16e5f",
   "metadata": {},
   "source": [
    "The degree of a node can be accessed by using the `degree` function of a graph. To get the degree of a node with label $i$ we simply use `degree[i]`. Below we will show this for the star graph by retreiving the degree of node $1$ (the central node) and one of its neighbors."
   ]
  },
  {
   "cell_type": "code",
   "execution_count": 12,
   "id": "53f67e18",
   "metadata": {},
   "outputs": [
    {
     "name": "stdout",
     "output_type": "stream",
     "text": [
      "Node 1 is the center node and has degree 4\n",
      "The other nodes are leaves and have degree 1\n"
     ]
    }
   ],
   "source": [
    "degree_of_node_1 = star_graph.degree[1]\n",
    "\n",
    "print(f\"Node 1 is the center node and has degree {degree_of_node_1}\")\n",
    "\n",
    "### All other nodes have the same degree\n",
    "degree_of_other_nodes = star_graph.degree[2]\n",
    "\n",
    "print(f\"The other nodes are leaves and have degree {degree_of_other_nodes}\")"
   ]
  },
  {
   "cell_type": "markdown",
   "id": "e7ef1b59",
   "metadata": {},
   "source": [
    "We can also directly access all degrees in the graph using the `degree` function. By calling `degree()` we obtain a list whose elements are `(node, degree)`. We can then use this list to compute all relevant properies related to degrees. "
   ]
  },
  {
   "cell_type": "code",
   "execution_count": 13,
   "id": "6a5e3cea",
   "metadata": {},
   "outputs": [
    {
     "name": "stdout",
     "output_type": "stream",
     "text": [
      "[(1, 4), (2, 1), (3, 1), (4, 1), (5, 1)]\n"
     ]
    }
   ],
   "source": [
    "### Here is the list of (node, degree) pairs\n",
    "print(star_graph.degree())"
   ]
  },
  {
   "cell_type": "code",
   "execution_count": 14,
   "id": "80f1143a",
   "metadata": {},
   "outputs": [
    {
     "name": "stdout",
     "output_type": "stream",
     "text": [
      "Node 1 has degree 4\n",
      "Node 2 has degree 1\n",
      "Node 3 has degree 1\n",
      "Node 4 has degree 1\n",
      "Node 5 has degree 1\n"
     ]
    }
   ],
   "source": [
    "### We now loop through this list an report the degree of each node\n",
    "for (node,degree) in star_graph.degree():\n",
    "    print(f\"Node {node} has degree {degree}\")"
   ]
  },
  {
   "cell_type": "markdown",
   "id": "a13cdf3d",
   "metadata": {},
   "source": [
    "By creating a list of all the second values of items in `degree()` we get the sequence of all degrees, which is called the *degree sequence*."
   ]
  },
  {
   "cell_type": "code",
   "execution_count": 15,
   "id": "330b6edd",
   "metadata": {},
   "outputs": [
    {
     "name": "stdout",
     "output_type": "stream",
     "text": [
      "The degree sequence of the network is: [4, 1, 1, 1, 1]\n"
     ]
    }
   ],
   "source": [
    "degree_sequence = [degree for node, degree in star_graph.degree()]\n",
    "print(f\"The degree sequence of the network is: {degree_sequence}\")"
   ]
  },
  {
   "cell_type": "markdown",
   "id": "23571aeb",
   "metadata": {},
   "source": [
    "From the degree sequence we can compute the average degree. Below we show two ways of doing this. The first is the naive method which uses the `number_of_nodes` function from NetworkX to get the number of nodes in the graph. the second one using build-in functions of Python"
   ]
  },
  {
   "cell_type": "code",
   "execution_count": 16,
   "id": "b885052a",
   "metadata": {},
   "outputs": [
    {
     "name": "stdout",
     "output_type": "stream",
     "text": [
      "The average degree of the graph is 1.5999999999999999\n"
     ]
    }
   ],
   "source": [
    "average_degree = 0\n",
    "\n",
    "### Using the num_nodes functions from Network\n",
    "n = nx.number_of_nodes(star_graph)\n",
    "\n",
    "for degree in degree_sequence:\n",
    "    average_degree += degree/n\n",
    "    \n",
    "print(f\"The average degree of the graph is {average_degree}\")"
   ]
  },
  {
   "cell_type": "code",
   "execution_count": 17,
   "id": "1ac2b243",
   "metadata": {},
   "outputs": [
    {
     "name": "stdout",
     "output_type": "stream",
     "text": [
      "The average degree of the graph is still 1.6\n"
     ]
    }
   ],
   "source": [
    "average_degree_alt = sum(degree_sequence)/len(degree_sequence)\n",
    "print(f\"The average degree of the graph is still {average_degree_alt}\")"
   ]
  },
  {
   "cell_type": "markdown",
   "id": "3a50e64f",
   "metadata": {},
   "source": [
    "Another thing we can compute from the degree sequence is the empirical degree distribution $p_n(k)$ and plot. We will show how this works for the start graph using functions from the Python libraries *numpy* and *matplotlib*."
   ]
  },
  {
   "cell_type": "code",
   "execution_count": 18,
   "id": "c24fbb43",
   "metadata": {},
   "outputs": [],
   "source": [
    "import numpy as np\n",
    "import matplotlib.pyplot as plt"
   ]
  },
  {
   "cell_type": "code",
   "execution_count": 19,
   "id": "dd8b2d97",
   "metadata": {},
   "outputs": [
    {
     "name": "stdout",
     "output_type": "stream",
     "text": [
      "The degree density list of the network is: [0.8, 0, 0, 0.2]\n"
     ]
    },
    {
     "data": {
      "image/png": "[encoded data removed]",
      "text/plain": [
       "<Figure size 640x480 with 1 Axes>"
      ]
     },
     "metadata": {},
     "output_type": "display_data"
    }
   ],
   "source": [
    "### First we retreive the total number of nodes in the graph\n",
    "n = nx.number_of_nodes(star_graph)\n",
    "\n",
    "### Next we compute the maximum degree and create a list for the degree density \n",
    "### whose length is equal to the maximum degree\n",
    "max_degree = max(degree_sequence)\n",
    "degree_density = [0]*max_degree\n",
    "\n",
    "### We then loop through the degree values in the degree sequence and for each value\n",
    "### we encounter we increase the corresponding value of degree_density by 1/n\n",
    "for degree in degree_sequence:\n",
    "    degree_density[degree-1] += 1/n\n",
    "\n",
    "### To see the result we output this degree density list\n",
    "print(f\"The degree density list of the network is: {degree_density}\")\n",
    "\n",
    "### Now we plot the degree density. For this we first need to construct the values for the x-axis.\n",
    "### For this we first create a list [0,...,maximum degree - 1, maximum degree] using the arrange function from numpy\n",
    "### and then select the sublist [1, ..., maximum degree]\n",
    "x = np.arange(max_degree+1)\n",
    "x = x[1:len(x)]\n",
    "\n",
    "\n",
    "### We use a bar plot from the mathplotlib for plotting the degree distribution\n",
    "plt.bar(x,degree_density)\n",
    "\n",
    "### We use the xticks function to set the values of the x-axis equal to the integers\n",
    "### corresponding to the degrees [1, ..., maximum degree]\n",
    "plt.xticks(x)\n",
    "\n",
    "### For completeness we add a title and labels for the x- and y-axis\n",
    "plt.title('Degree distribution')\n",
    "plt.xlabel('Degrees k')\n",
    "plt.ylabel('p_n(k)')\n",
    "\n",
    "plt.show()"
   ]
  },
  {
   "cell_type": "markdown",
   "id": "6a93a4da",
   "metadata": {},
   "source": [
    "## Paths and components"
   ]
  },
  {
   "cell_type": "markdown",
   "id": "026f87e9",
   "metadata": {},
   "source": [
    "Next to degrees, another important property of networks has to do with paths. For example, we could be interested in the distance (lenght of the shortest path) between two nodes. Or on a higher level, whether all nodes are connected to each other via a path. The NetworkX provides a wide range of functions for this. Here we will show how to find nodes a give distance from a specific nodes as well as computing the average distance and the connected component to which a node belongs."
   ]
  },
  {
   "cell_type": "markdown",
   "id": "55aa818c",
   "metadata": {},
   "source": [
    "To illustrate the path functions of NetworkX we will use a cycle graph on 7 nodes.\n",
    "\n",
    "*Recall that nodes labels start at $0$ by default.*"
   ]
  },
  {
   "cell_type": "code",
   "execution_count": 20,
   "id": "43b99a1d",
   "metadata": {},
   "outputs": [],
   "source": [
    "C = nx.cycle_graph(7)"
   ]
  },
  {
   "cell_type": "markdown",
   "id": "37a64a9c",
   "metadata": {},
   "source": [
    "If we want to compute the distance between two given nodes we can use the `shortest_path_length` function. Below we show how to compute the distance between node 0 and 5. This shoud be $3$ because the path $0-6-5-4$ is shorter than $0-1-2-3-4$."
   ]
  },
  {
   "cell_type": "code",
   "execution_count": 21,
   "id": "e6cb6adb",
   "metadata": {},
   "outputs": [
    {
     "name": "stdout",
     "output_type": "stream",
     "text": [
      "The distance from 0 to 4 is 3\n"
     ]
    }
   ],
   "source": [
    "distance_0_to_4 = nx.shortest_path_length(C, source=0, target=4)\n",
    "\n",
    "print(f\"The distance from 0 to 4 is {distance_0_to_4}\")"
   ]
  },
  {
   "cell_type": "markdown",
   "id": "6b190104",
   "metadata": {},
   "source": [
    "Instead of looking only at the distance between two given nodes, we can also compute the distances from all nodes to a given node. For this we can again use the `shortest_path_length` function but this time we simply omit the `target` node.\n",
    "\n",
    "Below we list the distance of all nodes to node 0.\n",
    "\n",
    "**NOTE:** The list of distances will only contain those nodes that are connected to the source node"
   ]
  },
  {
   "cell_type": "code",
   "execution_count": 22,
   "id": "d6a596e7",
   "metadata": {},
   "outputs": [
    {
     "name": "stdout",
     "output_type": "stream",
     "text": [
      "The distance between node 0 and node 0 is 0\n",
      "The distance between node 0 and node 1 is 1\n",
      "The distance between node 0 and node 6 is 1\n",
      "The distance between node 0 and node 2 is 2\n",
      "The distance between node 0 and node 5 is 2\n",
      "The distance between node 0 and node 3 is 3\n",
      "The distance between node 0 and node 4 is 3\n"
     ]
    }
   ],
   "source": [
    "list_of_distances = nx.shortest_path_length(C, source=0)\n",
    "\n",
    "for item in list_of_distances:\n",
    "    print(f\"The distance between node 0 and node {item} is {list_of_distances[item]}\")"
   ]
  },
  {
   "cell_type": "markdown",
   "id": "bb024692",
   "metadata": {},
   "source": [
    "If we also do not specify the `source` in the `shortest_path_length` function, we get the entire distance matrix. We show this below for the cycle graph and list all distances. \n",
    "\n",
    "**Note:** To be able to access the distance matrix it efficiently, it is helpful to cast it to a dictionary object using the Python `dict` function."
   ]
  },
  {
   "cell_type": "code",
   "execution_count": 23,
   "id": "d8833718",
   "metadata": {},
   "outputs": [
    {
     "name": "stdout",
     "output_type": "stream",
     "text": [
      "Distance from 0 to 0 is 0\n",
      "Distance from 0 to 1 is 1\n",
      "Distance from 0 to 6 is 1\n",
      "Distance from 0 to 2 is 2\n",
      "Distance from 0 to 5 is 2\n",
      "Distance from 0 to 3 is 3\n",
      "Distance from 0 to 4 is 3\n",
      "Distance from 1 to 1 is 0\n",
      "Distance from 1 to 0 is 1\n",
      "Distance from 1 to 2 is 1\n",
      "Distance from 1 to 3 is 2\n",
      "Distance from 1 to 6 is 2\n",
      "Distance from 1 to 4 is 3\n",
      "Distance from 1 to 5 is 3\n",
      "Distance from 2 to 2 is 0\n",
      "Distance from 2 to 1 is 1\n",
      "Distance from 2 to 3 is 1\n",
      "Distance from 2 to 0 is 2\n",
      "Distance from 2 to 4 is 2\n",
      "Distance from 2 to 5 is 3\n",
      "Distance from 2 to 6 is 3\n",
      "Distance from 3 to 3 is 0\n",
      "Distance from 3 to 2 is 1\n",
      "Distance from 3 to 4 is 1\n",
      "Distance from 3 to 1 is 2\n",
      "Distance from 3 to 5 is 2\n",
      "Distance from 3 to 0 is 3\n",
      "Distance from 3 to 6 is 3\n",
      "Distance from 4 to 4 is 0\n",
      "Distance from 4 to 3 is 1\n",
      "Distance from 4 to 5 is 1\n",
      "Distance from 4 to 2 is 2\n",
      "Distance from 4 to 6 is 2\n",
      "Distance from 4 to 0 is 3\n",
      "Distance from 4 to 1 is 3\n",
      "Distance from 5 to 5 is 0\n",
      "Distance from 5 to 4 is 1\n",
      "Distance from 5 to 6 is 1\n",
      "Distance from 5 to 0 is 2\n",
      "Distance from 5 to 3 is 2\n",
      "Distance from 5 to 1 is 3\n",
      "Distance from 5 to 2 is 3\n",
      "Distance from 6 to 6 is 0\n",
      "Distance from 6 to 0 is 1\n",
      "Distance from 6 to 5 is 1\n",
      "Distance from 6 to 1 is 2\n",
      "Distance from 6 to 4 is 2\n",
      "Distance from 6 to 2 is 3\n",
      "Distance from 6 to 3 is 3\n"
     ]
    }
   ],
   "source": [
    "### The outcome of the shortest_path_lenght function is cast to a dictionary.\n",
    "distance_matrix = dict(nx.shortest_path_length(C))\n",
    "\n",
    "### We can now access the distance from node i to j by calling distance_matrix[i][j]\n",
    "\n",
    "### Let us list all entries in the matrix\n",
    "for source in distance_matrix:\n",
    "    for target in distance_matrix[source]:\n",
    "        print(f\"Distance from {source} to {target} is {distance_matrix[source][target]}\")"
   ]
  },
  {
   "cell_type": "markdown",
   "id": "7ead5cfd",
   "metadata": {},
   "source": [
    "Using the distance matrix we can compute the average distance in the graph. However, NetworkX also has a direct function for this `average_shortest_path_length`."
   ]
  },
  {
   "cell_type": "code",
   "execution_count": 24,
   "id": "603ce70f",
   "metadata": {},
   "outputs": [
    {
     "name": "stdout",
     "output_type": "stream",
     "text": [
      "The average path length of the graph is 2.0\n"
     ]
    }
   ],
   "source": [
    "average_distance = nx.average_shortest_path_length(C)\n",
    "\n",
    "print(f\"The average path length of the graph is {average_distance}\")"
   ]
  },
  {
   "cell_type": "markdown",
   "id": "2efb2210",
   "metadata": {},
   "source": [
    "In addition to paths, NetworkX also has functions for finding the connected components of the graph. To illustrate these functions we should use a graph that has at least two components. For this we again create a cycle graph on 7 nodes and then add a disjoint cycle on 3 nodes.  "
   ]
  },
  {
   "cell_type": "code",
   "execution_count": 25,
   "id": "02d82d9c",
   "metadata": {},
   "outputs": [],
   "source": [
    "### We first create a new cycle graph on 7 nodes\n",
    "D = nx.cycle_graph(7)\n",
    "\n",
    "### Then we add the disjoint triangle\n",
    "D.add_edge(7,8)\n",
    "D.add_edge(7,9)\n",
    "D.add_edge(8,9)"
   ]
  },
  {
   "cell_type": "markdown",
   "id": "8bee63a1",
   "metadata": {},
   "source": [
    "We can now use the `is_connected` function to test if the graph is connected."
   ]
  },
  {
   "cell_type": "code",
   "execution_count": 26,
   "id": "e03aa0ff",
   "metadata": {},
   "outputs": [
    {
     "name": "stdout",
     "output_type": "stream",
     "text": [
      "Is the graph connected: False\n"
     ]
    }
   ],
   "source": [
    "is_connected = nx.is_connected(D)\n",
    "\n",
    "print(f\"Is the graph connected: {is_connected}\")"
   ]
  },
  {
   "cell_type": "markdown",
   "id": "712cdbe1",
   "metadata": {},
   "source": [
    "We can also find the number of components of the graph using `number_connected_components`."
   ]
  },
  {
   "cell_type": "code",
   "execution_count": 27,
   "id": "f43460d0",
   "metadata": {},
   "outputs": [
    {
     "name": "stdout",
     "output_type": "stream",
     "text": [
      "The graph has 2 components\n"
     ]
    }
   ],
   "source": [
    "N_of_components = nx.number_connected_components(D)\n",
    "\n",
    "print(f\"The graph has {N_of_components} components\")"
   ]
  },
  {
   "cell_type": "markdown",
   "id": "c53924d8",
   "metadata": {},
   "source": [
    "Finally, we can find all nodes in the component to which a specific node belongs using `node_connected_component`. To illustrate this we will list all nodes in the component of node 7."
   ]
  },
  {
   "cell_type": "code",
   "execution_count": 28,
   "id": "d50d1d44",
   "metadata": {},
   "outputs": [
    {
     "name": "stdout",
     "output_type": "stream",
     "text": [
      "Node 8 belongs to the component of node 7\n",
      "Node 9 belongs to the component of node 7\n",
      "Node 7 belongs to the component of node 7\n"
     ]
    }
   ],
   "source": [
    "component_7 = nx.node_connected_component(D,7)\n",
    "\n",
    "for node in component_7:\n",
    "    print(f\"Node {node} belongs to the component of node 7\")"
   ]
  },
  {
   "cell_type": "markdown",
   "id": "3ce04c32",
   "metadata": {},
   "source": [
    "## Triangles and clustering"
   ]
  },
  {
   "cell_type": "markdown",
   "id": "a6e999e4",
   "metadata": {},
   "source": [
    "The final property we cover in the notebook is clustering. The NetworkX library has several functions to analyze triangles in a network and compute the clustering coefficient of each nodes and the average over the whole graph. To illustrate this we create a very simple graph consisting of one triangle."
   ]
  },
  {
   "cell_type": "code",
   "execution_count": 29,
   "id": "55efbb7d",
   "metadata": {},
   "outputs": [],
   "source": [
    "triangle_graph = nx.Graph()\n",
    "\n",
    "triangle_graph.add_edge(1,2)\n",
    "triangle_graph.add_edge(2,3)\n",
    "triangle_graph.add_edge(3,1)"
   ]
  },
  {
   "cell_type": "markdown",
   "id": "78cd4420",
   "metadata": {},
   "source": [
    "With the `triangles` function we can obtain a full dictionary that lists for each node how many triangles it is part of."
   ]
  },
  {
   "cell_type": "code",
   "execution_count": 30,
   "id": "9b401644",
   "metadata": {},
   "outputs": [
    {
     "name": "stdout",
     "output_type": "stream",
     "text": [
      "The full output is {1: 1, 2: 1, 3: 1}\n",
      "Node 1 is part of 1 triangle(s)\n",
      "Node 2 is part of 1 triangle(s)\n",
      "Node 3 is part of 1 triangle(s)\n"
     ]
    }
   ],
   "source": [
    "triangle_per_node = nx.triangles(triangle_graph)\n",
    "\n",
    "### The output is a dictionary object\n",
    "print(f\"The full output is {triangle_per_node}\")\n",
    "\n",
    "### We can use this to loop through all nodes and check the number of triangles\n",
    "for node in triangle_per_node:\n",
    "    print(f\"Node {node} is part of {triangle_per_node[node]} triangle(s)\")"
   ]
  },
  {
   "cell_type": "markdown",
   "id": "e3ddda49",
   "metadata": {},
   "source": [
    "If we are only interested in a single node we can simply add its label as the second parameter."
   ]
  },
  {
   "cell_type": "code",
   "execution_count": 31,
   "id": "b1d7e97e",
   "metadata": {},
   "outputs": [
    {
     "name": "stdout",
     "output_type": "stream",
     "text": [
      "Node 2 is part of 1 triangle(s)\n"
     ]
    }
   ],
   "source": [
    "triangles_node_2 = nx.triangles(triangle_graph,2)\n",
    "\n",
    "print(f\"Node 2 is part of {triangles_node_2} triangle(s)\")"
   ]
  },
  {
   "cell_type": "markdown",
   "id": "6cc1daff",
   "metadata": {},
   "source": [
    "We can now combine the result from the `triangles` function with the degrees to compute the average clustering coefficient of each node and hence of the entire graph. However, NetworkX has a function `clustering` that does this for us. It works in a similar way as the `traingles` function."
   ]
  },
  {
   "cell_type": "code",
   "execution_count": 32,
   "id": "828ae8ea",
   "metadata": {},
   "outputs": [
    {
     "name": "stdout",
     "output_type": "stream",
     "text": [
      "The clustering coefficient of node 1 is 1.0\n",
      "The clustering coefficient of node 2 is 1.0\n",
      "The clustering coefficient of node 3 is 1.0\n",
      "Node 2 has clustering coefficient 1.0\n"
     ]
    }
   ],
   "source": [
    "clustering_per_node = nx.clustering(triangle_graph)\n",
    "\n",
    "for node in clustering_per_node:\n",
    "    print(f\"The clustering coefficient of node {node} is {clustering_per_node[node]}\")\n",
    "\n",
    "### If we only want the clustering of a specific node we specify its label.\n",
    "clustering_node_2 = nx.clustering(triangle_graph,2)\n",
    "print(f\"Node 2 has clustering coefficient {clustering_node_2}\")"
   ]
  },
  {
   "cell_type": "markdown",
   "id": "88605241",
   "metadata": {},
   "source": [
    "To compute the average clustering coefficient of the graph we use `average_clustering`."
   ]
  },
  {
   "cell_type": "code",
   "execution_count": 33,
   "id": "a4e7a51d",
   "metadata": {},
   "outputs": [
    {
     "name": "stdout",
     "output_type": "stream",
     "text": [
      "The average clustering coefficient of the graph is 1.0\n"
     ]
    }
   ],
   "source": [
    "cc = nx.average_clustering(triangle_graph)\n",
    "print(f\"The average clustering coefficient of the graph is {cc}\")"
   ]
  },
  {
   "cell_type": "markdown",
   "id": "ac449ea8",
   "metadata": {},
   "source": [
    "## Exercises"
   ]
  },
  {
   "cell_type": "markdown",
   "id": "5cf0d3fb",
   "metadata": {},
   "source": [
    "**Exercise 1**\n",
    "Another way to look at the degrees is to consider the *cummulative distribution function*. This is defined for the degrees as follows: \n",
    "\n",
    "$F_n(k) = \\frac{1}{n} \\sum_{i = 1}^n 1[d_i \\le k]$. \n",
    "\n",
    "Use the method below to create a network, then compute the cummulative distribution function of the degrees and plot it.\n",
    "\n",
    "**Note:** You can use `cumfreq` from the `scipy.stats` library to compute the empirical cdfs. See https://docs.scipy.org/doc/scipy-1.10.1/reference/generated/scipy.stats.cumfreq.html for more info."
   ]
  },
  {
   "cell_type": "code",
   "execution_count": 34,
   "id": "91f994a7",
   "metadata": {},
   "outputs": [],
   "source": [
    "### Generate a graph with 100 nodes\n",
    "G1 = nx.erdos_renyi_graph(100,0.3)"
   ]
  },
  {
   "cell_type": "code",
   "execution_count": 35,
   "id": "9ed0b70a",
   "metadata": {},
   "outputs": [
    {
     "data": {
      "image/png": "[encoded data removed]",
      "text/plain": [
       "<Figure size 640x480 with 1 Axes>"
      ]
     },
     "metadata": {},
     "output_type": "display_data"
    }
   ],
   "source": [
    "from scipy import stats\n",
    "import numpy as np\n",
    "import matplotlib.pyplot as plt\n",
    "\n",
    "degree_sequence = [degree for node, degree in G1.degree()]\n",
    "n = nx.number_of_nodes(G1)\n",
    "max_degree = max(degree_sequence)\n",
    "\n",
    "### Compute the cummulative frequencies\n",
    "res = stats.cumfreq(degree_sequence,numbins=max_degree+1)\n",
    "\n",
    "### Define the values for the x-axis\n",
    "x = np.arange(max_degree+1)\n",
    "\n",
    "### Plot the cdf, which is the fraction of cummulative frequencies\n",
    "### We also add a label\n",
    "plt.plot(x,res.cumcount/n,label=f'F_n(k)')\n",
    "\n",
    "### Add title and legend\n",
    "plt.title('Degree distribution')\n",
    "plt.legend(loc='best', frameon=False)\n",
    "\n",
    "plt.show()"
   ]
  },
  {
   "cell_type": "markdown",
   "id": "337d5ade",
   "metadata": {},
   "source": [
    "**Exercise 2**\n",
    "\n",
    "Use the code below to generate a graph. Then find a node with $d_i > 0$ and list all nodes that are at distance 3 from that node."
   ]
  },
  {
   "cell_type": "code",
   "execution_count": 36,
   "id": "c5bafc4f",
   "metadata": {},
   "outputs": [],
   "source": [
    "import networkx as nx"
   ]
  },
  {
   "cell_type": "code",
   "execution_count": 37,
   "id": "56612c17",
   "metadata": {},
   "outputs": [],
   "source": [
    "### Generate a graph with 100 nodes\n",
    "G2 = nx.erdos_renyi_graph(100,0.02)"
   ]
  },
  {
   "cell_type": "code",
   "execution_count": 38,
   "id": "b2623c00",
   "metadata": {},
   "outputs": [
    {
     "name": "stdout",
     "output_type": "stream",
     "text": [
      "1\n",
      "[36, 5, 7, 18, 51, 25, 91, 63]\n"
     ]
    }
   ],
   "source": [
    "### We start by finding all isolated nodes in the network\n",
    "isolated_nodes = []\n",
    "for node in G2.nodes:\n",
    "    if (G2.degree[node] == 0):\n",
    "        isolated_nodes.append(node)\n",
    "\n",
    "### Then we remove them\n",
    "for isolated_node in isolated_nodes:\n",
    "    G2.remove_node(isolated_node)\n",
    "\n",
    "### Next we create a list of all nodes left and select the first node\n",
    "### from this list\n",
    "nodes = list(G2.nodes())\n",
    "node = nodes[1]\n",
    "print(node)\n",
    "\n",
    "### Then we compute the distances from this node and record all nodes\n",
    "### that are at distance 3\n",
    "\n",
    "nodes_at_distance_3 = []\n",
    "\n",
    "list_of_distances = nx.shortest_path_length(G2, source=node)\n",
    "\n",
    "for item in list_of_distances:\n",
    "    if (list_of_distances[item] == 3):\n",
    "        nodes_at_distance_3.append(item)\n",
    "\n",
    "### Finally we print the results\n",
    "print(nodes_at_distance_3)"
   ]
  },
  {
   "cell_type": "markdown",
   "id": "86c0045f",
   "metadata": {},
   "source": [
    "**Exercise 3** Check if the graph is connected. If not, list how many components it has and compute the size of the largest and smallest component. For this last part the function `connected_components` could be helpful."
   ]
  },
  {
   "cell_type": "code",
   "execution_count": 39,
   "id": "ffd97d75",
   "metadata": {},
   "outputs": [
    {
     "name": "stdout",
     "output_type": "stream",
     "text": [
      "The graph has 3 components\n",
      "The largest component has size 90\n",
      "The smallest component has size 2\n"
     ]
    }
   ],
   "source": [
    "G=G2\n",
    "is_connected = nx.is_connected(G)\n",
    "\n",
    "if is_connected:\n",
    "    print(\"The graph is connected\")\n",
    "else:\n",
    "    N_of_components = nx.number_connected_components(G2)\n",
    "    print(f\"The graph has {N_of_components} components\")\n",
    "    \n",
    "    components = nx.connected_components(G2)\n",
    "    largest_component = max(nx.connected_components(G2), key=len)\n",
    "    smallest_component = min(nx.connected_components(G2), key=len)\n",
    "    \n",
    "    print(f\"The largest component has size {len(largest_component)}\")\n",
    "    print(f\"The smallest component has size {len(smallest_component)}\")"
   ]
  },
  {
   "cell_type": "markdown",
   "id": "a1742b41",
   "metadata": {},
   "source": [
    "**Exercise 4** Use the graph from the previous exercise and find the node with the highest clustering coefficient."
   ]
  },
  {
   "cell_type": "code",
   "execution_count": 40,
   "id": "aff3ef10",
   "metadata": {},
   "outputs": [
    {
     "name": "stdout",
     "output_type": "stream",
     "text": [
      "Node 62 has the largest clustering coefficient 0.16666666666666666\n"
     ]
    }
   ],
   "source": [
    "max_clustering_coefficient = 0\n",
    "node_with_max_clustering = -1\n",
    "\n",
    "clustering_coefficients = nx.clustering(G2)\n",
    "\n",
    "for node in G2.nodes():\n",
    "    clustering = clustering_coefficients[node]\n",
    "    if (clustering > max_clustering_coefficient):\n",
    "        max_clustering_coefficient = clustering\n",
    "        node_with_max_clustering = node\n",
    "\n",
    "print(f\"Node {node_with_max_clustering} has the largest clustering coefficient {max_clustering_coefficient}\")"
   ]
  },
  {
   "cell_type": "markdown",
   "id": "96c7e65c",
   "metadata": {},
   "source": [
    "**Exercise 5** Another way of looking at the clustering of the graph is via the *global clustering coefficient*. This is defined as \n",
    "$$C(G) = \\frac{3\\Delta(G)}{\\wedge(G)},$$\n",
    "where $\\Delta(G)$ is the total number of triangles in $G$ and $\\wedge(G)$ is the total number of wegdes (paths of lenght $2$) in $G$.\n",
    "\n",
    "Compute the global clustering coefficient of the graph from the previous exercise and compare it to the average clustering coefficient."
   ]
  },
  {
   "cell_type": "code",
   "execution_count": 41,
   "id": "6f77ce57",
   "metadata": {},
   "outputs": [
    {
     "name": "stdout",
     "output_type": "stream",
     "text": [
      "The global clustering coefficient of the graph is 0.01195219123505976\n",
      "The global clustering coefficient of the graph is 0.01195219123505976\n",
      "The average clustering coefficient of the graph is 0.004609929078014185\n"
     ]
    }
   ],
   "source": [
    "number_of_triangles = 0\n",
    "number_of_wedges = 0\n",
    "\n",
    "### We first compute the total number of wegdes. For this we loop over all nodes\n",
    "### in the graph. Each node is part of d(d-1)/2 different paths of lenght 2. Here\n",
    "### the factor 2 is to make sure we do not count paths twice.\n",
    "for node in G2.nodes:\n",
    "    degree = G2.degree[node]\n",
    "    number_of_wedges += degree*(degree-1)/2\n",
    "\n",
    "### Next we compute the total number of triangles in the graph\n",
    "triangles = nx.triangles(G2)\n",
    "\n",
    "for node in triangles:\n",
    "    number_of_triangles += triangles[node]\n",
    "\n",
    "gcc = number_of_triangles/number_of_wedges\n",
    "\n",
    "print(f\"The global clustering coefficient of the graph is {gcc}\")\n",
    "\n",
    "### NOTE: This can also be down directly by calling the transitivity function from\n",
    "### the NetworkX library\n",
    "\n",
    "print(f\"The global clustering coefficient of the graph is {nx.transitivity(G2)}\")\n",
    "\n",
    "### Now we compute the average clustering coefficient to compare\n",
    "cc = nx.average_clustering(G2)\n",
    "print(f\"The average clustering coefficient of the graph is {cc}\")"
   ]
  }
 ],
 "metadata": {
  "kernelspec": {
   "display_name": "Python 3",
   "language": "python",
   "name": "python3"
  },
  "language_info": {
   "codemirror_mode": {
    "name": "ipython",
    "version": 3
   },
   "file_extension": ".py",
   "mimetype": "text/x-python",
   "name": "python",
   "nbconvert_exporter": "python",
   "pygments_lexer": "ipython3",
   "version": "3.12.3"
  }
 },
 "nbformat": 4,
 "nbformat_minor": 5
}
