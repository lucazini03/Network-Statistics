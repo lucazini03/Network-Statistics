{
  "cells": [
    {
      "cell_type": "markdown",
      "id": "c4bfa1cf",
      "metadata": {
        "id": "c4bfa1cf"
      },
      "source": [
        "# Network properties"
      ]
    },
    {
      "cell_type": "markdown",
      "id": "6c81a6c8",
      "metadata": {
        "id": "6c81a6c8"
      },
      "source": [
        "In this notebook you will learn how to use the NetworkX library to analyze basic properties of networks."
      ]
    },
    {
      "cell_type": "markdown",
      "id": "37646fcd",
      "metadata": {
        "id": "37646fcd"
      },
      "source": [
        "## Degrees"
      ]
    },
    {
      "cell_type": "markdown",
      "id": "18cba927",
      "metadata": {
        "id": "18cba927"
      },
      "source": [
        "The most basic property of a network is the number of connections nodes have, the *degree* of a node. In this notebook we will show how to compute different properties associated to degrees. To illustrate this we first generate a *star graph* where one central is connected to $4$ other nodes."
      ]
    },
    {
      "cell_type": "code",
      "execution_count": 14,
      "id": "066bead3",
      "metadata": {
        "id": "066bead3"
      },
      "outputs": [],
      "source": [
        "import networkx as nx"
      ]
    },
    {
      "cell_type": "code",
      "execution_count": 15,
      "id": "0ff7121d",
      "metadata": {
        "id": "0ff7121d"
      },
      "outputs": [],
      "source": [
        "star_graph = nx.Graph()\n",
        "\n",
        "star_graph.add_edge(1,2)\n",
        "star_graph.add_edge(1,3)\n",
        "star_graph.add_edge(1,4)\n",
        "star_graph.add_edge(1,5)"
      ]
    },
    {
      "cell_type": "markdown",
      "id": "3fa16e5f",
      "metadata": {
        "id": "3fa16e5f"
      },
      "source": [
        "The degree of a node can be accessed by using the `degree` function of a graph. To get the degree of a node with label $i$ we simply use `degree[i]`. Below we will show this for the star graph by retreiving the degree of node $1$ (the central node) and one of its neighbors."
      ]
    },
    {
      "cell_type": "code",
      "execution_count": 16,
      "id": "53f67e18",
      "metadata": {
        "colab": {
          "base_uri": "https://localhost:8080/"
        },
        "id": "53f67e18",
        "outputId": "9a8ae78a-285b-426f-ca3e-0cade7a4211e"
      },
      "outputs": [
        {
          "name": "stdout",
          "output_type": "stream",
          "text": [
            "Node 1 is the center node and has degree 4\n",
            "The other nodes are leaves and have degree 1\n"
          ]
        }
      ],
      "source": [
        "degree_of_node_1 = star_graph.degree[1]\n",
        "\n",
        "print(f\"Node 1 is the center node and has degree {degree_of_node_1}\")\n",
        "\n",
        "### All other nodes have the same degree\n",
        "degree_of_other_nodes = star_graph.degree[2]\n",
        "\n",
        "print(f\"The other nodes are leaves and have degree {degree_of_other_nodes}\")"
      ]
    },
    {
      "cell_type": "markdown",
      "id": "e7ef1b59",
      "metadata": {
        "id": "e7ef1b59"
      },
      "source": [
        "We can also directly access all degrees in the graph using the `degree` function. By calling `degree()` we obtain a list whose elements are `(node, degree)`. We can then use this list to compute all relevant properies related to degrees."
      ]
    },
    {
      "cell_type": "code",
      "execution_count": 17,
      "id": "6a5e3cea",
      "metadata": {
        "colab": {
          "base_uri": "https://localhost:8080/"
        },
        "id": "6a5e3cea",
        "outputId": "73db6d3e-35c1-4188-b108-57f17d5771d6"
      },
      "outputs": [
        {
          "name": "stdout",
          "output_type": "stream",
          "text": [
            "[(1, 4), (2, 1), (3, 1), (4, 1), (5, 1)]\n"
          ]
        }
      ],
      "source": [
        "### Here is the list of (node, degree) pairs\n",
        "print(star_graph.degree())"
      ]
    },
    {
      "cell_type": "code",
      "execution_count": 18,
      "id": "80f1143a",
      "metadata": {
        "colab": {
          "base_uri": "https://localhost:8080/"
        },
        "id": "80f1143a",
        "outputId": "71887c0c-d149-4d2c-e6f4-59dda1e80f0e"
      },
      "outputs": [
        {
          "name": "stdout",
          "output_type": "stream",
          "text": [
            "Node 1 has degree 4\n",
            "Node 2 has degree 1\n",
            "Node 3 has degree 1\n",
            "Node 4 has degree 1\n",
            "Node 5 has degree 1\n"
          ]
        }
      ],
      "source": [
        "### We now loop through this list and report the degree of each node\n",
        "for (node,degree) in star_graph.degree():\n",
        "    print(f\"Node {node} has degree {degree}\")"
      ]
    },
    {
      "cell_type": "markdown",
      "id": "a13cdf3d",
      "metadata": {
        "id": "a13cdf3d"
      },
      "source": [
        "By creating a list of all the second values of items in `degree()` we get the sequence of all degrees, which is called the *degree sequence*."
      ]
    },
    {
      "cell_type": "code",
      "execution_count": 19,
      "id": "330b6edd",
      "metadata": {
        "colab": {
          "base_uri": "https://localhost:8080/"
        },
        "id": "330b6edd",
        "outputId": "5069743e-e37e-434b-dfb6-eceb62610c69"
      },
      "outputs": [
        {
          "name": "stdout",
          "output_type": "stream",
          "text": [
            "The degree sequence of the network is: [4, 1, 1, 1, 1]\n"
          ]
        }
      ],
      "source": [
        "degree_sequence = [degree for node, degree in star_graph.degree()]\n",
        "print(f\"The degree sequence of the network is: {degree_sequence}\")"
      ]
    },
    {
      "cell_type": "markdown",
      "id": "23571aeb",
      "metadata": {
        "id": "23571aeb"
      },
      "source": [
        "From the degree sequence we can compute the average degree. Below we show two ways of doing this. The first is the naive method which uses the `number_of_nodes` function from NetworkX to get the number of nodes in the graph. the second one using build-in functions of Python"
      ]
    },
    {
      "cell_type": "code",
      "execution_count": 20,
      "id": "b885052a",
      "metadata": {
        "colab": {
          "base_uri": "https://localhost:8080/"
        },
        "id": "b885052a",
        "outputId": "999c5366-7306-4288-bda7-ff0287cb8f3d"
      },
      "outputs": [
        {
          "name": "stdout",
          "output_type": "stream",
          "text": [
            "The average degree of the graph is 1.5999999999999999\n"
          ]
        }
      ],
      "source": [
        "average_degree = 0\n",
        "\n",
        "### Using the num_nodes functions from Network\n",
        "n = nx.number_of_nodes(star_graph)\n",
        "for degree in degree_sequence:\n",
        "    average_degree += degree/n\n",
        "\n",
        "print(f\"The average degree of the graph is {average_degree}\")"
      ]
    },
    {
      "cell_type": "code",
      "execution_count": 21,
      "id": "1ac2b243",
      "metadata": {
        "colab": {
          "base_uri": "https://localhost:8080/"
        },
        "id": "1ac2b243",
        "outputId": "f91d3242-bd39-46cc-8953-a601e21f71b8"
      },
      "outputs": [
        {
          "name": "stdout",
          "output_type": "stream",
          "text": [
            "The average degree of the graph is still 1.6\n"
          ]
        }
      ],
      "source": [
        "average_degree_alt = sum(degree_sequence)/len(degree_sequence)\n",
        "print(f\"The average degree of the graph is still {average_degree_alt}\")"
      ]
    },
    {
      "cell_type": "markdown",
      "id": "3a50e64f",
      "metadata": {
        "id": "3a50e64f"
      },
      "source": [
        "Another thing we can compute from the degree sequence is the empirical degree distribution $p_n(k)$ and plot. We will show how this works for the start graph using functions from the Python libraries *numpy* and *matplotlib*."
      ]
    },
    {
      "cell_type": "code",
      "execution_count": 22,
      "id": "dd8b2d97",
      "metadata": {
        "colab": {
          "base_uri": "https://localhost:8080/",
          "height": 489
        },
        "id": "dd8b2d97",
        "outputId": "4fb3b45b-80c4-4919-abac-3445f8164ee8"
      },
      "outputs": [
        {
          "name": "stdout",
          "output_type": "stream",
          "text": [
            "The degree density list of the network is: [0.8, 0, 0, 0.2]\n"
          ]
        },
        {
          "data": {
            "image/png": "[encoded data removed]",
            "text/plain": [
              "<Figure size 640x480 with 1 Axes>"
            ]
          },
          "metadata": {},
          "output_type": "display_data"
        }
      ],
      "source": [
        "import numpy as np\n",
        "import matplotlib.pyplot as plt\n",
        "\n",
        "### First we retreive the total number of nodes in the graph\n",
        "n = nx.number_of_nodes(star_graph)\n",
        "\n",
        "### Next we compute the maximum degree and create a list for the degree density\n",
        "### whose length is equal to the maximum degree\n",
        "max_degree = max(degree_sequence)\n",
        "degree_density = [0]*max_degree\n",
        "#EXPLANATION: we are creating a list (degree_density) whose length is max_degree. In fact, we want it to represent the density of each of the distinct density values between\n",
        "#1 and max_degree. It makes sense. Then we will 'populate' it by simply iterating over all the nodes, seeing their degree, and adding to the corresponding degree a value of 1/n.\n",
        "#We could also do it by adding 1 and at the end dividing everythign by n, so that we have that the values of degree_density sum up to 1.\n",
        "\n",
        "### We then loop through the degree values in the degree sequence and for each value\n",
        "### we encounter we increase the corresponding value of degree_density by 1/n\n",
        "for degree in degree_sequence:\n",
        "    degree_density[degree-1] += 1/n\n",
        "\n",
        "### To see the result we output this degree density list\n",
        "print(f\"The degree density list of the network is: {degree_density}\")\n",
        "\n",
        "### Now we plot the degree density. For this we first need to construct the values for the x-axis.\n",
        "### For this we first create a list [0,...,maximum degree - 1, maximum degree] using the arrange function from numpy\n",
        "### and then select the sublist [1, ..., maximum degree]\n",
        "x = np.arange(max_degree+1)\n",
        "x = x[1:len(x)]\n",
        "\n",
        "\n",
        "### We use a bar plot from the mathplotlib for plotting the degree distribution\n",
        "plt.bar(x,degree_density)\n",
        "\n",
        "### We use the xticks function to set the values of the x-axis equal to the integers\n",
        "### corresponding to the degrees [1, ..., maximum degree]\n",
        "plt.xticks(x)\n",
        "\n",
        "### For completeness we add a title and labels for the x- and y-axis\n",
        "plt.title('Degree distribution')\n",
        "plt.xlabel('Degrees k')\n",
        "plt.ylabel('p_n(k)')\n",
        "\n",
        "plt.show()"
      ]
    },
    {
      "cell_type": "markdown",
      "id": "6a93a4da",
      "metadata": {
        "id": "6a93a4da"
      },
      "source": [
        "## Paths and components"
      ]
    },
    {
      "cell_type": "markdown",
      "id": "bea94bc9",
      "metadata": {
        "id": "bea94bc9"
      },
      "source": [
        "Next to degrees, another important property of networks has to do with paths. For example, we could be interested in the distance (lenght of the shortest path) between two nodes. Or on a higher level, whether all nodes are connected to each other via a path. The NetworkX provides a wide range of functions for this. Here we will show how to find nodes a give distance from a specific nodes as well as computing the average distance and the connected component to which a node belongs."
      ]
    },
    {
      "cell_type": "markdown",
      "id": "3a142b5a",
      "metadata": {
        "id": "3a142b5a"
      },
      "source": [
        "To illustrate the path functions of NetworkX we will use a cycle graph on 7 nodes.\n",
        "\n",
        "*Recall that nodes labels start at $0$ by default.*"
      ]
    },
    {
      "cell_type": "code",
      "execution_count": 23,
      "id": "43b99a1d",
      "metadata": {
        "colab": {
          "base_uri": "https://localhost:8080/"
        },
        "id": "43b99a1d",
        "outputId": "dc53874b-0fd2-4a6b-e9ab-3fb88d5bb674"
      },
      "outputs": [
        {
          "name": "stdout",
          "output_type": "stream",
          "text": [
            "[(0, 1), (0, 6), (1, 2), (2, 3), (3, 4), (4, 5), (5, 6)]\n"
          ]
        }
      ],
      "source": [
        "C = nx.cycle_graph(7)\n",
        "print(C.edges) #cycle"
      ]
    },
    {
      "cell_type": "markdown",
      "id": "7ba78e4f",
      "metadata": {
        "id": "7ba78e4f"
      },
      "source": [
        "If we want to compute the distance between two given nodes we can use the `shortest_path_length` function. Below we show how to compute the distance between node 0 and 5. This shoud be $3$ because the path $0-6-5-4$ is shorter than $0-1-2-3-4$."
      ]
    },
    {
      "cell_type": "code",
      "execution_count": 24,
      "id": "e6cb6adb",
      "metadata": {
        "colab": {
          "base_uri": "https://localhost:8080/"
        },
        "id": "e6cb6adb",
        "outputId": "294f62c7-8bc2-4b9c-bbe5-4bd7b77de49b"
      },
      "outputs": [
        {
          "name": "stdout",
          "output_type": "stream",
          "text": [
            "The distance from 0 to 4 is 3\n"
          ]
        }
      ],
      "source": [
        "distance_0_to_4 = nx.shortest_path_length(C, source=0, target=4) #The length of the path is always 1 less than the number of nodes involved\n",
        "#in the path since the length measures the number of edges followed.\n",
        "# If only the source is specified, return a dict keyed by target\n",
        "# to the shortest path length from the source to that target.\n",
        "\n",
        "#     If only the target is specified, return a dict keyed by source\n",
        "# to the shortest path length from that source to the target.\n",
        "\n",
        "#     If neither the source nor target are specified, return an iterator\n",
        "# over (source, dictionary) where dictionary is keyed by target to\n",
        "# shortest path length from source to that target.\n",
        "\n",
        "print(f\"The distance from 0 to 4 is {distance_0_to_4}\")"
      ]
    },
    {
      "cell_type": "markdown",
      "id": "1814f7c8",
      "metadata": {
        "id": "1814f7c8"
      },
      "source": [
        "Instead of looking only at the distance between two given nodes, we can also compute the distances from all nodes to a given node. For this we can again use the `shortest_path_length` function but this time we simply omit the `target` node.\n",
        "\n",
        "Below we list the distance of all nodes to node 0.\n",
        "\n",
        "**NOTE:** The list of distances will only contain those nodes that are connected to the source node"
      ]
    },
    {
      "cell_type": "code",
      "execution_count": 25,
      "id": "d6a596e7",
      "metadata": {
        "colab": {
          "base_uri": "https://localhost:8080/"
        },
        "id": "d6a596e7",
        "outputId": "d4955684-f1bf-4dd6-d7a0-eb3805150cb3"
      },
      "outputs": [
        {
          "name": "stdout",
          "output_type": "stream",
          "text": [
            "The distance between node 0 and node 0 is 0\n",
            "The distance between node 0 and node 1 is 1\n",
            "The distance between node 0 and node 6 is 1\n",
            "The distance between node 0 and node 2 is 2\n",
            "The distance between node 0 and node 5 is 2\n",
            "The distance between node 0 and node 3 is 3\n",
            "The distance between node 0 and node 4 is 3\n"
          ]
        }
      ],
      "source": [
        "list_of_distances = nx.shortest_path_length(C, source=0)\n",
        "\n",
        "for item in list_of_distances:\n",
        "    print(f\"The distance between node 0 and node {item} is {list_of_distances[item]}\")"
      ]
    },
    {
      "cell_type": "markdown",
      "id": "0bc03380",
      "metadata": {
        "id": "0bc03380"
      },
      "source": [
        "If we also do not specify the `source` in the `shortest_path_length` function, we get the entire distance matrix. We show this below for the cycle graph and list all distances.\n",
        "\n",
        "**Note:** To be able to access the distance matrix it efficiently, it is helpful to cast it to a dictionary object using the Python `dict` function."
      ]
    },
    {
      "cell_type": "code",
      "execution_count": 26,
      "id": "d8833718",
      "metadata": {
        "colab": {
          "base_uri": "https://localhost:8080/"
        },
        "id": "d8833718",
        "outputId": "ea854d90-78e4-4059-97c6-02e014b43516"
      },
      "outputs": [
        {
          "name": "stdout",
          "output_type": "stream",
          "text": [
            "Distance from 0 to 0 is 0\n",
            "Distance from 0 to 1 is 1\n",
            "Distance from 0 to 6 is 1\n",
            "Distance from 0 to 2 is 2\n",
            "Distance from 0 to 5 is 2\n",
            "Distance from 0 to 3 is 3\n",
            "Distance from 0 to 4 is 3\n",
            "Distance from 1 to 1 is 0\n",
            "Distance from 1 to 0 is 1\n",
            "Distance from 1 to 2 is 1\n",
            "Distance from 1 to 3 is 2\n",
            "Distance from 1 to 6 is 2\n",
            "Distance from 1 to 4 is 3\n",
            "Distance from 1 to 5 is 3\n",
            "Distance from 2 to 2 is 0\n",
            "Distance from 2 to 1 is 1\n",
            "Distance from 2 to 3 is 1\n",
            "Distance from 2 to 0 is 2\n",
            "Distance from 2 to 4 is 2\n",
            "Distance from 2 to 5 is 3\n",
            "Distance from 2 to 6 is 3\n",
            "Distance from 3 to 3 is 0\n",
            "Distance from 3 to 2 is 1\n",
            "Distance from 3 to 4 is 1\n",
            "Distance from 3 to 1 is 2\n",
            "Distance from 3 to 5 is 2\n",
            "Distance from 3 to 0 is 3\n",
            "Distance from 3 to 6 is 3\n",
            "Distance from 4 to 4 is 0\n",
            "Distance from 4 to 3 is 1\n",
            "Distance from 4 to 5 is 1\n",
            "Distance from 4 to 2 is 2\n",
            "Distance from 4 to 6 is 2\n",
            "Distance from 4 to 0 is 3\n",
            "Distance from 4 to 1 is 3\n",
            "Distance from 5 to 5 is 0\n",
            "Distance from 5 to 4 is 1\n",
            "Distance from 5 to 6 is 1\n",
            "Distance from 5 to 0 is 2\n",
            "Distance from 5 to 3 is 2\n",
            "Distance from 5 to 1 is 3\n",
            "Distance from 5 to 2 is 3\n",
            "Distance from 6 to 6 is 0\n",
            "Distance from 6 to 0 is 1\n",
            "Distance from 6 to 5 is 1\n",
            "Distance from 6 to 1 is 2\n",
            "Distance from 6 to 4 is 2\n",
            "Distance from 6 to 2 is 3\n",
            "Distance from 6 to 3 is 3\n"
          ]
        }
      ],
      "source": [
        "### The outcome of the shortest_path_lenght function is cast to a dictionary.\n",
        "distance_matrix = dict(nx.shortest_path_length(C))\n",
        "\n",
        "### We can now access the distance from node i to j by calling distance_matrix[i][j]\n",
        "\n",
        "### Let us list all entries in the matrix\n",
        "for source in distance_matrix:\n",
        "    for target in distance_matrix[source]:\n",
        "        print(f\"Distance from {source} to {target} is {distance_matrix[source][target]}\")"
      ]
    },
    {
      "cell_type": "markdown",
      "id": "9d470718",
      "metadata": {
        "id": "9d470718"
      },
      "source": [
        "Using the distance matrix we can compute the average distance in the graph. However, NetworkX also has a direct function for this `average_shortest_path_length`."
      ]
    },
    {
      "cell_type": "code",
      "execution_count": 27,
      "id": "4559ed7c",
      "metadata": {
        "colab": {
          "base_uri": "https://localhost:8080/"
        },
        "id": "4559ed7c",
        "outputId": "715803b8-d399-4370-e763-d96525fc2ae7"
      },
      "outputs": [
        {
          "name": "stdout",
          "output_type": "stream",
          "text": [
            "The average path length of the graph is 2.0\n"
          ]
        }
      ],
      "source": [
        "average_distance = nx.average_shortest_path_length(C)\n",
        "\n",
        "print(f\"The average path length of the graph is {average_distance}\")"
      ]
    },
    {
      "cell_type": "markdown",
      "id": "bfd4235b",
      "metadata": {
        "id": "bfd4235b"
      },
      "source": [
        "In addition to paths, NetworkX also has functions for finding the connected components of the graph. To illustrate these functions we should use a graph that has at least two components. For this we again create a cycle graph on 7 nodes and then add a disjoint cycle on 3 nodes.  "
      ]
    },
    {
      "cell_type": "code",
      "execution_count": 28,
      "id": "9ccc8a23",
      "metadata": {
        "id": "9ccc8a23"
      },
      "outputs": [],
      "source": [
        "### We first create a new cycle graph on 7 nodes\n",
        "D = nx.cycle_graph(7)\n",
        "\n",
        "### Then we add the disjoint triangle\n",
        "D.add_edge(7,8)\n",
        "D.add_edge(7,9)\n",
        "D.add_edge(8,9)"
      ]
    },
    {
      "cell_type": "markdown",
      "id": "zV-YY5BVnzwv",
      "metadata": {
        "id": "zV-YY5BVnzwv"
      },
      "source": [
        "In graph theory, a connected component is a maximal set of nodes such that:\n",
        "\n",
        "- Every node in the set can be reached from every other node in the set (via some path).\n",
        "\n",
        "- The set is as large as possible without breaking that property.\n",
        "\n",
        "You built a graph with two disjoint cycles:\n",
        "\n",
        "- A cycle on 7 nodes: 0–1–2–3–4–5–6–0.\n",
        "- A triangle on 3 nodes: 7–8–9–7.\n",
        "\n",
        "That means you actually have two connected components:\n",
        "- Component A: {0,1,2,3,4,5,6}\n",
        "- Component B: {7,8,9}\n",
        "\n",
        "There are no edges between these two sets, so you can’t get from, say, node 0 to node 7. This means that graph is NOT connected, and the number of connected components is 2."
      ]
    },
    {
      "cell_type": "markdown",
      "id": "579f733b",
      "metadata": {
        "id": "579f733b"
      },
      "source": [
        "We can now use the `is_connected` function to test if the graph is connected."
      ]
    },
    {
      "cell_type": "code",
      "execution_count": 29,
      "id": "c7928860",
      "metadata": {
        "colab": {
          "base_uri": "https://localhost:8080/"
        },
        "id": "c7928860",
        "outputId": "ba69bdcb-3c46-452f-d09b-34fdc47bdfb8"
      },
      "outputs": [
        {
          "name": "stdout",
          "output_type": "stream",
          "text": [
            "Is the graph connected: False\n"
          ]
        }
      ],
      "source": [
        "is_connected = nx.is_connected(D)\n",
        "\n",
        "print(f\"Is the graph connected: {is_connected}\")"
      ]
    },
    {
      "cell_type": "markdown",
      "id": "d2c0f4ed",
      "metadata": {
        "id": "d2c0f4ed"
      },
      "source": [
        "We can also find the number of components of the graph using `number_connected_components`."
      ]
    },
    {
      "cell_type": "code",
      "execution_count": 30,
      "id": "010ec98b",
      "metadata": {
        "colab": {
          "base_uri": "https://localhost:8080/"
        },
        "id": "010ec98b",
        "outputId": "fe9062ea-54bd-4de4-90bb-2c053002f914"
      },
      "outputs": [
        {
          "name": "stdout",
          "output_type": "stream",
          "text": [
            "The graph has 2 components\n"
          ]
        }
      ],
      "source": [
        "N_of_components = nx.number_connected_components(D)\n",
        "\n",
        "print(f\"The graph has {N_of_components} components\")"
      ]
    },
    {
      "cell_type": "markdown",
      "id": "e1f91e31",
      "metadata": {
        "id": "e1f91e31"
      },
      "source": [
        "Finally, we can find all nodes in the component to which a specific node belongs using `node_connected_component`. To illustrate this we will list all nodes in the component of node 7."
      ]
    },
    {
      "cell_type": "code",
      "execution_count": 31,
      "id": "d9a952d1",
      "metadata": {
        "colab": {
          "base_uri": "https://localhost:8080/"
        },
        "id": "d9a952d1",
        "outputId": "b3fb2d5e-c22d-4f10-f0cb-286bb847fda3"
      },
      "outputs": [
        {
          "name": "stdout",
          "output_type": "stream",
          "text": [
            "Node 8 belongs to the component of node 7\n",
            "Node 9 belongs to the component of node 7\n",
            "Node 7 belongs to the component of node 7\n"
          ]
        }
      ],
      "source": [
        "component_7 = nx.node_connected_component(D,7)\n",
        "\n",
        "for node in component_7:\n",
        "    print(f\"Node {node} belongs to the component of node 7\")"
      ]
    },
    {
      "cell_type": "markdown",
      "id": "cba6943e",
      "metadata": {
        "id": "cba6943e"
      },
      "source": [
        "## Triangles and clustering"
      ]
    },
    {
      "cell_type": "markdown",
      "id": "6943ed3d",
      "metadata": {
        "id": "6943ed3d"
      },
      "source": [
        "The final property we cover in the notebook is clustering. The NetworkX library has several functions to analyze triangles in a network and compute the clustering coefficient of each nodes and the average over the whole graph. To illustrate this we create a very simple graph consisting of one triangle."
      ]
    },
    {
      "cell_type": "code",
      "execution_count": 32,
      "id": "31eb812d",
      "metadata": {
        "id": "31eb812d"
      },
      "outputs": [],
      "source": [
        "triangle_graph = nx.Graph()\n",
        "\n",
        "triangle_graph.add_edge(1,2)\n",
        "triangle_graph.add_edge(2,3)\n",
        "triangle_graph.add_edge(3,1)"
      ]
    },
    {
      "cell_type": "markdown",
      "id": "18c86402",
      "metadata": {
        "id": "18c86402"
      },
      "source": [
        "With the `triangles` function we can obtain a full dictionary that lists for each node how many triangles it is part of."
      ]
    },
    {
      "cell_type": "code",
      "execution_count": 33,
      "id": "f2391cfb",
      "metadata": {
        "colab": {
          "base_uri": "https://localhost:8080/"
        },
        "id": "f2391cfb",
        "outputId": "8daef839-9241-4a8e-a5b6-c22c795c1a10"
      },
      "outputs": [
        {
          "name": "stdout",
          "output_type": "stream",
          "text": [
            "The full output is {1: 1, 2: 1, 3: 1}\n",
            "Node 1 is part of 1 triangle(s)\n",
            "Node 2 is part of 1 triangle(s)\n",
            "Node 3 is part of 1 triangle(s)\n"
          ]
        }
      ],
      "source": [
        "triangle_per_node = nx.triangles(triangle_graph)\n",
        "\n",
        "### The output is a dictionary object\n",
        "print(f\"The full output is {triangle_per_node}\")\n",
        "\n",
        "### We can use this to loop through all nodes and check the number of triangles\n",
        "for node in triangle_per_node:\n",
        "    print(f\"Node {node} is part of {triangle_per_node[node]} triangle(s)\")"
      ]
    },
    {
      "cell_type": "markdown",
      "id": "63043ed0",
      "metadata": {
        "id": "63043ed0"
      },
      "source": [
        "If we are only interested in a single node we can simply add its label as the second parameter."
      ]
    },
    {
      "cell_type": "code",
      "execution_count": 34,
      "id": "dc797632",
      "metadata": {
        "colab": {
          "base_uri": "https://localhost:8080/"
        },
        "id": "dc797632",
        "outputId": "0d2f1319-b1b2-4374-93de-09bf36ff61bf"
      },
      "outputs": [
        {
          "name": "stdout",
          "output_type": "stream",
          "text": [
            "Node 2 is part of 1 triangle(s)\n"
          ]
        }
      ],
      "source": [
        "triangles_node_2 = nx.triangles(triangle_graph,2)\n",
        "\n",
        "print(f\"Node 2 is part of {triangles_node_2} triangle(s)\")"
      ]
    },
    {
      "cell_type": "markdown",
      "id": "90eccaeb",
      "metadata": {
        "id": "90eccaeb"
      },
      "source": [
        "We can now combine the result from the `triangles` function with the degrees to compute the average clustering coefficient of each node and hence of the entire graph. However, NetworkX has a function `clustering` that does this for us. It works in a similar way as the `triangles` function."
      ]
    },
    {
      "cell_type": "code",
      "execution_count": 35,
      "id": "e56bdf51",
      "metadata": {
        "colab": {
          "base_uri": "https://localhost:8080/"
        },
        "id": "e56bdf51",
        "outputId": "71a4e254-4008-4608-90b5-a6016e0c7b2e"
      },
      "outputs": [
        {
          "name": "stdout",
          "output_type": "stream",
          "text": [
            "The clustering coefficient of node 1 is 1.0\n",
            "The clustering coefficient of node 2 is 1.0\n",
            "The clustering coefficient of node 3 is 1.0\n",
            "Node 2 has clustering coefficient 1.0\n"
          ]
        }
      ],
      "source": [
        "clustering_per_node = nx.clustering(triangle_graph)\n",
        "\n",
        "for node in clustering_per_node:\n",
        "    print(f\"The clustering coefficient of node {node} is {clustering_per_node[node]}\")\n",
        "\n",
        "### If we only want the clustering of a specific node we specify its label.\n",
        "clustering_node_2 = nx.clustering(triangle_graph,2)\n",
        "print(f\"Node 2 has clustering coefficient {clustering_node_2}\")"
      ]
    },
    {
      "cell_type": "markdown",
      "id": "3393a4fb",
      "metadata": {
        "id": "3393a4fb"
      },
      "source": [
        "To compute the average clustering coefficient of the graph we use `average_clustering`."
      ]
    },
    {
      "cell_type": "code",
      "execution_count": 36,
      "id": "0bea2524",
      "metadata": {
        "colab": {
          "base_uri": "https://localhost:8080/"
        },
        "id": "0bea2524",
        "outputId": "b73c1719-3d8e-49eb-fed2-848fbf268e95"
      },
      "outputs": [
        {
          "name": "stdout",
          "output_type": "stream",
          "text": [
            "The average clustering coefficient of the graph is 1.0\n"
          ]
        }
      ],
      "source": [
        "cc = nx.average_clustering(triangle_graph)\n",
        "print(f\"The average clustering coefficient of the graph is {cc}\")"
      ]
    },
    {
      "cell_type": "markdown",
      "id": "525e324b",
      "metadata": {
        "id": "525e324b"
      },
      "source": [
        "## Exercises"
      ]
    },
    {
      "cell_type": "markdown",
      "id": "9c8e1be4",
      "metadata": {
        "id": "9c8e1be4"
      },
      "source": [
        "**Exercise 1**\n",
        "Another way to look at the degrees is to consider the *cummulative distribution function*. This is defined for the degrees as follows:\n",
        "\n",
        "$F_n(k) = \\frac{1}{n} \\sum_{i = 1}^n 1[d_i \\le k]$.\n",
        "\n",
        "- n is the number of nodes\n",
        "- d_i is the degree of node i (how many neighbors it has)\n",
        "- 1[d_i < k] is an indicator function: it equals 1 if the condition inside the [] is true, otherwise it is 0\n",
        "\n",
        "Overall, this asks: What fraction of nodes have degree ≤ k?\n",
        "If F(3)=0.6, it means that 60% of nodes have degree <= 3.\n",
        "\n",
        "Use the method below to create a network, then compute the cummulative distribution function of the degrees and plot it.\n",
        "\n",
        "**Note:** You can use `cumfreq` from the `scipy.stats` library to compute the empirical cdfs. See https://docs.scipy.org/doc/scipy-1.10.1/reference/generated/scipy.stats.cumfreq.html for more info."
      ]
    },
    {
      "cell_type": "code",
      "execution_count": 37,
      "id": "2b57e064",
      "metadata": {
        "colab": {
          "base_uri": "https://localhost:8080/",
          "height": 487
        },
        "id": "2b57e064",
        "outputId": "7f05f942-c7ce-426b-8b46-10d47e551b78"
      },
      "outputs": [
        {
          "data": {
            "image/png": "[encoded data removed]",
            "text/plain": [
              "<Figure size 700x500 with 1 Axes>"
            ]
          },
          "metadata": {},
          "output_type": "display_data"
        }
      ],
      "source": [
        "import networkx as nx\n",
        "import matplotlib.pyplot as plt\n",
        "import numpy as np\n",
        "from scipy.stats import cumfreq\n",
        "\n",
        "# 1. Generate a graph with 100\n",
        "G1 = nx.erdos_renyi_graph(100, 0.3)\n",
        "\n",
        "# 2. Get degrees of all nodes\n",
        "degrees = [d for _, d in G1.degree()]\n",
        "\n",
        "# 3. Compute cumulative frequency (empirical CDF)\n",
        "res = cumfreq(degrees, numbins=max(degrees)+1)\n",
        "\n",
        "# Extract values\n",
        "cum_values = res.cumcount / len(degrees)  # normalize to get fraction\n",
        "x = np.linspace(0, max(degrees), num=len(cum_values))\n",
        "\n",
        "# 4. Plot CDF\n",
        "plt.figure(figsize=(7,5))\n",
        "plt.step(x, cum_values, where=\"post\", label=\"Empirical CDF\")\n",
        "plt.xlabel(\"Degree k\")\n",
        "plt.ylabel(\"F_n(k) = P(degree ≤ k)\")\n",
        "plt.title(\"Cumulative Distribution Function of Node Degrees\")\n",
        "plt.grid(True, linestyle=\"--\", alpha=0.6)\n",
        "plt.legend()\n",
        "plt.show()\n"
      ]
    },
    {
      "cell_type": "code",
      "execution_count": 38,
      "id": "w7T6pu2Lts56",
      "metadata": {
        "colab": {
          "base_uri": "https://localhost:8080/"
        },
        "id": "w7T6pu2Lts56",
        "outputId": "f6f3c585-7124-40c5-b673-b91976d3ef01"
      },
      "outputs": [
        {
          "name": "stdout",
          "output_type": "stream",
          "text": [
            "0.01\n"
          ]
        }
      ],
      "source": [
        "print(cum_values[0])"
      ]
    },
    {
      "cell_type": "markdown",
      "id": "8231c776",
      "metadata": {
        "id": "8231c776"
      },
      "source": [
        "**Exercise 2**\n",
        "\n",
        "Use the code below to generate a graph. Then find a node with $d_i > 0$ and list all nodes that are at distance 3 from that node."
      ]
    },
    {
      "cell_type": "code",
      "execution_count": 39,
      "id": "a8228d99",
      "metadata": {
        "id": "a8228d99"
      },
      "outputs": [],
      "source": [
        "### Generate a graph with 100 nodes\n",
        "G2 = nx.erdos_renyi_graph(100,0.02)"
      ]
    },
    {
      "cell_type": "code",
      "execution_count": 40,
      "id": "813ac2d8",
      "metadata": {
        "colab": {
          "base_uri": "https://localhost:8080/"
        },
        "id": "813ac2d8",
        "outputId": "44556632-1ab0-4d58-9953-e234958b311b"
      },
      "outputs": [
        {
          "name": "stdout",
          "output_type": "stream",
          "text": [
            "99\n"
          ]
        }
      ],
      "source": [
        "### Solution\n",
        "for node in G2.nodes:\n",
        "    if G2.degree[node] > 0:\n",
        "        #print(f\"Node {node} has degree {G2.degree[node]}\")\n",
        "        our_node = node\n",
        "print(our_node)"
      ]
    },
    {
      "cell_type": "code",
      "execution_count": 41,
      "id": "Xyp_AuacunpU",
      "metadata": {
        "id": "Xyp_AuacunpU"
      },
      "outputs": [
        {
          "name": "stdout",
          "output_type": "stream",
          "text": [
            "64\n",
            "2\n",
            "70\n",
            "41\n",
            "73\n",
            "9\n",
            "76\n",
            "83\n",
            "22\n",
            "56\n",
            "89\n",
            "54\n",
            "51\n",
            "25\n"
          ]
        }
      ],
      "source": [
        "for node in nx.shortest_path_length(G2, source=our_node):\n",
        "    if nx.shortest_path_length(G2, source=our_node, target=node)== 3:\n",
        "        print(node)"
      ]
    },
    {
      "cell_type": "markdown",
      "id": "66235c10",
      "metadata": {
        "id": "66235c10"
      },
      "source": [
        "**Exercise 3** Check if the graph is connected. If not, list how many components it has and compute the size of the largest and smallest component. For this last part the function `connected_components` could be helpful."
      ]
    },
    {
      "cell_type": "code",
      "execution_count": 42,
      "id": "6e34cb55",
      "metadata": {
        "colab": {
          "base_uri": "https://localhost:8080/"
        },
        "id": "6e34cb55",
        "outputId": "c98c5ca0-dc47-4ee4-f25c-7ed77091ad5a"
      },
      "outputs": [
        {
          "name": "stdout",
          "output_type": "stream",
          "text": [
            "False\n",
            "It has 21 components\n",
            "Size of the largest component: 72\n",
            "Size of the smallest component: 1\n",
            "Component size: 72\n",
            "Component size: 3\n",
            "Component size: 1\n",
            "Component size: 4\n",
            "Component size: 1\n",
            "Component size: 1\n",
            "Component size: 1\n",
            "Component size: 1\n",
            "Component size: 1\n",
            "Component size: 1\n",
            "Component size: 1\n",
            "Component size: 1\n",
            "Component size: 4\n",
            "Component size: 1\n",
            "Component size: 1\n",
            "Component size: 1\n",
            "Component size: 1\n",
            "Component size: 1\n",
            "Component size: 1\n",
            "Component size: 1\n",
            "Component size: 1\n"
          ]
        }
      ],
      "source": [
        "### Solution\n",
        "is_connected = nx.is_connected(G2)\n",
        "print(is_connected)\n",
        "\n",
        "components = list(nx.connected_components(G2)) # Convert the generator to a list\n",
        "print(f'It has {len(components)} components')\n",
        "\n",
        "# Find the size of the largest and smallest components\n",
        "largest_component_size = max(len(c) for c in components)\n",
        "smallest_component_size = min(len(c) for c in components)\n",
        "\n",
        "print(f\"Size of the largest component: {largest_component_size}\")\n",
        "print(f\"Size of the smallest component: {smallest_component_size}\")\n",
        "\n",
        "for component in components:\n",
        "    print(f\"Component size: {len(component)}\")"
      ]
    },
    {
      "cell_type": "markdown",
      "id": "5b6813c9",
      "metadata": {
        "id": "5b6813c9"
      },
      "source": [
        "**Exercise 4** Use the graph from the previous exercise and find the node with the highest clustering coefficient."
      ]
    },
    {
      "cell_type": "code",
      "execution_count": 51,
      "id": "166d001e",
      "metadata": {
        "colab": {
          "base_uri": "https://localhost:8080/"
        },
        "id": "166d001e",
        "outputId": "52225595-0f34-4e9f-c463-8dab6fce110e"
      },
      "outputs": [
        {
          "name": "stdout",
          "output_type": "stream",
          "text": [
            "Node 24 has the largest clustering coefficient 1.0\n"
          ]
        }
      ],
      "source": [
        "max_clustering_coefficient = 0\n",
        "node_with_max_clustering = -1\n",
        "\n",
        "clustering_coefficients = nx.clustering(G2)\n",
        "\n",
        "for node in G2.nodes():\n",
        "    clustering = clustering_coefficients[node]\n",
        "    if (clustering > max_clustering_coefficient):\n",
        "        max_clustering_coefficient = clustering\n",
        "        node_with_max_clustering = node\n",
        "\n",
        "print(f\"Node {node_with_max_clustering} has the largest clustering coefficient {max_clustering_coefficient}\")"
      ]
    },
    {
      "cell_type": "markdown",
      "id": "deb4188c",
      "metadata": {
        "id": "deb4188c"
      },
      "source": [
        "**Exercise 5** Another way of looking at the clustering of the graph is via the *global clustering coefficient*. This is defined as\n",
        "$$C(G) = \\frac{3\\Delta(G)}{\\wedge(G)},$$\n",
        "where $\\Delta(G)$ is the total number of triangles in $G$ and $\\wedge(G)$ is the total number of wegdes (paths of lenght $2$) in $G$.\n",
        "\n",
        "Compute the global clustering coefficient of the graph from the previous exercise and compare it to the average clustering coefficient."
      ]
    },
    {
      "cell_type": "code",
      "execution_count": 44,
      "id": "38d1fc23",
      "metadata": {
        "colab": {
          "base_uri": "https://localhost:8080/"
        },
        "id": "38d1fc23",
        "outputId": "bf7e479b-e121-4dd7-e194-8af878344d63"
      },
      "outputs": [
        {
          "name": "stdout",
          "output_type": "stream",
          "text": [
            "Global Clustering Coefficient C(G): 0.02564102564102564\n",
            "Average Clustering Coefficient: 0.007666666666666666\n"
          ]
        }
      ],
      "source": [
        "G2 = nx.erdos_renyi_graph(100, 0.02)\n",
        "\n",
        "# Compute global clustering coefficient\n",
        "triangles_per_node = nx.triangles(G2)\n",
        "total_triangles = sum(triangles_per_node.values()) // 3 #divided by 3 (since each triangle is counted three times, once for each node).\n",
        "\n",
        "wedges = 0\n",
        "for node in G2.nodes():\n",
        "    k = G2.degree(node)\n",
        "    wedges += k * (k-1) // 2 #binomial. if a node has degree k, it means that it has k neighbors, and therefore (k 2) possible wedges centered on that node.\n",
        "\n",
        "if wedges == 0:\n",
        "    global_clustering = 0\n",
        "else:\n",
        "    global_clustering = (3 * total_triangles) / wedges\n",
        "\n",
        "# Compute average clustering coefficient\n",
        "avg_clustering = nx.average_clustering(G2)\n",
        "\n",
        "print(\"Global Clustering Coefficient C(G):\", global_clustering)\n",
        "print(\"Average Clustering Coefficient:\", avg_clustering)"
      ]
    },
    {
      "cell_type": "code",
      "execution_count": 45,
      "id": "C7EHVGKo-HPt",
      "metadata": {
        "colab": {
          "base_uri": "https://localhost:8080/",
          "height": 444
        },
        "id": "C7EHVGKo-HPt",
        "outputId": "e6009c0b-b926-49c9-94c7-3ba45540a2f2"
      },
      "outputs": [
        {
          "data": {
            "image/png": "[encoded data removed]",
            "text/plain": [
              "<Figure size 600x500 with 1 Axes>"
            ]
          },
          "metadata": {},
          "output_type": "display_data"
        }
      ],
      "source": [
        "import networkx as nx\n",
        "import matplotlib.pyplot as plt\n",
        "from itertools import combinations\n",
        "\n",
        "# Small toy graph\n",
        "G = nx.Graph()\n",
        "edges = [(1,2),(1,3),(1,4),(2,5),(3,6)]\n",
        "G.add_edges_from(edges)\n",
        "\n",
        "# Layout for visualization\n",
        "pos = nx.spring_layout(G, seed=1)\n",
        "\n",
        "# Draw base graph\n",
        "plt.figure(figsize=(6,5))\n",
        "nx.draw_networkx(G, pos, with_labels=True, node_color=\"lightblue\", node_size=800)\n",
        "\n",
        "# Highlight wedges: for each node, pick all pairs of neighbors\n",
        "for v in G.nodes():\n",
        "    neighbors = list(G.neighbors(v))\n",
        "    for u, w in combinations(neighbors, 2):   # all neighbor pairs\n",
        "        # Draw the wedge edges in red\n",
        "        nx.draw_networkx_edges(G, pos, edgelist=[(v,u),(v,w)], edge_color=\"red\", width=2, alpha=0.6)\n",
        "\n",
        "plt.title(\"Wedges (paths of length 2) shown in red\")\n",
        "plt.show()\n"
      ]
    },
    {
      "cell_type": "code",
      "execution_count": 46,
      "id": "x3WFxOgf-MVs",
      "metadata": {
        "colab": {
          "base_uri": "https://localhost:8080/"
        },
        "id": "x3WFxOgf-MVs",
        "outputId": "408202bb-247b-4eed-b8a6-374dfb059b9b"
      },
      "outputs": [
        {
          "name": "stdout",
          "output_type": "stream",
          "text": [
            "5\n"
          ]
        }
      ],
      "source": [
        "wedges = 0\n",
        "for node in G.nodes():\n",
        "    k = G.degree(node)\n",
        "    wedges += k * (k-1) // 2 #binomial. if a node has degree k, it means that it has k neighbors, and therefore (k 2) possible wedges centered on that node.\n",
        "\n",
        "print(wedges)"
      ]
    },
    {
      "cell_type": "markdown",
      "id": "FG-J-CnQ-oby",
      "metadata": {
        "id": "FG-J-CnQ-oby"
      },
      "source": [
        "- Node 1 has degree 3 (neighbors 2, 3, 4). That gives 3 wedges: (2–1–3), (2–1–4), (3–1–4).\n",
        "\n",
        "- Node 2 has degree 2 → 1 wedge (1–2–5).\n",
        "\n",
        "- Node 3 has degree 2 → 1 wedge (1–3–6).\n",
        "\n",
        "Other nodes have degree 1 → no wedges."
      ]
    }
  ],
  "metadata": {
    "colab": {
      "provenance": []
    },
    "kernelspec": {
      "display_name": "Python 3",
      "name": "python3"
    },
    "language_info": {
      "codemirror_mode": {
        "name": "ipython",
        "version": 3
      },
      "file_extension": ".py",
      "mimetype": "text/x-python",
      "name": "python",
      "nbconvert_exporter": "python",
      "pygments_lexer": "ipython3",
      "version": "3.12.3"
    }
  },
  "nbformat": 4,
  "nbformat_minor": 5
}
