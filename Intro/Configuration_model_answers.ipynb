{
 "cells": [
  {
   "cell_type": "markdown",
   "id": "2d85e81b",
   "metadata": {},
   "source": [
    "# Configuration Model"
   ]
  },
  {
   "cell_type": "markdown",
   "id": "4c24d421",
   "metadata": {},
   "source": [
    "The Configuration Model is a random graph model that was originally designed to sample a graph uniformly over all graphs with a given sequence of degrees. \n",
    "\n",
    "The paramater of the model is a sequence of integers $\\vec{k} = \\{k_1, k_2, \\dots, k_n\\}$ where the sum of the entries is even. From this a graph $G = (V,E)$ with $V = \\{1,2, \\dots, n\\}$ is constructed as follows:\n",
    "\n",
    "1 Each node $i$ is assigned $k_i$ stubs (half-edges) <br>\n",
    "2 While there are stubs left do the following: <br>\n",
    "&emsp; 2a) Select two stubs $s_1$, $s_2$ uniformly at random from all still available stubs (without replacement) and \n",
    "     let $i_1, i_2$ be the nodes to which the stubs belong<br>\n",
    "&emsp; 2b) Add the edge $(i_1, i_2)$ to the graph <br>\n",
    "&emsp; 2c) Remove the selected stubs from the list of avaialable stubs <br>\n",
    "\n",
    "The output is a graph where node $i$ has degree equal to $k_i$. However, please note that this graph might not be simple as a node can get connected to itself, creating self-loops, and multiple edges can be places between the same pair of nodes. However, if we condition on the resulting graph being simple, then it can be shown that this procedure indeed samples uniformly at random from all simple graph with degrees given by the sequence $\\vec{k}$."
   ]
  },
  {
   "cell_type": "markdown",
   "id": "0fec6312",
   "metadata": {},
   "source": [
    "**Exercise 1** Implement the Configuration Model as a function ``CM(K)`` where `K` is an array of integers with even sum. Make sure it outputs the vertex list $V$ and the edge list $E$. Test the resulting code on the degree sequence `K=[2,2,2,2,3,3,3,3,4,4,5,5]`."
   ]
  },
  {
   "cell_type": "code",
   "execution_count": 2,
   "id": "f2b63f73",
   "metadata": {},
   "outputs": [],
   "source": [
    "import numpy as np"
   ]
  },
  {
   "cell_type": "code",
   "execution_count": 3,
   "id": "9f106793",
   "metadata": {},
   "outputs": [],
   "source": [
    "def CM(K):\n",
    "    V = []\n",
    "    E = []\n",
    "    \n",
    "    n = len(K) # number of nodes\n",
    "    m = int(sum(K)/2) # number of edges\n",
    "    \n",
    "    V = np.arange(n)\n",
    "    \n",
    "    ### We create a list of node indices where the index of node i is present K[i] times.\n",
    "    ### This list represents the stubs.\n",
    "    index = -1\n",
    "    stubs = []\n",
    "    for k in K:\n",
    "        index += 1\n",
    "        for s in range(0,k):\n",
    "            stubs.append(index)\n",
    "    #the previous 'for' goes through each node index and appends it to the list of stubs as many times as its degree.\n",
    "    \n",
    "    ### Shuffle the list of stubs\n",
    "    rng = np.random.default_rng()\n",
    "    rng.shuffle(stubs)\n",
    "    \n",
    "    ### Split the shuffeld list of stubs through the middle.\n",
    "    sources = stubs[:m]\n",
    "    targets = stubs[m:]\n",
    "    \n",
    "    ### Match the node indices of the two lists to form edges\n",
    "    for i in range(0,m):\n",
    "        e = (sources[i],targets[i])\n",
    "        E.append(e)\n",
    "        \n",
    "    return V, E"
   ]
  },
  {
   "cell_type": "code",
   "execution_count": 4,
   "id": "738118fd",
   "metadata": {},
   "outputs": [
    {
     "name": "stdout",
     "output_type": "stream",
     "text": [
      "The graph has 12 nodes\n",
      "The edges of the graph are:\n",
      " [(4, 10), (6, 9), (10, 6), (2, 3), (8, 11), (6, 8), (0, 10), (4, 10), (9, 9), (9, 0), (5, 11), (11, 2), (8, 10), (8, 5), (5, 4), (1, 7), (11, 11), (7, 3), (1, 7)]\n"
     ]
    }
   ],
   "source": [
    "### Test your code\n",
    "K = [2,2,2,2,3,3,3,3,4,4,5,5]\n",
    "(V,E) = CM(K)\n",
    "\n",
    "print(f\"The graph has {len(V)} nodes\")\n",
    "print(f\"The edges of the graph are:\\n {E}\")"
   ]
  },
  {
   "cell_type": "markdown",
   "id": "51336244",
   "metadata": {},
   "source": [
    "## Configuration model in NetworkX"
   ]
  },
  {
   "cell_type": "markdown",
   "id": "f92e1a30",
   "metadata": {},
   "source": [
    "Depending on how you implemented the algorithm it might take very long to generate a large graph. Luckily the NetworkX library has us covered with the `configuration_model` function. Below is an example on the same degree sequence as for the test above.\n",
    "\n",
    "**Note:** The general output of the `configuration_model` function is a `MultiGraph`. Here each edge is a tripple `(i,j,k)` where `i` and `j` are the node labels and `k` is the index for multiplicity. For example, if the edge $(1,2)$ is present twice, the list of edges will contain `(1,2,0)` and `(1,2,1)`."
   ]
  },
  {
   "cell_type": "code",
   "execution_count": 5,
   "id": "844955f7",
   "metadata": {},
   "outputs": [],
   "source": [
    "import networkx as nx"
   ]
  },
  {
   "cell_type": "code",
   "execution_count": 6,
   "id": "871c6d37",
   "metadata": {},
   "outputs": [
    {
     "name": "stdout",
     "output_type": "stream",
     "text": [
      "The graph has 12 nodes\n",
      "The edges of the graph are:\n",
      " [(0, 10, 0), (0, 10, 1), (1, 9, 0), (1, 9, 1), (2, 10, 0), (2, 8, 0), (3, 8, 0), (3, 9, 0), (4, 5, 0), (4, 6, 0), (4, 11, 0), (5, 10, 0), (5, 11, 0), (6, 8, 0), (6, 11, 0), (7, 10, 0), (7, 9, 0), (7, 11, 0), (8, 11, 0)]\n"
     ]
    }
   ],
   "source": [
    "cm_graph = nx.configuration_model(K)\n",
    "\n",
    "print(f\"The graph has {nx.number_of_nodes(cm_graph)} nodes\")\n",
    "print(f\"The edges of the graph are:\\n {list(cm_graph.edges)}\")"
   ]
  },
  {
   "cell_type": "markdown",
   "id": "c558956b",
   "metadata": {},
   "source": [
    "## Getting a simple graph"
   ]
  },
  {
   "cell_type": "markdown",
   "id": "772a478e",
   "metadata": {},
   "source": [
    "The fact that the Configuration Model can give a multigraph is a bit problematic. There are two ways to deal with this:\n",
    "\n",
    "&emsp; 1) repeat the algorithm until the result is a simple graph <br>\n",
    "&emsp; 2) remove all self-loops and replace each multi-edge by a single edge <br>\n",
    "\n",
    "The first option is often referred to as the Repeated Configuration Model (RCM) while the second one is known as the Erased Configuration Model (ECM). Please note that it could be that the degree sequence is such that there does not exist any simple graph with that sequece. Therefore, the RCM could run indefinitely (or in most case very long) before outputting a result. On the other hand, the ECM will always give a simple graph, but the degree sequence will not be the same as the one used as input for the model."
   ]
  },
  {
   "cell_type": "markdown",
   "id": "cbf14dce",
   "metadata": {},
   "source": [
    "We can implement the ECM using NetworkX functions. First we can cast the `MultiGraph` to a simple `Graph`. This will take care of the multi-edges. Next we use `selfloop_edges` to get the self-loops in the graph and then remove them using `remove_edges_from`. The code is given below."
   ]
  },
  {
   "cell_type": "code",
   "execution_count": 7,
   "id": "0fc6e6d7",
   "metadata": {},
   "outputs": [],
   "source": [
    "def ECM(K):\n",
    "    cm_multi_graph = nx.configuration_model(K)\n",
    "    cm_graph = nx.Graph(cm_multi_graph)\n",
    "    cm_graph.remove_edges_from(nx.selfloop_edges(cm_graph))\n",
    "    \n",
    "    return cm_graph"
   ]
  },
  {
   "cell_type": "code",
   "execution_count": 10,
   "id": "a8de2c21",
   "metadata": {},
   "outputs": [
    {
     "name": "stdout",
     "output_type": "stream",
     "text": [
      "The graph has 12 nodes\n",
      "The edges of the graph are:\n",
      " [(0, 8), (0, 6), (1, 11), (1, 3), (2, 11), (2, 9), (3, 8), (4, 8), (4, 10), (4, 6), (5, 8), (5, 10), (6, 9), (7, 11), (7, 10), (9, 11), (9, 10)]\n",
      "The degree sequence is the same: False\n",
      "The degree sequence is [2, 2, 2, 2, 3, 2, 3, 2, 4, 4, 4, 4]\n"
     ]
    }
   ],
   "source": [
    "### Test the code\n",
    "\n",
    "ecm_graph = ECM(K)\n",
    "\n",
    "degree_sequence = [d for v,d in ecm_graph.degree()]\n",
    "\n",
    "print(f\"The graph has {nx.number_of_nodes(ecm_graph)} nodes\")\n",
    "print(f\"The edges of the graph are:\\n {list(ecm_graph.edges)}\")\n",
    "print(f\"The degree sequence is the same: {K == degree_sequence}\")\n",
    "print(f\"The degree sequence is {degree_sequence}\")\n"
   ]
  },
  {
   "cell_type": "markdown",
   "id": "a1599cf8",
   "metadata": {},
   "source": [
    "## Generating graphs with a given degree distribution"
   ]
  },
  {
   "cell_type": "markdown",
   "id": "d63647b8",
   "metadata": {},
   "source": [
    "While the Configuration Model is designed to generate graphs with a given degree sequence, it can also be used to generate graphs such that the empirical degree distribution converges to a given limit distribution. \n",
    "\n",
    "Suppose we are given a distribution $F$ on the integers. Then the procedure to create a simple graph of size $n$ is as follows:\n",
    "\n",
    "&emsp; 1) Sample $n$ values $\\{k_1, \\dots, k_n\\}$ from $F$ <br>\n",
    "&emsp; 2) Check is the sum $\\sum_{i = 1}^n D_i$ is even <br>\n",
    "&emsp; 3) If not set $k_n = k_n +1$ <br>\n",
    "&emsp; 4) Create a simple graph using ECM with input $\\vec{k} = \\{k_1, \\dots, k_n\\}$ <br>\n",
    "\n",
    "It now follows, by an application of the law of large numbers (and some additional analysis), that for every fixed $k$,\n",
    "$$\n",
    "F_n(k) := \\frac{1}{n} \\sum_{i=1}^n \\mathbf{1}\\{d_i \\le k\\} \\xrightarrow{\\mathbb{P}} F(k) \\quad \\text{as } n \\to \\infty.\n",
    "$$\n",
    "\n",
    "**Note:** If we would have used the CM then the above result would be a direct consequence of the LLN, since (apart from the possibly added 1) each value is an iid sample from $F$. It remains true for ECM because it can be shown that the number of self-loops and excess edges scales less then $n$ and hence does not matter asymptotically."
   ]
  },
  {
   "cell_type": "markdown",
   "id": "b7ad0b5f",
   "metadata": {},
   "source": [
    "**Exercise 2** Let $F$ be the Poisson distribution with mean $\\lambda = 3$. Generate simple random graphs using the procedure described above for $n = 1000 \\cdot 2^k$ with $k \\in \\{0,1,2,3,4\\}$. Plot for each $k$ the resulting cdf $F_n$ as well as the limit cdf $F$ of the Poisson distribution in a the same figure. How large should your graph be for the empirical distribution to be close to the given limit?\n",
    "\n",
    "**Note:** For sampling from the Poisson distribution you could use the `Poisson` object from the `scipy.stats` library by adding `from scipy.stats import poisson`. You can also use other functions, such as `cumfreq` to compute the empirical cdfs. See https://docs.scipy.org/doc/scipy/reference/stats.html for more info."
   ]
  },
  {
   "cell_type": "code",
   "execution_count": null,
   "id": "fbb35c44",
   "metadata": {},
   "outputs": [
    {
     "data": {
      "image/png": "[encoded data removed]",
      "text/plain": [
       "<Figure size 640x480 with 1 Axes>"
      ]
     },
     "metadata": {},
     "output_type": "display_data"
    }
   ],
   "source": [
    "### Solution\n",
    "\n",
    "from scipy import stats\n",
    "from scipy.stats import poisson\n",
    "import matplotlib.pyplot as plt\n",
    "\n",
    "### Function to generate ECM with degrees from a Poisson distribution\n",
    "def ECM_poisson(N,mean):\n",
    "    ### Sample from the Poisson distribution.\n",
    "    degree_sequence = poisson.rvs(mean,size=N)\n",
    "\n",
    "    ### Check if sum is even. If not, add 1 to the last degree.\n",
    "    degree_sum = sum(degree_sequence)\n",
    "\n",
    "    if (degree_sum % 2 == 1):\n",
    "        last_degree = degree_sequence[N-1]\n",
    "        degree_sequence[N-1] = last_degree+1\n",
    "\n",
    "    ### Create a ECM graph with the given degree sequence\n",
    "    pois_configuration_graph = ECM(degree_sequence)\n",
    "    \n",
    "    return pois_configuration_graph\n",
    "\n",
    "### Create figure\n",
    "fig = plt.figure()\n",
    "\n",
    "### Keep track of the largest degree we see for the plot of the limit cdf\n",
    "maximum = 0\n",
    "\n",
    "### Loop over the different sizes\n",
    "for k in range(0,5):\n",
    "    n = 100*(2**k)\n",
    "    pois_cm = ECM_poisson(n,3)\n",
    "    \n",
    "    degree_sequence = [degree for node, degree in pois_cm.degree()]\n",
    "    \n",
    "    max_degree = max(degree_sequence)\n",
    "    if (max_degree > maximum):\n",
    "        maximum = max_degree\n",
    "    \n",
    "    ### Compute the cummulative frequencies\n",
    "    res = stats.cumfreq(degree_sequence,numbins=max_degree+1)\n",
    "    \n",
    "    ### Define the values for the x-axis\n",
    "    x = np.arange(max_degree+1)\n",
    "    \n",
    "    ### Plot the cdf, which is the fraction of cummulative frequencies\n",
    "    ### We also add a label\n",
    "    plt.plot(x,res.cumcount/n,label=f'k={k}')\n",
    "\n",
    "### Create object for the limit distribution\n",
    "rv = poisson(3)\n",
    "\n",
    "### Plot the limit cdf\n",
    "x = np.arange(maximum+1)\n",
    "plt.plot(x,rv.cdf(x),label='Limit')\n",
    "\n",
    "### Add title and legend\n",
    "plt.title('Degree distribution')\n",
    "plt.legend(loc='best', frameon=False)\n",
    "\n",
    "plt.show()"
   ]
  }
 ],
 "metadata": {
  "kernelspec": {
   "display_name": "Python 3",
   "language": "python",
   "name": "python3"
  },
  "language_info": {
   "codemirror_mode": {
    "name": "ipython",
    "version": 3
   },
   "file_extension": ".py",
   "mimetype": "text/x-python",
   "name": "python",
   "nbconvert_exporter": "python",
   "pygments_lexer": "ipython3",
   "version": "3.10.12"
  }
 },
 "nbformat": 4,
 "nbformat_minor": 5
}
