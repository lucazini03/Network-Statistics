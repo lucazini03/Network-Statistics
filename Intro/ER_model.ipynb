{
 "cells": [
  {
   "cell_type": "markdown",
   "id": "aa2ef6e7",
   "metadata": {},
   "source": [
    "# The Erdős-Rényi model"
   ]
  },
  {
   "cell_type": "markdown",
   "id": "86795932",
   "metadata": {},
   "source": [
    "The Erdős-Rényi model is one of the simplest random graph model that exists. It is interesting to study, since it allows you to investigate properties that we also see in other real-life network models in the simplest possible settings. Due to its simplicity, it also allows you to investigate why certain graph algorithms work or break down.\n",
    "\n",
    "The model has two parameters: $n$ and $p$. The graph is formed by considering the vertex set $V := \\{1, 2, 3, \\ldots, n\\}$. Then, for each pair of vertices $i, j \\in V$ such that $i \\neq j$ we flip a coin with succes-probability $p$. If this coin lands on heads, then we add the edge $\\{i, j\\}$ to the edge set $E$ of the graph. If the coin lands tails, we do not add the edge. Once all pairs of vertices have been considered, the graph $G = (V, E)$ is the realization of the  Erdős-Rényi model."
   ]
  },
  {
   "cell_type": "markdown",
   "id": "c8f59505",
   "metadata": {},
   "source": [
    "**Exercise 1.** Implement the Erdős-Rényi model as described above as a function ``ER(n, p)``. Make sure it outputs the vertex list $V$ and the edge list $E$. "
   ]
  },
  {
   "cell_type": "code",
   "execution_count": 1,
   "id": "caabc7bc",
   "metadata": {},
   "outputs": [],
   "source": [
    "import numpy as np\n",
    "\n",
    "def ER(n, p):\n",
    "    V = []\n",
    "    E = []\n",
    "    #Your code should go here\n",
    "    return V, E"
   ]
  },
  {
   "cell_type": "markdown",
   "id": "3ee9dadd",
   "metadata": {},
   "source": [
    "## The Erdős-Rényi model in NetworkX and sparsity"
   ]
  },
  {
   "cell_type": "markdown",
   "id": "c001ced4",
   "metadata": {},
   "source": [
    "The *NetworkX* package in Python has out-of-the-box modules to generate instances of the Erdős-Rényi model. The simplest of these is simply called ``erdos_renyi_graph``. This function is usefull to generate instances of the Erdős-Rényi model when $p$ is relatively big. Below is some code that generates an instance of the model using NetworkX, and extracts the vertex list and edge list."
   ]
  },
  {
   "cell_type": "code",
   "execution_count": 9,
   "id": "ba16a31c",
   "metadata": {},
   "outputs": [],
   "source": [
    "import networkx as nx\n",
    "\n",
    "#Generate the graph in NetworkX\n",
    "n = 100\n",
    "p = 0.5\n",
    "G = nx.erdos_renyi_graph(n, p)\n",
    "\n",
    "#Extract the vertex and edge list\n",
    "V, E = np.array(G.nodes), np.array(G.edges)"
   ]
  },
  {
   "cell_type": "markdown",
   "id": "9f4a56db",
   "metadata": {},
   "source": [
    "Although the ``erdos_renyi_graph`` function is usefull in generating instances of the model, it is not the best option if $p$ is very small compared to $n$. Specifically, if $p n^2 < n^r$ for some power $r < 2$, then the function ``fast_gnp_random_graph`` is a faster way to generate an instance of the Erdős-Rényi model for $n$ large. Note that $G(n, p)$ is an alternative name for the Erdős-Rényi model. Below is an example where this alternative function is used."
   ]
  },
  {
   "cell_type": "code",
   "execution_count": 10,
   "id": "fc40a740",
   "metadata": {},
   "outputs": [],
   "source": [
    "#Generate the graph in NetworkX\n",
    "n = 100\n",
    "p = 0.5\n",
    "G = nx.fast_gnp_random_graph(n, p)\n",
    "\n",
    "#Extract the vertex and edge list\n",
    "V, E = np.array(G.nodes), np.array(G.edges)"
   ]
  },
  {
   "cell_type": "markdown",
   "id": "fcefd034",
   "metadata": {},
   "source": [
    "**Exercise 2.** Consider the Erdős-Rényi model with parameters $n$ and $p = 1/n$. Generate instances of the model for $n = 1000 \\cdot 2^k$ with increasing integer values of $k$. Record how long each instance takes. Plot the results on a log-log scale to get an idea of the time complexity of the graph generation algorithms. To generate your instances, use your algorithm from **Exercise 1**, ``erdos_renyi_graph`` and ``fast_gnp_random_graph``. What can you say about the speed of the algorithms based on the figure?"
   ]
  },
  {
   "cell_type": "code",
   "execution_count": null,
   "id": "cf946bf1",
   "metadata": {},
   "outputs": [],
   "source": [
    "#Your solution goes here"
   ]
  },
  {
   "cell_type": "markdown",
   "id": "25e9d5c5",
   "metadata": {},
   "source": [
    "## Properties of the Erdős-Rényi model"
   ]
  },
  {
   "cell_type": "markdown",
   "id": "31fddfee",
   "metadata": {},
   "source": [
    "Despite its simplicity, the Erdős-Rényi model has many interesting properties that we also see in real-life networks. For example, we can see in the Erdős-Rényi model that with relatively few (expected number of) edges we can attain pretty big connected components in the graph. It turns out that the largest connected component of the Erdős-Rényi model contains more that $\\varepsilon n$ vertices for some small $\\varepsilon > 0$ if we consider the model with $n$ vertices and an edge probability of $\\lambda / n$ with $\\lambda > 1$. Thus, we have a linear number of vertices in the largest connected component while the expected number of edges is $\\lambda n$ (which is also linear)."
   ]
  },
  {
   "cell_type": "markdown",
   "id": "19c1785d",
   "metadata": {},
   "source": [
    "**Exercise 3.** Verify the above statement. You can do this as follows: start by taking e.g. $n = 10000$, and generate for a fixed $\\lambda$ multiple instances of the Erdős-Rényi model with $p = \\lambda / n$. For each instance, compute the amount of vertices in the largest connected component, and averaging the result over all instances. Denote this result by $|\\mathcal{C}_{\\max}(\\lambda)|$. Then, repeat this procedure for other values of $\\lambda$ and plot $ |\\mathcal{C}_{\\max}(\\lambda)|/ n$ as a function of $\\lambda$. \n",
    "\n",
    "*Hint: Don't code all algorithms yourself. Use NetworkX.*"
   ]
  },
  {
   "cell_type": "code",
   "execution_count": null,
   "id": "f8100dfc",
   "metadata": {},
   "outputs": [],
   "source": [
    "#Your solution goes here"
   ]
  },
  {
   "cell_type": "markdown",
   "id": "a1d34c99",
   "metadata": {},
   "source": [
    "Of course, due to its simplicity the Erdős-Rényi model also has a lot of properties that do not really correspond to real networks. For example, while real-world networks often have few edges, you still expect to find many triangles within them. In the Erdős-Rényi model this is not the case."
   ]
  },
  {
   "cell_type": "markdown",
   "id": "1567e518",
   "metadata": {},
   "source": [
    "**Exercise 4.** Fix a value of $\\lambda$ and consider the Erdős-Rényi model with parameters $n$ and $p = \\lambda / n$. Show through simulations that, as $n \\to \\infty$, the number of triangles in this model goes to zero if you divide it by $n$. For each value of $n$ be sure to consider multiple instances of the model to insure randomness influences your results minimally."
   ]
  },
  {
   "cell_type": "code",
   "execution_count": null,
   "id": "3182be5a",
   "metadata": {},
   "outputs": [],
   "source": [
    "#Your solution goes here"
   ]
  }
 ],
 "metadata": {
  "kernelspec": {
   "display_name": "Python 3 (ipykernel)",
   "language": "python",
   "name": "python3"
  },
  "language_info": {
   "codemirror_mode": {
    "name": "ipython",
    "version": 3
   },
   "file_extension": ".py",
   "mimetype": "text/x-python",
   "name": "python",
   "nbconvert_exporter": "python",
   "pygments_lexer": "ipython3",
   "version": "3.11.4"
  }
 },
 "nbformat": 4,
 "nbformat_minor": 5
}
