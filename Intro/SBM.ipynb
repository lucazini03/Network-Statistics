{
  "cells": [
    {
      "cell_type": "markdown",
      "id": "02e211a0",
      "metadata": {
        "id": "02e211a0"
      },
      "source": [
        "# Stochastic block model"
      ]
    },
    {
      "cell_type": "markdown",
      "id": "1f14b9cd",
      "metadata": {
        "id": "1f14b9cd"
      },
      "source": [
        "The stochastic block model is a random graph model where all vertices are assigned a group. Edges are place between two vertices independently from the placement of other edges. The probability that an edge is placed between two given vertices depends only on the groups they have been assigned to. This random graph model is often used to mimic social where people are subdivided into groups where there is a lot of communication within people of each group, but not much between people from different groups.\n",
        "\n",
        "Mathematically , the model is defined through a vector $\\vec{n} = (n_1, n_2, \\ldots, n_r)$ and a matrix $$P = \\begin{pmatrix}\n",
        "p_{11} & \\cdots & p_{1r} \\\\\n",
        "   \\vdots & \\ddots & \\vdots \\\\\n",
        "   p_{r1} & \\cdots & p_{rr}\n",
        "\\end{pmatrix}.$$\n",
        "Here, $r$ is the number of groups, the value of $n_k$ for fixed $k \\in \\{1, 2, \\ldots, r\\}$ tells you how many vertices are present in group $k$. Finally, the value of $p_{kl}$ for fixed $k, l \\in \\{1, 2, \\ldots, r\\}$ tells you the probability that an edge is placed between a vertex of group $k$ and $l$. Since the output graph is undirected, we need to have that $p_{kl} = p_{lk}$.\n",
        "\n",
        "Algorithmically, we can create an instance of the stochastic block model by first generating an array $V = \\{1, 2, \\ldots, n_1 + n_2 + \\ldots + n_r\\}$ of vertices and an array $T$ of vertex groups. Element $T_i$ in the array $T$ will contain the group of vertex $i \\in V$. For simplicity, you can often let $T$ be given by $$T = \\{\\underbrace{1, 1, \\ldots, 1}_{n_1 \\text{ times}}, \\underbrace{2, 2, \\ldots, 2}_{n_2 \\text{ times}}, \\ldots, \\underbrace{r, r, \\ldots, r}_{n_r \\text{ times}}\\}.$$ After defining $V$ and $T$, we loop through all vertices $i, j \\in V$ such that $i \\neq j$ and check their groups. Suppose that the group of vertex $i$ is $k$ and the group of vertex $j$ is $l$. Then, we add the edge $\\{i, j\\}$ to the edge list $E$ with probability $p_{kl}$. After we have looped over all pairs of vertices, then we have found a realisation of the stochastic block model."
      ]
    },
    {
      "cell_type": "markdown",
      "id": "a0e8832c",
      "metadata": {
        "id": "a0e8832c"
      },
      "source": [
        "**Exercise 1.** Create a function ``SBM(n, P)`` that inputs the vector $\\vec{n}$ and matrix $P$ and outputs an instance of the stochastic block model. Make sure it outputs the vertex list $V$, the group list $T$ and the edge list $E$."
      ]
    },
    {
      "cell_type": "code",
      "execution_count": 13,
      "id": "5e94be0c",
      "metadata": {},
      "outputs": [
        {
          "name": "stdout",
          "output_type": "stream",
          "text": [
            "[0 1 1 1 1 2 2 2 3 3 4]\n"
          ]
        }
      ],
      "source": [
        "import numpy as np\n",
        "import networkx as nx\n",
        "\n",
        "T = np.repeat(np.arange(5), [1, 4, 3, 2, 1])\n",
        "print(T)"
      ]
    },
    {
      "cell_type": "code",
      "execution_count": 14,
      "id": "a072c4a1",
      "metadata": {
        "colab": {
          "base_uri": "https://localhost:8080/"
        },
        "id": "a072c4a1",
        "outputId": "fac605f5-81fa-4bcc-d477-827227947749"
      },
      "outputs": [
        {
          "name": "stdout",
          "output_type": "stream",
          "text": [
            "[0.5, 0.1, 0.02]\n",
            "[0.1, 0.7, 0.1]\n",
            "[0.02, 0.1, 0.3]\n",
            "90\n",
            "1094\n",
            "90\n",
            "[0 0 0 0 0 0 0 0 0 0 0 0 0 0 0 0 0 0 0 0 0 0 0 0 0 0 0 0 0 0 0 0 0 0 0 0 0\n",
            " 0 0 0 0 0 0 0 0 0 0 0 0 0 1 1 1 1 1 1 1 1 1 1 1 1 1 1 1 1 1 1 1 1 1 1 1 1\n",
            " 1 1 1 1 1 1 2 2 2 2 2 2 2 2 2 2]\n",
            "[[0, 2], [0, 3], [0, 5], [0, 6], [0, 8], [0, 9], [0, 10], [0, 11], [0, 14], [0, 16], [0, 19], [0, 23], [0, 25], [0, 27], [0, 30], [0, 32], [0, 33], [0, 35], [0, 37], [0, 40], [0, 41], [0, 42], [0, 43], [0, 44], [0, 45], [0, 49], [0, 57], [0, 67], [0, 70], [0, 76], [1, 3], [1, 5], [1, 6], [1, 8], [1, 9], [1, 10], [1, 13], [1, 15], [1, 17], [1, 23], [1, 24], [1, 26], [1, 27], [1, 28], [1, 29], [1, 30], [1, 32], [1, 37], [1, 38], [1, 40], [1, 45], [1, 49], [1, 58], [1, 63], [1, 70], [1, 79], [2, 3], [2, 4], [2, 5], [2, 9], [2, 11], [2, 13], [2, 14], [2, 15], [2, 16], [2, 18], [2, 19], [2, 20], [2, 21], [2, 22], [2, 23], [2, 24], [2, 27], [2, 29], [2, 30], [2, 31], [2, 33], [2, 36], [2, 37], [2, 41], [2, 42], [2, 45], [2, 46], [2, 49], [2, 52], [2, 70], [2, 71], [3, 4], [3, 7], [3, 9], [3, 17], [3, 18], [3, 19], [3, 23], [3, 25], [3, 26], [3, 29], [3, 30], [3, 31], [3, 32], [3, 33], [3, 35], [3, 37], [3, 39], [3, 40], [3, 42], [3, 45], [3, 47], [3, 50], [3, 59], [4, 5], [4, 17], [4, 20], [4, 21], [4, 22], [4, 23], [4, 24], [4, 27], [4, 28], [4, 29], [4, 30], [4, 31], [4, 33], [4, 34], [4, 35], [4, 37], [4, 38], [4, 39], [4, 42], [4, 46], [4, 47], [4, 64], [4, 69], [4, 72], [4, 77], [5, 7], [5, 8], [5, 9], [5, 10], [5, 12], [5, 18], [5, 19], [5, 21], [5, 22], [5, 23], [5, 24], [5, 27], [5, 28], [5, 29], [5, 30], [5, 32], [5, 33], [5, 34], [5, 37], [5, 38], [5, 41], [5, 42], [5, 43], [5, 45], [5, 47], [5, 48], [5, 49], [5, 51], [5, 60], [5, 78], [5, 86], [6, 8], [6, 11], [6, 12], [6, 13], [6, 14], [6, 18], [6, 20], [6, 22], [6, 23], [6, 28], [6, 29], [6, 31], [6, 34], [6, 35], [6, 36], [6, 37], [6, 38], [6, 45], [6, 46], [6, 48], [6, 72], [7, 10], [7, 13], [7, 15], [7, 17], [7, 20], [7, 24], [7, 27], [7, 28], [7, 29], [7, 31], [7, 34], [7, 35], [7, 37], [7, 38], [7, 39], [7, 40], [7, 43], [7, 44], [7, 45], [7, 46], [7, 47], [7, 48], [7, 57], [7, 73], [7, 75], [8, 9], [8, 10], [8, 11], [8, 13], [8, 16], [8, 18], [8, 20], [8, 21], [8, 23], [8, 27], [8, 28], [8, 31], [8, 33], [8, 35], [8, 37], [8, 38], [8, 39], [8, 43], [8, 45], [8, 49], [8, 52], [8, 58], [8, 64], [8, 72], [8, 86], [9, 14], [9, 15], [9, 16], [9, 17], [9, 19], [9, 21], [9, 24], [9, 26], [9, 28], [9, 29], [9, 33], [9, 34], [9, 35], [9, 37], [9, 41], [9, 42], [9, 44], [9, 45], [9, 48], [9, 49], [9, 51], [9, 67], [9, 69], [9, 79], [10, 12], [10, 13], [10, 14], [10, 16], [10, 17], [10, 25], [10, 30], [10, 32], [10, 34], [10, 37], [10, 41], [10, 42], [10, 45], [10, 46], [10, 48], [10, 50], [10, 57], [10, 75], [10, 77], [11, 12], [11, 16], [11, 17], [11, 18], [11, 19], [11, 23], [11, 25], [11, 27], [11, 28], [11, 31], [11, 33], [11, 34], [11, 36], [11, 46], [11, 47], [11, 49], [11, 59], [11, 72], [12, 13], [12, 14], [12, 15], [12, 16], [12, 17], [12, 18], [12, 19], [12, 20], [12, 21], [12, 24], [12, 26], [12, 28], [12, 29], [12, 30], [12, 31], [12, 32], [12, 33], [12, 34], [12, 37], [12, 38], [12, 39], [12, 42], [12, 48], [12, 49], [12, 50], [12, 58], [12, 68], [13, 16], [13, 17], [13, 21], [13, 23], [13, 24], [13, 25], [13, 27], [13, 30], [13, 32], [13, 33], [13, 36], [13, 38], [13, 40], [13, 41], [13, 42], [13, 43], [13, 44], [13, 49], [14, 16], [14, 17], [14, 19], [14, 20], [14, 22], [14, 29], [14, 32], [14, 35], [14, 37], [14, 38], [14, 43], [14, 44], [14, 47], [14, 48], [14, 53], [14, 56], [14, 63], [14, 72], [14, 77], [15, 16], [15, 19], [15, 21], [15, 22], [15, 25], [15, 27], [15, 33], [15, 34], [15, 38], [15, 39], [15, 41], [15, 44], [15, 45], [15, 47], [15, 49], [15, 57], [15, 63], [15, 76], [16, 17], [16, 18], [16, 19], [16, 23], [16, 24], [16, 25], [16, 26], [16, 29], [16, 31], [16, 33], [16, 35], [16, 38], [16, 39], [16, 40], [16, 42], [16, 43], [16, 45], [16, 47], [16, 48], [16, 49], [16, 60], [16, 66], [16, 70], [16, 74], [16, 88], [17, 18], [17, 19], [17, 21], [17, 22], [17, 23], [17, 25], [17, 28], [17, 29], [17, 30], [17, 32], [17, 34], [17, 37], [17, 38], [17, 39], [17, 40], [17, 41], [17, 42], [17, 44], [17, 45], [17, 46], [17, 47], [17, 53], [17, 60], [17, 75], [18, 19], [18, 22], [18, 23], [18, 25], [18, 28], [18, 30], [18, 32], [18, 34], [18, 35], [18, 36], [18, 39], [18, 40], [18, 41], [18, 47], [18, 48], [18, 49], [18, 76], [19, 22], [19, 23], [19, 24], [19, 25], [19, 28], [19, 29], [19, 30], [19, 34], [19, 37], [19, 38], [19, 48], [19, 51], [19, 54], [19, 59], [19, 67], [20, 21], [20, 23], [20, 26], [20, 28], [20, 29], [20, 30], [20, 31], [20, 32], [20, 36], [20, 38], [20, 39], [20, 42], [20, 46], [20, 48], [20, 49], [20, 57], [20, 64], [20, 71], [20, 76], [21, 22], [21, 23], [21, 25], [21, 27], [21, 30], [21, 33], [21, 34], [21, 35], [21, 37], [21, 38], [21, 39], [21, 43], [21, 61], [21, 67], [21, 68], [21, 73], [21, 77], [21, 78], [21, 79], [22, 26], [22, 27], [22, 34], [22, 42], [22, 44], [22, 46], [22, 48], [22, 49], [22, 51], [22, 65], [22, 87], [23, 24], [23, 26], [23, 28], [23, 29], [23, 30], [23, 32], [23, 34], [23, 35], [23, 37], [23, 38], [23, 40], [23, 42], [23, 43], [23, 44], [23, 48], [23, 62], [24, 32], [24, 37], [24, 39], [24, 40], [24, 41], [24, 42], [24, 43], [24, 46], [24, 49], [24, 66], [24, 68], [25, 26], [25, 27], [25, 28], [25, 30], [25, 32], [25, 33], [25, 36], [25, 38], [25, 40], [25, 41], [25, 43], [25, 49], [25, 58], [25, 62], [26, 27], [26, 30], [26, 32], [26, 36], [26, 39], [26, 41], [26, 42], [26, 45], [26, 47], [26, 48], [26, 58], [26, 59], [26, 60], [26, 69], [26, 71], [26, 75], [27, 28], [27, 30], [27, 31], [27, 33], [27, 37], [27, 39], [27, 40], [27, 45], [27, 46], [27, 47], [27, 49], [27, 61], [27, 66], [28, 30], [28, 31], [28, 32], [28, 40], [28, 41], [28, 42], [28, 45], [28, 46], [28, 47], [28, 48], [28, 49], [28, 66], [28, 70], [28, 72], [28, 74], [29, 30], [29, 31], [29, 32], [29, 33], [29, 36], [29, 40], [29, 41], [29, 49], [29, 70], [29, 77], [29, 81], [30, 31], [30, 32], [30, 33], [30, 34], [30, 36], [30, 41], [30, 45], [30, 48], [30, 49], [30, 61], [30, 65], [30, 78], [30, 80], [31, 32], [31, 34], [31, 36], [31, 38], [31, 40], [31, 43], [31, 44], [31, 48], [31, 52], [31, 54], [31, 65], [31, 73], [32, 34], [32, 35], [32, 39], [32, 43], [32, 48], [32, 49], [32, 60], [32, 67], [33, 35], [33, 44], [33, 45], [33, 46], [33, 47], [33, 49], [33, 50], [33, 88], [34, 36], [34, 38], [34, 40], [34, 43], [34, 44], [34, 45], [34, 49], [34, 50], [34, 51], [34, 60], [34, 71], [35, 37], [35, 38], [35, 40], [35, 41], [35, 43], [35, 44], [35, 45], [35, 46], [35, 49], [35, 62], [35, 80], [36, 37], [36, 38], [36, 39], [36, 49], [36, 50], [36, 52], [36, 70], [36, 78], [37, 38], [37, 39], [37, 42], [37, 43], [37, 46], [37, 47], [37, 57], [37, 84], [38, 39], [38, 45], [38, 46], [38, 48], [38, 49], [38, 52], [38, 68], [39, 41], [39, 44], [39, 46], [39, 48], [39, 63], [39, 64], [39, 76], [40, 41], [40, 42], [40, 45], [40, 47], [40, 48], [40, 49], [40, 64], [40, 79], [41, 42], [41, 47], [41, 48], [42, 46], [42, 47], [42, 49], [42, 52], [42, 53], [42, 54], [42, 68], [42, 80], [43, 45], [43, 46], [43, 48], [43, 49], [43, 50], [43, 65], [43, 67], [43, 83], [44, 45], [44, 47], [44, 48], [44, 55], [44, 75], [45, 47], [45, 48], [45, 52], [45, 57], [45, 63], [46, 48], [46, 49], [46, 51], [46, 59], [46, 65], [47, 48], [48, 49], [48, 56], [48, 66], [48, 69], [49, 59], [49, 64], [49, 74], [49, 79], [49, 85], [50, 53], [50, 54], [50, 55], [50, 57], [50, 59], [50, 60], [50, 61], [50, 63], [50, 64], [50, 65], [50, 66], [50, 68], [50, 69], [50, 70], [50, 71], [50, 72], [50, 74], [50, 75], [50, 77], [50, 81], [51, 53], [51, 54], [51, 55], [51, 57], [51, 58], [51, 59], [51, 60], [51, 62], [51, 63], [51, 64], [51, 65], [51, 67], [51, 68], [51, 69], [51, 70], [51, 71], [51, 73], [51, 75], [51, 78], [51, 86], [52, 53], [52, 55], [52, 56], [52, 60], [52, 61], [52, 63], [52, 64], [52, 65], [52, 66], [52, 67], [52, 68], [52, 69], [52, 71], [52, 72], [52, 73], [52, 74], [52, 75], [52, 76], [52, 78], [52, 79], [52, 83], [53, 54], [53, 55], [53, 56], [53, 59], [53, 60], [53, 61], [53, 62], [53, 63], [53, 64], [53, 65], [53, 67], [53, 69], [53, 70], [53, 71], [53, 74], [53, 75], [53, 76], [53, 77], [53, 79], [53, 84], [54, 55], [54, 56], [54, 57], [54, 58], [54, 59], [54, 60], [54, 61], [54, 63], [54, 64], [54, 65], [54, 68], [54, 69], [54, 73], [54, 74], [54, 75], [54, 76], [54, 77], [54, 78], [54, 82], [55, 57], [55, 58], [55, 59], [55, 60], [55, 62], [55, 65], [55, 67], [55, 68], [55, 69], [55, 71], [55, 72], [55, 74], [55, 75], [55, 76], [55, 77], [55, 78], [55, 79], [55, 80], [55, 84], [56, 57], [56, 58], [56, 62], [56, 63], [56, 64], [56, 65], [56, 66], [56, 67], [56, 69], [56, 76], [56, 77], [56, 88], [57, 58], [57, 60], [57, 61], [57, 62], [57, 63], [57, 64], [57, 65], [57, 67], [57, 71], [57, 72], [57, 74], [57, 75], [57, 77], [57, 78], [57, 79], [57, 81], [58, 59], [58, 60], [58, 61], [58, 62], [58, 65], [58, 68], [58, 72], [58, 73], [58, 76], [58, 77], [58, 78], [58, 86], [59, 60], [59, 61], [59, 62], [59, 64], [59, 65], [59, 66], [59, 68], [59, 69], [59, 70], [59, 71], [59, 73], [59, 76], [59, 78], [59, 79], [59, 85], [60, 61], [60, 62], [60, 63], [60, 64], [60, 65], [60, 66], [60, 67], [60, 69], [60, 70], [60, 71], [60, 72], [60, 73], [60, 75], [60, 76], [60, 77], [60, 78], [60, 79], [61, 62], [61, 64], [61, 66], [61, 67], [61, 70], [61, 72], [61, 73], [61, 74], [61, 75], [61, 76], [61, 78], [62, 63], [62, 65], [62, 67], [62, 68], [62, 70], [62, 71], [62, 72], [62, 74], [62, 75], [62, 76], [62, 77], [62, 78], [63, 64], [63, 65], [63, 66], [63, 68], [63, 69], [63, 71], [63, 72], [63, 74], [63, 76], [63, 79], [64, 65], [64, 66], [64, 67], [64, 68], [64, 69], [64, 70], [64, 71], [64, 73], [64, 74], [64, 76], [64, 78], [64, 79], [64, 80], [64, 82], [65, 67], [65, 69], [65, 70], [65, 71], [65, 74], [65, 79], [65, 86], [66, 67], [66, 68], [66, 69], [66, 70], [66, 71], [66, 72], [66, 74], [66, 75], [66, 76], [66, 77], [66, 78], [66, 80], [67, 68], [67, 69], [67, 70], [67, 71], [67, 72], [67, 75], [67, 76], [67, 77], [67, 79], [68, 69], [68, 70], [68, 72], [68, 73], [68, 75], [68, 76], [68, 77], [68, 79], [69, 70], [69, 71], [69, 72], [69, 73], [69, 74], [69, 75], [69, 76], [69, 79], [69, 80], [69, 88], [70, 71], [70, 72], [70, 73], [70, 74], [70, 75], [70, 76], [70, 77], [70, 78], [70, 79], [71, 72], [71, 75], [71, 76], [71, 77], [71, 78], [71, 79], [71, 87], [71, 88], [72, 73], [72, 76], [72, 78], [72, 79], [72, 85], [72, 88], [73, 74], [73, 75], [73, 76], [73, 78], [73, 82], [74, 75], [74, 76], [74, 78], [74, 79], [75, 77], [75, 78], [75, 85], [76, 77], [76, 78], [76, 79], [77, 78], [77, 87], [79, 84], [80, 84], [80, 85], [80, 86], [80, 88], [81, 82], [82, 83], [82, 84], [82, 85], [82, 87], [83, 84], [83, 86], [83, 88], [83, 89], [84, 87], [85, 86], [85, 87], [85, 89], [86, 88]]\n"
          ]
        }
      ],
      "source": [
        "import numpy as np\n",
        "\n",
        "def SBM(n, P):\n",
        "    V = np.arange(np.sum(n))\n",
        "    T = np.repeat(np.arange(len(n)), n)\n",
        "    E = []\n",
        "    \n",
        "    for i in V:\n",
        "        for j in V[(i+1):]:\n",
        "            if np.random.rand() <= P[T[i]][T[j]]:\n",
        "                E.append([i, j])\n",
        "                \n",
        "    return V, E, T\n",
        "\n",
        "#testing\n",
        "n = [50, 30, 10]\n",
        "P = [[0.5, 0.1, 0.02], [0.1, 0.7, 0.1], [0.02, 0.1, 0.3]]\n",
        "for row in P:\n",
        "    print(row)\n",
        "\n",
        "V, E, T = SBM(n, P)\n",
        "print(len(V))\n",
        "print(len(E))\n",
        "print(len(T))\n",
        "print(T)\n",
        "print(E)"
      ]
    },
    {
      "cell_type": "markdown",
      "id": "721f09e8",
      "metadata": {
        "id": "721f09e8"
      },
      "source": [
        "## The stochastic block model in NetworkX"
      ]
    },
    {
      "cell_type": "markdown",
      "id": "79a15374",
      "metadata": {
        "id": "79a15374"
      },
      "source": [
        "In NetworkX the stochastic block model can be generated using the function ``stochastic_block_model``. It inputs the vector $\\vec{n}$ and the matrix $P$ as lists (or ``np.array`` objects). Below you see some example code where NetworkX is used to generate an instance of the stochastic block model with three groups."
      ]
    },
    {
      "cell_type": "code",
      "execution_count": 15,
      "id": "e70cf163",
      "metadata": {
        "id": "e70cf163"
      },
      "outputs": [],
      "source": [
        "import networkx as nx\n",
        "\n",
        "#Generate the instance of SBM\n",
        "n = [50, 30, 10]\n",
        "P = [[0.5, 0.1, 0.02], [0.1, 0.7, 0.1], [0.02, 0.1, 0.3]]\n",
        "G = nx.stochastic_block_model(n, P)\n",
        "\n",
        "#Extract the vertex list, edge list, and the group allocation\n",
        "V = np.array(G.nodes)\n",
        "E = np.array(G.edges)\n",
        "T = np.zeros_like(V)\n",
        "for group, partition in enumerate(np.array(G.graph['partition'])):\n",
        "    T[np.array(list(partition))] = group"
      ]
    },
    {
      "cell_type": "markdown",
      "id": "66a3f164",
      "metadata": {
        "id": "66a3f164"
      },
      "source": [
        "**Exercise 2.** By default, the function ``stochastic_block_model`` will always assign vertex $1$ through $n_1$ to group $1$, vertex $n_1 + 1$ through $n_1 + n_2$ to group $2$ et cetera. Sometimes, though, you might want to specificy the groups beforehand. Create an implementation of the stochastic block model using NetworkX where you input the vertex-group array $T$ and the probability matrix $P$, but not the vector $\\vec{n}$."
      ]
    },
    {
      "cell_type": "code",
      "execution_count": 16,
      "id": "ac35f51b",
      "metadata": {
        "colab": {
          "base_uri": "https://localhost:8080/",
          "height": 356
        },
        "id": "ac35f51b",
        "outputId": "51072a81-1529-4c9a-e6b6-e3839a8cbafe"
      },
      "outputs": [
        {
          "name": "stdout",
          "output_type": "stream",
          "text": [
            "[0 0 0 0 0 0 0 0 0 0 0 0 0 0 0 0 0 0 0 0 0 0 0 0 0 0 0 0 0 0 0 0 0 0 0 0 0\n",
            " 0 0 0 0 0 0 0 0 0 0 0 0 0 1 1 1 1 1 1 1 1 1 1 1 1 1 1 1 1 1 1 1 1 1 1 1 1\n",
            " 1 1 1 1 1 1 2 2 2 2 2 2 2 2 2 2]\n",
            "[ 0 27 28 29 30 31 32 33 34 35 36 26 37 39 40 41 42 43 45 46 47 48 49 38\n",
            " 25 44 23 24  1  2  3  4  6  7  8  9 10 11  5 13 12 21 20 22 18 19 17 16\n",
            " 15 14 67 69 70 71 68 72 77 74 75 76 78 66 79 73 65 57 63 50 64 52 53 54\n",
            " 55 51 58 59 60 61 62 56 88 80 81 82 83 84 85 86 87 89]\n",
            "[0 1 2]\n",
            "[0 1 2]\n",
            "[50 30 10]\n",
            "[ 0  1  2  3  4  5  6  7  8  9 10 11 12 13 14 15 16 17 18 19 20 21 22 23\n",
            " 24 25 26 27 28 29 30 31 32 33 34 35 36 37 38 39 40 41 42 43 44 45 46 47\n",
            " 48 49 50 51 52 53 54 55 56 57 58 59 60 61 62 63 64 65 66 67 68 69 70 71\n",
            " 72 73 74 75 76 77 78 79 80 81 82 83 84 85 86 87 88 89]\n"
          ]
        }
      ],
      "source": [
        "def SBMT(T, P):\n",
        "    #Make the graph\n",
        "\n",
        "    print(T)\n",
        "\n",
        "    groupVertices = np.argsort(T)\n",
        "\n",
        "    print(groupVertices)\n",
        "    #np.argsort(T) returns the indices that would sort the array T \n",
        "    unique, counts = np.unique(T, return_counts = True)\n",
        "    print(unique)\n",
        "    groupsIndex = np.argsort(unique)\n",
        "    print(groupsIndex)\n",
        "    n = counts[groupsIndex]\n",
        "    print(n)\n",
        "    G = nx.stochastic_block_model(n, P, nodelist=groupVertices)\n",
        "    \n",
        "    #Get vertex list, edge list and type list\n",
        "    V = np.array(G.nodes)\n",
        "    E = np.array(G.edges)\n",
        "    T = np.zeros_like(V)\n",
        "    for group, partition in enumerate(np.array(G.graph['partition'])):\n",
        "        T[np.array(list(partition))] = group\n",
        "        \n",
        "    return V, E, T\n",
        "\n",
        "\n",
        "V2, E2, T2 = SBMT(T, P)\n",
        "print(V2)"
      ]
    },
    {
      "cell_type": "markdown",
      "id": "c3b2f854",
      "metadata": {
        "id": "c3b2f854"
      },
      "source": [
        "Like in the Erdős–Rényi model, the implementation of ``stochastic_block_model`` in NetworkX might be relatively slow when the probabilities $p_{kl}$ in the matrix $P$ satisfy $$p_{kl} \\approx \\frac{C_{kl}}{n_1 + n_2 + \\ldots + n_r},$$ for some fixed constant $C_{kl} > 0$ for all groups $k$ and $l$. To solve this issue, the NetworkX implementation of ``stochastic_block_model`` has an optional parameter ``sparse`` that changes the generation algorithm of the stochastic block model. Its default value is \"true\" which results in a faster algorithm when the probabilities $p_{kl}$ are small compared to $n_1 + n_2 + \\ldots + n_r$, but a slower algorithm when these values are big."
      ]
    },
    {
      "cell_type": "markdown",
      "id": "b71e9da8",
      "metadata": {
        "id": "b71e9da8"
      },
      "source": [
        "**Exercise 3.** Compare the NetworkX implementation of the stochastic block model for increasing values of $n$ with the following two probability matrices: $$P_1 = \\begin{pmatrix}0.3 & 0.6 \\\\0.6 & 0.4 \\end{pmatrix}, \\qquad \\text{and} \\qquad P_2 = \\begin{pmatrix}0.15 / n & 0.3/n \\\\0.3/n & 0.2/n \\end{pmatrix}. $$ Take $n_1 = n_2 = n/2$ (rounding the values up or down if needed), and consider both the option ``sparse`` to be true, and ``sparse`` to be false. For each value of $n$ you consider, measure the average time the code takes to run over multiple realisations of the model. Then, plot these times on a log-log scale for all probability matrices and ``sparse``-option settings. What do you see?"
      ]
    },
    {
      "cell_type": "code",
      "execution_count": 17,
      "id": "203a8a62",
      "metadata": {
        "id": "203a8a62"
      },
      "outputs": [],
      "source": [
        "#Your answer goes here"
      ]
    }
  ],
  "metadata": {
    "colab": {
      "provenance": []
    },
    "kernelspec": {
      "display_name": "Python 3",
      "language": "python",
      "name": "python3"
    },
    "language_info": {
      "codemirror_mode": {
        "name": "ipython",
        "version": 3
      },
      "file_extension": ".py",
      "mimetype": "text/x-python",
      "name": "python",
      "nbconvert_exporter": "python",
      "pygments_lexer": "ipython3",
      "version": "3.10.12"
    }
  },
  "nbformat": 4,
  "nbformat_minor": 5
}
