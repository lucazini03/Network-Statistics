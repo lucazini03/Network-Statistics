{
 "cells": [
  {
   "cell_type": "markdown",
   "id": "99ebbc5a",
   "metadata": {},
   "source": [
    "# Sparse matrix respresentation"
   ]
  },
  {
   "cell_type": "markdown",
   "id": "660b26f4",
   "metadata": {},
   "source": [
    "In this notebook will introduce you to the concepts of **sparse matrix representation**. This is a useful way to numerically represent matrices when the amount of zeros is really large. It ensures that such large matrices can still be stored into memory without causing errors. We will focus on the different sparse matrix formats that exist, and a Python library (called *scipy sparse*) that allows you to use sparse matrices."
   ]
  },
  {
   "cell_type": "markdown",
   "id": "df56c5b1",
   "metadata": {},
   "source": [
    "## The issue"
   ]
  },
  {
   "cell_type": "markdown",
   "id": "0c2528aa",
   "metadata": {},
   "source": [
    "In the code below, we create a square matrix with only one nonzero entry. Namely, there will be a value of '2' in the second entry of the first row."
   ]
  },
  {
   "cell_type": "code",
   "execution_count": 13,
   "id": "607213ca",
   "metadata": {},
   "outputs": [
    {
     "data": {
      "text/plain": [
       "array([[0., 2., 0., ..., 0., 0., 0.],\n",
       "       [0., 0., 0., ..., 0., 0., 0.],\n",
       "       [0., 0., 0., ..., 0., 0., 0.],\n",
       "       ...,\n",
       "       [0., 0., 0., ..., 0., 0., 0.],\n",
       "       [0., 0., 0., ..., 0., 0., 0.],\n",
       "       [0., 0., 0., ..., 0., 0., 0.]])"
      ]
     },
     "execution_count": 13,
     "metadata": {},
     "output_type": "execute_result"
    }
   ],
   "source": [
    "import numpy as np\n",
    "n = 100 #dimension of the matrix\n",
    "A = np.zeros((n,n)) #start with an all-zero matrix\n",
    "A[0, 1] = 2 #Change the value in the first row and second column to a 1\n",
    "\n",
    "A"
   ]
  },
  {
   "cell_type": "markdown",
   "id": "cc2e640a",
   "metadata": {},
   "source": [
    "As expected, running this code is not difficult. There is nothing big going on. However, try changing the value of $n$ to e.g. $n = 1000000$, and you will see an interesting error pop up. Apparently, a huge amount of RAM is being using to store such a trivial matrix. What is going wrong here? In essence, Python is trying to allocate a piece of memory for every entry of the matrix; even the zeros. We call this **full-format** storage of the matrix. Full-format storage wastes a lot of space to zeros, causing the memory to be completely flooded. The idea of sparse matrix representation is to only store non-zero values. In case of our trivial matrix, this will reduce memory allocation significantly."
   ]
  },
  {
   "cell_type": "markdown",
   "id": "f196e0e9",
   "metadata": {},
   "source": [
    "## Full-format storage"
   ]
  },
  {
   "cell_type": "markdown",
   "id": "7280dc49",
   "metadata": {},
   "source": [
    "Memory in your computer is sequential. It can be modelled as a big sequence of stored numbers. The main problem with matrices, is that they are usually not considered to be a sequence. Matrices are usually represented as a block. So, how do we turn this block into a sequence? In full-format storage, we give the entire matrix one adress in memory, and then store the following sequentially at the adress:\n",
    "1. We first store the dimensions of the matrix.\n",
    "2. We then store the data in the matrix column by column or row by row.\n",
    "\n",
    "The two examples below show how full-format matrices are stored in memory."
   ]
  },
  {
   "cell_type": "code",
   "execution_count": 11,
   "id": "6aa04032",
   "metadata": {},
   "outputs": [
    {
     "name": "stdout",
     "output_type": "stream",
     "text": [
      "[[1 2 3]\n",
      " [4 5 6]\n",
      " [7 8 9]]\n",
      "The dimensions are 3 by 3\n",
      "The data in the matrix is: [1 2 3 4 5 6 7 8 9]\n"
     ]
    }
   ],
   "source": [
    "#Row-by-row storage\n",
    "B = np.array([[1,2,3],[4,5,6],[7,8,9]])\n",
    "print(B)\n",
    "\n",
    "#In memory, first store the dimensions\n",
    "print(\"The dimensions are {} by {}\".format(B.shape[0], B.shape[1]))\n",
    "#Then, store the data row by row\n",
    "print(\"The data in the matrix is: {}\".format(B.flatten()))"
   ]
  },
  {
   "cell_type": "code",
   "execution_count": 12,
   "id": "6b903396",
   "metadata": {},
   "outputs": [
    {
     "name": "stdout",
     "output_type": "stream",
     "text": [
      "[[1 2 3]\n",
      " [4 5 6]\n",
      " [7 8 9]]\n",
      "The dimensions are 3 by 3\n",
      "The data in the matrix is: [1 4 7 2 5 8 3 6 9]\n"
     ]
    }
   ],
   "source": [
    "#Column-by-column storage\n",
    "B = np.array([[1,2,3],[4,5,6],[7,8,9]])\n",
    "print(B)\n",
    "\n",
    "#In memory, first store the dimensions\n",
    "print(\"The dimensions are {} by {}\".format(B.shape[0], B.shape[1]))\n",
    "#Then, store the data row by row\n",
    "print(\"The data in the matrix is: {}\".format(B.flatten(\"F\")))"
   ]
  },
  {
   "cell_type": "markdown",
   "id": "4d6bbcc7",
   "metadata": {},
   "source": [
    "For Python, row by row storage is default. Note this is not the case for all programming languages. MatLab, for example, uses column by column storage is its default. This difference might cause issues e.g. when using linear indexing for matrices."
   ]
  },
  {
   "cell_type": "markdown",
   "id": "3a07b45f",
   "metadata": {},
   "source": [
    "## COO sparse storage"
   ]
  },
  {
   "cell_type": "markdown",
   "id": "5eccb386",
   "metadata": {},
   "source": [
    "All sparse storage of matrices is handled by the *Scipy* package in Python. The simplest format to create a sparse matrix in Python is by using the **COO (coordinate) format**. The idea of this matrix storage method is simple. You store:\n",
    "1. The dimensions of the matrix.\n",
    "2. A vector containing the row indices of the nonzero entries.\n",
    "3. A vector containing the column indices of the nonzero entries.\n",
    "4. A vector with the nonzero entries.\n",
    "\n",
    "Below is an example that shows how we would define the 1000000 by 1000000 matrix *A* from before in COO-format."
   ]
  },
  {
   "cell_type": "code",
   "execution_count": 15,
   "id": "9b9cb503",
   "metadata": {},
   "outputs": [
    {
     "name": "stdout",
     "output_type": "stream",
     "text": [
      "  (0, 1)\t2\n"
     ]
    }
   ],
   "source": [
    "import scipy as sp\n",
    "\n",
    "#Data for COO-storage\n",
    "n, m = 1000000, 1000000\n",
    "row = np.array([0])\n",
    "col = np.array([1])\n",
    "data = np.array([2])\n",
    "#Creating the matrix\n",
    "A = sp.sparse.coo_matrix((data, (row, col)), shape = (n, m))\n",
    "#Printing all-nonzero values and their coordinates\n",
    "print(A)"
   ]
  },
  {
   "cell_type": "markdown",
   "id": "e2862250",
   "metadata": {},
   "source": [
    "Be aware that COO-format is usually only used to create sparse matrices. It is not really possible to do any operations with these matrices. You would need to convert COO-matrices to other sparse formats to do operations with them. Be aware never to convert sparse matrices to dense formats, since this will again use up all memory, defeating the point of sparse storage, as the example below shows."
   ]
  },
  {
   "cell_type": "code",
   "execution_count": 16,
   "id": "98f80ab3",
   "metadata": {},
   "outputs": [
    {
     "ename": "MemoryError",
     "evalue": "Unable to allocate 3.64 TiB for an array with shape (1000000, 1000000) and data type int32",
     "output_type": "error",
     "traceback": [
      "\u001b[1;31m---------------------------------------------------------------------------\u001b[0m",
      "\u001b[1;31mMemoryError\u001b[0m                               Traceback (most recent call last)",
      "\u001b[1;32m~\\AppData\\Local\\Temp\\ipykernel_9112\\2056984074.py\u001b[0m in \u001b[0;36m<module>\u001b[1;34m\u001b[0m\n\u001b[0;32m      1\u001b[0m \u001b[1;31m#Go from sparse format to full-format\u001b[0m\u001b[1;33m\u001b[0m\u001b[1;33m\u001b[0m\u001b[0m\n\u001b[1;32m----> 2\u001b[1;33m \u001b[0mA\u001b[0m\u001b[1;33m.\u001b[0m\u001b[0mtodense\u001b[0m\u001b[1;33m(\u001b[0m\u001b[1;33m)\u001b[0m\u001b[1;33m\u001b[0m\u001b[1;33m\u001b[0m\u001b[0m\n\u001b[0m",
      "\u001b[1;32m~\\Anaconda3\\envs\\Education\\lib\\site-packages\\scipy\\sparse\\_base.py\u001b[0m in \u001b[0;36mtodense\u001b[1;34m(self, order, out)\u001b[0m\n\u001b[0;32m    944\u001b[0m             \u001b[0;31m`\u001b[0m\u001b[0mnumpy\u001b[0m\u001b[1;33m.\u001b[0m\u001b[0mmatrix\u001b[0m\u001b[0;31m`\u001b[0m \u001b[0mobject\u001b[0m \u001b[0mthat\u001b[0m \u001b[0mshares\u001b[0m \u001b[0mthe\u001b[0m \u001b[0msame\u001b[0m \u001b[0mmemory\u001b[0m\u001b[1;33m.\u001b[0m\u001b[1;33m\u001b[0m\u001b[1;33m\u001b[0m\u001b[0m\n\u001b[0;32m    945\u001b[0m         \"\"\"\n\u001b[1;32m--> 946\u001b[1;33m         \u001b[1;32mreturn\u001b[0m \u001b[0mself\u001b[0m\u001b[1;33m.\u001b[0m\u001b[0m_ascontainer\u001b[0m\u001b[1;33m(\u001b[0m\u001b[0mself\u001b[0m\u001b[1;33m.\u001b[0m\u001b[0mtoarray\u001b[0m\u001b[1;33m(\u001b[0m\u001b[0morder\u001b[0m\u001b[1;33m=\u001b[0m\u001b[0morder\u001b[0m\u001b[1;33m,\u001b[0m \u001b[0mout\u001b[0m\u001b[1;33m=\u001b[0m\u001b[0mout\u001b[0m\u001b[1;33m)\u001b[0m\u001b[1;33m)\u001b[0m\u001b[1;33m\u001b[0m\u001b[1;33m\u001b[0m\u001b[0m\n\u001b[0m\u001b[0;32m    947\u001b[0m \u001b[1;33m\u001b[0m\u001b[0m\n\u001b[0;32m    948\u001b[0m     \u001b[1;32mdef\u001b[0m \u001b[0mtoarray\u001b[0m\u001b[1;33m(\u001b[0m\u001b[0mself\u001b[0m\u001b[1;33m,\u001b[0m \u001b[0morder\u001b[0m\u001b[1;33m=\u001b[0m\u001b[1;32mNone\u001b[0m\u001b[1;33m,\u001b[0m \u001b[0mout\u001b[0m\u001b[1;33m=\u001b[0m\u001b[1;32mNone\u001b[0m\u001b[1;33m)\u001b[0m\u001b[1;33m:\u001b[0m\u001b[1;33m\u001b[0m\u001b[1;33m\u001b[0m\u001b[0m\n",
      "\u001b[1;32m~\\Anaconda3\\envs\\Education\\lib\\site-packages\\scipy\\sparse\\_coo.py\u001b[0m in \u001b[0;36mtoarray\u001b[1;34m(self, order, out)\u001b[0m\n\u001b[0;32m    320\u001b[0m     \u001b[1;32mdef\u001b[0m \u001b[0mtoarray\u001b[0m\u001b[1;33m(\u001b[0m\u001b[0mself\u001b[0m\u001b[1;33m,\u001b[0m \u001b[0morder\u001b[0m\u001b[1;33m=\u001b[0m\u001b[1;32mNone\u001b[0m\u001b[1;33m,\u001b[0m \u001b[0mout\u001b[0m\u001b[1;33m=\u001b[0m\u001b[1;32mNone\u001b[0m\u001b[1;33m)\u001b[0m\u001b[1;33m:\u001b[0m\u001b[1;33m\u001b[0m\u001b[1;33m\u001b[0m\u001b[0m\n\u001b[0;32m    321\u001b[0m         \u001b[1;34m\"\"\"See the docstring for `spmatrix.toarray`.\"\"\"\u001b[0m\u001b[1;33m\u001b[0m\u001b[1;33m\u001b[0m\u001b[0m\n\u001b[1;32m--> 322\u001b[1;33m         \u001b[0mB\u001b[0m \u001b[1;33m=\u001b[0m \u001b[0mself\u001b[0m\u001b[1;33m.\u001b[0m\u001b[0m_process_toarray_args\u001b[0m\u001b[1;33m(\u001b[0m\u001b[0morder\u001b[0m\u001b[1;33m,\u001b[0m \u001b[0mout\u001b[0m\u001b[1;33m)\u001b[0m\u001b[1;33m\u001b[0m\u001b[1;33m\u001b[0m\u001b[0m\n\u001b[0m\u001b[0;32m    323\u001b[0m         \u001b[0mfortran\u001b[0m \u001b[1;33m=\u001b[0m \u001b[0mint\u001b[0m\u001b[1;33m(\u001b[0m\u001b[0mB\u001b[0m\u001b[1;33m.\u001b[0m\u001b[0mflags\u001b[0m\u001b[1;33m.\u001b[0m\u001b[0mf_contiguous\u001b[0m\u001b[1;33m)\u001b[0m\u001b[1;33m\u001b[0m\u001b[1;33m\u001b[0m\u001b[0m\n\u001b[0;32m    324\u001b[0m         \u001b[1;32mif\u001b[0m \u001b[1;32mnot\u001b[0m \u001b[0mfortran\u001b[0m \u001b[1;32mand\u001b[0m \u001b[1;32mnot\u001b[0m \u001b[0mB\u001b[0m\u001b[1;33m.\u001b[0m\u001b[0mflags\u001b[0m\u001b[1;33m.\u001b[0m\u001b[0mc_contiguous\u001b[0m\u001b[1;33m:\u001b[0m\u001b[1;33m\u001b[0m\u001b[1;33m\u001b[0m\u001b[0m\n",
      "\u001b[1;32m~\\Anaconda3\\envs\\Education\\lib\\site-packages\\scipy\\sparse\\_base.py\u001b[0m in \u001b[0;36m_process_toarray_args\u001b[1;34m(self, order, out)\u001b[0m\n\u001b[0;32m   1296\u001b[0m             \u001b[1;32mreturn\u001b[0m \u001b[0mout\u001b[0m\u001b[1;33m\u001b[0m\u001b[1;33m\u001b[0m\u001b[0m\n\u001b[0;32m   1297\u001b[0m         \u001b[1;32melse\u001b[0m\u001b[1;33m:\u001b[0m\u001b[1;33m\u001b[0m\u001b[1;33m\u001b[0m\u001b[0m\n\u001b[1;32m-> 1298\u001b[1;33m             \u001b[1;32mreturn\u001b[0m \u001b[0mnp\u001b[0m\u001b[1;33m.\u001b[0m\u001b[0mzeros\u001b[0m\u001b[1;33m(\u001b[0m\u001b[0mself\u001b[0m\u001b[1;33m.\u001b[0m\u001b[0mshape\u001b[0m\u001b[1;33m,\u001b[0m \u001b[0mdtype\u001b[0m\u001b[1;33m=\u001b[0m\u001b[0mself\u001b[0m\u001b[1;33m.\u001b[0m\u001b[0mdtype\u001b[0m\u001b[1;33m,\u001b[0m \u001b[0morder\u001b[0m\u001b[1;33m=\u001b[0m\u001b[0morder\u001b[0m\u001b[1;33m)\u001b[0m\u001b[1;33m\u001b[0m\u001b[1;33m\u001b[0m\u001b[0m\n\u001b[0m\u001b[0;32m   1299\u001b[0m \u001b[1;33m\u001b[0m\u001b[0m\n\u001b[0;32m   1300\u001b[0m \u001b[1;33m\u001b[0m\u001b[0m\n",
      "\u001b[1;31mMemoryError\u001b[0m: Unable to allocate 3.64 TiB for an array with shape (1000000, 1000000) and data type int32"
     ]
    }
   ],
   "source": [
    "#Go from sparse format to full-format\n",
    "A.todense()"
   ]
  },
  {
   "cell_type": "markdown",
   "id": "eb0eafcc",
   "metadata": {},
   "source": [
    "## CSC and CSR sparse storage"
   ]
  },
  {
   "cell_type": "markdown",
   "id": "cb2d18c8",
   "metadata": {},
   "source": [
    "Two sparse storgage formats that produce matrices that allow for easy manipulation are the **CSC (compressed sparse column) format** and the **CSR (compressed sparse row) format**. In case of the CSC-format, the following data is supplied to memory:\n",
    "1. The dimensions of the matrix\n",
    "2. A vector $v$ storing the row-indices of each nonzero entry.\n",
    "3. A vector storing at which index of $v$ each column starts.\n",
    "4. A vector containing all nonzero entries of the matrix.\n",
    "\n",
    "Below is an example where we create our matrix *A* in CSC-format."
   ]
  },
  {
   "cell_type": "code",
   "execution_count": 20,
   "id": "3e789dab",
   "metadata": {},
   "outputs": [
    {
     "name": "stdout",
     "output_type": "stream",
     "text": [
      "  (0, 1)\t2\n"
     ]
    }
   ],
   "source": [
    "#Data for CSC-storage\n",
    "n, m = 1000000, 1000000\n",
    "row = np.array([0]) \n",
    "colstart = np.ones(m + 1)\n",
    "colstart[[0,1]] = [0, 0]\n",
    "data = np.array([2])\n",
    "#Creating the matrix\n",
    "A = sp.sparse.csc_matrix((data, row, colstart), shape = (n, m))\n",
    "#Printing all-nonzero values and their coordinates\n",
    "print(A)"
   ]
  },
  {
   "cell_type": "markdown",
   "id": "fabe7170",
   "metadata": {},
   "source": [
    "Note that in the example above `colstart` needs to be a vector of size 1000001 since it needs to indicate for every column where it starts and ends with respect to the row index array. `colstart` begins with two zeros, since the first column is empty. The second entry in `colstart` is zero and the third is one. This means that the second column starts at index zero of `row` and ends at index one. This end index is not considered part of the column. Hence, this shows there is one nonzero entry in the second column. Its row-index is given by `row[0] = 0` and its value by `data[0] = 2`. Finally, all the other values in `colstart` are one, indicating that all other columns have that their nonzero values start at index one of `row` (which does not exist) and also end there, meaning all the other columns only contain zeros.\n",
    "\n",
    "You might have noticed that the CSC-format to define a matrix is pretty cumbersome. Hence, usually you want to define your matrix in COO-format and convert to CSC-format to do calculations with it. The example below shows how you would do that."
   ]
  },
  {
   "cell_type": "code",
   "execution_count": 23,
   "id": "9ca8ef47",
   "metadata": {},
   "outputs": [
    {
     "data": {
      "text/plain": [
       "<1000000x1000000 sparse matrix of type '<class 'numpy.intc'>'\n",
       "\twith 1 stored elements in Compressed Sparse Column format>"
      ]
     },
     "execution_count": 23,
     "metadata": {},
     "output_type": "execute_result"
    }
   ],
   "source": [
    "#Data for COO-storage\n",
    "n, m = 1000000, 1000000\n",
    "row = np.array([0])\n",
    "col = np.array([1])\n",
    "data = np.array([2])\n",
    "#Creating the matrix in COO-format\n",
    "A = sp.sparse.coo_matrix((data, (row, col)), shape = (n, m))\n",
    "#Converting to CSC-format\n",
    "A = A.tocsc()\n",
    "\n",
    "A #Showing that the format is indeed CSC"
   ]
  },
  {
   "cell_type": "markdown",
   "id": "7547ca02",
   "metadata": {},
   "source": [
    "CSR-format is similar to CSC-format, but in this case the role of the two index arrays flip. The following information needs to be provided:\n",
    "\n",
    "1. The dimensions of the matrix\n",
    "2. A vector $v$ storing the **column**-indices of each nonzero entry.\n",
    "3. A vector storing at which index of $v$ each **row** starts.\n",
    "4. A vector containing all nonzero entries of the matrix.\n",
    "\n",
    "Again we will give our matrix *A* as an example. Try to explain yourself why this code creates the correct format."
   ]
  },
  {
   "cell_type": "code",
   "execution_count": 25,
   "id": "9abd2e89",
   "metadata": {},
   "outputs": [
    {
     "name": "stdout",
     "output_type": "stream",
     "text": [
      "  (0, 1)\t2\n"
     ]
    }
   ],
   "source": [
    "#Data for CSR-storage\n",
    "n, m = 1000000, 1000000\n",
    "column = np.array([1]) \n",
    "rowstart = np.ones(m + 1)\n",
    "rowstart[0] = 0\n",
    "data = np.array([2])\n",
    "#Creating the matrix\n",
    "A = sp.sparse.csr_matrix((data, column, rowstart), shape = (n, m))\n",
    "#Printing all-nonzero values and their coordinates\n",
    "print(A)"
   ]
  },
  {
   "cell_type": "markdown",
   "id": "f1ac402f",
   "metadata": {},
   "source": [
    "Below is one more example where we create a sparse matrix in CSR-format. We first give the matrix in full-format, then define the matrix is CSR-format, and finally check whether these two matrices are the same. Try to explain again why this way of defining the CSR-format matrix is correct."
   ]
  },
  {
   "cell_type": "code",
   "execution_count": 28,
   "id": "e0376d72",
   "metadata": {},
   "outputs": [
    {
     "name": "stdout",
     "output_type": "stream",
     "text": [
      "[[0 2 0 0 3]\n",
      " [1 0 0 6 3]\n",
      " [0 0 0 0 0]\n",
      " [0 0 0 9 2]]\n",
      "  (0, 1)\t2\n",
      "  (0, 4)\t3\n",
      "  (1, 0)\t1\n",
      "  (1, 3)\t6\n",
      "  (1, 4)\t3\n",
      "  (3, 3)\t9\n",
      "  (3, 4)\t2\n",
      "[[ True  True  True  True  True]\n",
      " [ True  True  True  True  True]\n",
      " [ True  True  True  True  True]\n",
      " [ True  True  True  True  True]]\n"
     ]
    }
   ],
   "source": [
    "#Full-format matrix\n",
    "Mdense = np.array([[0,2,0,0,3],[1,0,0,6,3],[0,0,0,0,0],[0,0,0,9,2]])\n",
    "print(Mdense)\n",
    "\n",
    "#Sparse CSR-matrix\n",
    "n, m = 4, 5\n",
    "column = np.array([1, 4, 0, 3, 4, 3, 4])\n",
    "rowstart = np.array([0, 2, 5, 5, 7])\n",
    "data = np.array([2, 3, 1, 6, 3, 9, 2])\n",
    "Msparse = sp.sparse.csr_matrix((data, column, rowstart), shape = (n, m))\n",
    "print(Msparse)\n",
    "\n",
    "#Checking whether Mdense and Msparse are the same\n",
    "print(Mdense == Msparse)"
   ]
  },
  {
   "cell_type": "markdown",
   "id": "691b0ddc",
   "metadata": {},
   "source": [
    "**Exercise.** The first code block below generates a random full-format matrix. Use the second code block below to implement it as a sparse matrix. Experiment with COO-, CSC- and CSR-formats to get more familiar with them. You can also try to implement code that automatically turns a full-format matrix into a sparse format."
   ]
  },
  {
   "cell_type": "code",
   "execution_count": 43,
   "id": "73dddee7",
   "metadata": {},
   "outputs": [
    {
     "name": "stdout",
     "output_type": "stream",
     "text": [
      "The dense matrix is:\n",
      "[[1 0 0 2 0 1]\n",
      " [1 0 2 1 1 1]\n",
      " [0 0 1 0 2 1]]\n"
     ]
    }
   ],
   "source": [
    "#Creating a random matrix in full-format\n",
    "[n, m] = np.random.default_rng().integers(2, high = 7, size = 2)\n",
    "Mdense = np.random.default_rng().choice(3, size = (n, m), p = [0.5, 0.4, 0.1])\n",
    "print(\"The dense matrix is:\")\n",
    "print(Mdense)"
   ]
  },
  {
   "cell_type": "code",
   "execution_count": 44,
   "id": "91e8613e",
   "metadata": {},
   "outputs": [
    {
     "name": "stdout",
     "output_type": "stream",
     "text": [
      "False\n"
     ]
    }
   ],
   "source": [
    "#Use this code block to make a sparse matrix (called Msparse) that is the same as Mdense\n",
    "\n",
    "\n",
    "#Check whether you are correct\n",
    "print(Mdense == Msparse)"
   ]
  },
  {
   "cell_type": "markdown",
   "id": "08bf68e6",
   "metadata": {},
   "source": [
    "## Some notes on matrix operations and auxiliary functions"
   ]
  },
  {
   "cell_type": "markdown",
   "id": "c1716d42",
   "metadata": {},
   "source": [
    "When you are doing matrix operations with sparse matrices, the most important thing to keep in mind is to *never convert the matrix back to full-format*. In general this means that you should avoid *NumPy* funcitons as much as you can, since they only work with full-format matrices. The *Scipy.sparse* package has many of the same options as the *NumPy* package, but does not need full-format matrices. The example below shows that."
   ]
  },
  {
   "cell_type": "code",
   "execution_count": 56,
   "id": "37798899",
   "metadata": {},
   "outputs": [
    {
     "name": "stdout",
     "output_type": "stream",
     "text": [
      "The frobenius norm of A is: 2.0\n",
      "The frobenius norm of A is: \n"
     ]
    }
   ],
   "source": [
    "#Creating a sparse matrix\n",
    "n, m = 1000000, 1000000\n",
    "column = np.array([1]) \n",
    "rowstart = np.ones(m + 1)\n",
    "rowstart[0] = 0\n",
    "data = np.array([2])\n",
    "A = sp.sparse.csr_matrix((data, column, rowstart), shape = (n, m))\n",
    "\n",
    "#Calculating the frobenius norm of this matrix in a sparse way (the answer should be 2)\n",
    "out = sp.sparse.linalg.norm(A)\n",
    "print(\"The frobenius norm of A is: {}\".format(out))\n",
    "\n",
    "#Calculating the frobenius norm of this matrix using Numpy\n",
    "out = np.linalg.norm(A)\n",
    "print(\"The frobenius norm of A is: {}\".format(out))"
   ]
  },
  {
   "cell_type": "markdown",
   "id": "7e9faa44",
   "metadata": {},
   "source": [
    "When using functions on sparse matrices, be aware that certain functions work much better in certain formats due to how things are stored in memory. Some examples are:\n",
    "- COO-matrices are not really suited for arithmatic operations and slicing. They need to be converted to a CSC- or CSR-format.\n",
    "- CSR-matrices are well suited for row selection, but terrible at column selection. This is because in CSR-format row data is placed adjacent in memory, while column data is scattered all over memory.\n",
    "- CSC-matrices are well suited for column selection, but terrible at row selection. This is because in CSC-format column data is placed adjacent in memory, while row data is scattered all over memory.\n",
    "\n",
    "The code block below should show these three examples. Be aware that it can take up to one minute to run this block. If you want a quicker, but less convincing output, remove one of the zeros from $n$ and $m$."
   ]
  },
  {
   "cell_type": "code",
   "execution_count": 65,
   "id": "a5440f72",
   "metadata": {},
   "outputs": [
    {
     "name": "stdout",
     "output_type": "stream",
     "text": [
      "I could not extract the second column from A...\n",
      "The second column of A is:   (0, 0)\t1\n",
      "This operation took me 25.35190176963806 seconds in CSR-format\n",
      "The second column of A is:   (0, 0)\t1\n",
      "This operation took me 0.04050087928771973 seconds in CSC-format\n"
     ]
    }
   ],
   "source": [
    "#The matrix A contains all zeros except for the first row, which only contains ones.\n",
    "n, m = 1000000000, 1000000000\n",
    "row = np.zeros(m)\n",
    "col = np.arange(n)\n",
    "data = np.ones_like(col)\n",
    "A = sp.sparse.coo_matrix((data, (row, col)), shape = (n, m)) \n",
    "\n",
    "#Try to select the second column in COO-form\n",
    "try:\n",
    "    print(A[:,1])\n",
    "except:\n",
    "    print(\"I could not extract the second column from A...\")\n",
    "    \n",
    "#Try to select the second column in CSR-form and time the result\n",
    "import time\n",
    "Acsr = A.tocsr()\n",
    "t1 = time.time()\n",
    "print(\"The second column of A is: {}\".format(Acsr[:,1]))\n",
    "print(\"This operation took me {} seconds in CSR-format\".format(time.time() - t1))\n",
    "\n",
    "#Try to select the second column in CSC-form and time the result\n",
    "Acsc = A.tocsc()\n",
    "t1 = time.time()\n",
    "print(\"The second column of A is: {}\".format(Acsc[:,1]))\n",
    "print(\"This operation took me {} seconds in CSC-format\".format(time.time() - t1))"
   ]
  },
  {
   "cell_type": "markdown",
   "id": "d27bac23",
   "metadata": {},
   "source": [
    "Finally, in the course we will be working with the *NetworkX* package a lot. If you ever extract things like the adjacency matrix from this package, then it will be given in a sparse format. The example below shows this."
   ]
  },
  {
   "cell_type": "code",
   "execution_count": 71,
   "id": "36c6cbc0",
   "metadata": {},
   "outputs": [
    {
     "name": "stderr",
     "output_type": "stream",
     "text": [
      "C:\\Users\\s159636\\AppData\\Local\\Temp\\ipykernel_9112\\1545770259.py:4: FutureWarning: adjacency_matrix will return a scipy.sparse array instead of a matrix in Networkx 3.0.\n",
      "  Adj = nx.adjacency_matrix(G)\n"
     ]
    },
    {
     "name": "stdout",
     "output_type": "stream",
     "text": [
      "Is the adjacency matrix sparse? True\n"
     ]
    }
   ],
   "source": [
    "import networkx as nx\n",
    "\n",
    "G = nx.fast_gnp_random_graph(10**6, 2*10**(-6)) #Create an Erdos-Renyi random graph.\n",
    "Adj = nx.adjacency_matrix(G)\n",
    "print(\"Is the adjacency matrix sparse? {}\".format(sp.sparse.issparse(Adj))) #Checks if the matrix is sparse"
   ]
  }
 ],
 "metadata": {
  "kernelspec": {
   "display_name": "Python 3 (ipykernel)",
   "language": "python",
   "name": "python3"
  },
  "language_info": {
   "codemirror_mode": {
    "name": "ipython",
    "version": 3
   },
   "file_extension": ".py",
   "mimetype": "text/x-python",
   "name": "python",
   "nbconvert_exporter": "python",
   "pygments_lexer": "ipython3",
   "version": "3.11.4"
  }
 },
 "nbformat": 4,
 "nbformat_minor": 5
}
