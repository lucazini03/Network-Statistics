{
 "cells": [
  {
   "cell_type": "markdown",
   "id": "ddbb431d",
   "metadata": {},
   "source": [
    "# Link prediction - Exploration"
   ]
  },
  {
   "cell_type": "markdown",
   "id": "2e501ec4",
   "metadata": {},
   "source": [
    "In this notebook we will get you acquainted with the problem of link prediction. Roughly speaking, link prediction methods take a graph $G = (V, E)$ where the edge set $E$ is *incomplete*. The task of link prediction methods is then to point out likely missing edges from $E$. We will start looking at a simple graph where you probably see exactly where the missing links are."
   ]
  },
  {
   "cell_type": "markdown",
   "id": "983b6fdc",
   "metadata": {},
   "source": [
    "**Exercise 1.** Write code to read the graph in the file ```graph_with_missing_links_1.gz```, and plot it. In this graph some arcs are missing. Try to identify by simply looking at the graph where arcs could be missing. What is the reason behing your choice?"
   ]
  },
  {
   "cell_type": "code",
   "execution_count": null,
   "id": "4460b2d7",
   "metadata": {},
   "outputs": [],
   "source": [
    "import networkx as nx\n",
    "\n",
    "#Your answer goes here"
   ]
  },
  {
   "cell_type": "markdown",
   "id": "60247007",
   "metadata": {},
   "source": [
    "**Exercise 2.** Write a function that puts your reasoning in previous question into practice. Ensure it outputs *one* edge that is most likely missing. Test your code on the previous graph. Does it output an edge you expected? If it did not: can you explain why?"
   ]
  },
  {
   "cell_type": "code",
   "execution_count": null,
   "id": "2103c771",
   "metadata": {},
   "outputs": [],
   "source": [
    "def findMissingEdge(G):\n",
    "    edge = [0, 0]\n",
    "    \n",
    "    # Your answer goes here\n",
    "    \n",
    "    return edge"
   ]
  },
  {
   "cell_type": "markdown",
   "id": "bc35fd4a",
   "metadata": {},
   "source": [
    "The method you have just found probably works well on the previous graph, because it is quite regular. Maybe you can even guess how we generated it. Of course, real-life networks are often less regular, meaning your method might not be well suited for other networks. Let us try your method on a network on a network that is less regular."
   ]
  },
  {
   "cell_type": "markdown",
   "id": "815df4b4",
   "metadata": {},
   "source": [
    "**Exercise 3.** Try your method on the graph in the file ```graph_with_missing_links_2.gz```. We reveal we have removed links $\\{0, 5\\}, \\{0, 6\\}$ and $\\{0, 7\\}$. Did your method output one of these edges?"
   ]
  },
  {
   "cell_type": "code",
   "execution_count": null,
   "id": "d162bf24",
   "metadata": {},
   "outputs": [],
   "source": [
    "#Your answer goes here"
   ]
  },
  {
   "cell_type": "markdown",
   "id": "4066465d",
   "metadata": {},
   "source": [
    "We reveal that the graph of the previous exercise was generated with a stochastic block model with parameters $\\vec{n} = (15, 15)$ and $$P = \\begin{pmatrix}\n",
    "0.8 & 0.05 \\\\\n",
    "   0.05  & 0.4\n",
    "\\end{pmatrix}.$$ Note that all removed edges were moving from a vertex of block 1 to another vertex of block 1."
   ]
  },
  {
   "cell_type": "markdown",
   "id": "35ff9f1f",
   "metadata": {},
   "source": [
    "**Exercise 4.** Look back at the edge your method outputted in Exercise 3. Does it connect vertices of the same blocks? If it does not, can you think of a reason why it does not. Adapt your method, so it is better suited for stochastic block models, and test it on the graph from Exercise 3. Ensure your improved method does *not* input $\\vec{n}$ or $P$."
   ]
  },
  {
   "cell_type": "code",
   "execution_count": null,
   "id": "7702984f",
   "metadata": {},
   "outputs": [],
   "source": [
    "def predictLinkSBM(G):\n",
    "    edge = [0, 0]\n",
    "    \n",
    "    # Your answer goes here\n",
    "    \n",
    "    return edge"
   ]
  },
  {
   "cell_type": "markdown",
   "id": "24362088",
   "metadata": {},
   "source": [
    "It is actually pretty weird that your methods only output *one* edge. In the examples before multiple edges were missing. In practice, you never know how many edges are missing. Moreover, it could be that the first edges your algorithm outputs is wrong while the subsequent ones are correct. Therefore, it makes more sense to give all edges a *score* (called its **reliability**) that measure how \"ceartain\" your can be this edge is missing from the graph."
   ]
  },
  {
   "cell_type": "markdown",
   "id": "5c16ec7c",
   "metadata": {},
   "source": [
    "**Exercise 5.** Rework your general and stochastic block model specific method to give each edge a reliability. Test your methods again on the two graphs. How high do the actual missing edges rank?"
   ]
  },
  {
   "cell_type": "code",
   "execution_count": null,
   "id": "51d5ba48",
   "metadata": {},
   "outputs": [],
   "source": [
    "def findMissingEdgeReliable(G):\n",
    "    Adj = nx.adjacency_matrix(G)\n",
    "    reliabilityMatrix = np.zeros_like(Adj)\n",
    "    \n",
    "    # Your answer goes here\n",
    "    \n",
    "    return reliabilityMatrix\n",
    "\n",
    "def predictLinkSBMReliable(G):\n",
    "    Adj = nx.adjacency_matrix(G)\n",
    "    reliabilityMatrix = np.zeros_like(Adj)\n",
    "    \n",
    "    # Your answer goes here\n",
    "    \n",
    "    return reliabilityMatrix"
   ]
  },
  {
   "cell_type": "markdown",
   "id": "196070c0",
   "metadata": {},
   "source": [
    "We end by testing your new methods on a real-life network. From this network we have removed edge $\\{13, 33\\}$ and $\\{2, 3\\}$."
   ]
  },
  {
   "cell_type": "markdown",
   "id": "fb22d994",
   "metadata": {},
   "source": [
    "**Exercise 6.** Load the graph ```graph_with_missing_links_3.gz```, and apply both your link prediction methods on this graph. Which method has performed better? Think of reasons why this method has performed better on this real-life network. Can you think of real-life networks where the other method might have been better?"
   ]
  },
  {
   "cell_type": "code",
   "execution_count": null,
   "id": "963e5660",
   "metadata": {},
   "outputs": [],
   "source": [
    "#Your answer goes here."
   ]
  }
 ],
 "metadata": {
  "kernelspec": {
   "display_name": "Python 3 (ipykernel)",
   "language": "python",
   "name": "python3"
  },
  "language_info": {
   "codemirror_mode": {
    "name": "ipython",
    "version": 3
   },
   "file_extension": ".py",
   "mimetype": "text/x-python",
   "name": "python",
   "nbconvert_exporter": "python",
   "pygments_lexer": "ipython3",
   "version": "3.10.6"
  }
 },
 "nbformat": 4,
 "nbformat_minor": 5
}
