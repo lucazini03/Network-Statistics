{
 "cells": [
  {
   "cell_type": "markdown",
   "id": "abfad552",
   "metadata": {},
   "source": [
    "# Link prediction - workshop similarity based methods"
   ]
  },
  {
   "cell_type": "markdown",
   "id": "8bfba3d7",
   "metadata": {},
   "source": [
    "In this workshop we will look at two types of methods to do link prediction: **similarity based methods**, and **maximum likelihood based methods**. The main idea behind similarity based methods, is that you choose a similarity metric (like the number of common neighbours) and base the reliability of an edge on the score from this metric. The art of this method is choosing a suitable similarity metric for your problem. The main idea behind maximum likelihood based methods, is that you choose an underlying model that your graph is generated from and compute the likelihood of a new edge being present in this model given the current state of the graph. This likelihood is then the reliability of a link. "
   ]
  },
  {
   "cell_type": "markdown",
   "id": "241615a8",
   "metadata": {},
   "source": [
    "## Similarity based methods - Local"
   ]
  },
  {
   "cell_type": "markdown",
   "id": "b79c47dd",
   "metadata": {},
   "source": [
    "Similarity based methods are the oldest link prediction method and come in two general flavours: ones that use **local similarity indices** and ones that use **global similarity indices**. Given a graph $G = (V, E)$ local indices, as the name suggests, base the reliability of a link $\\{v, w\\} \\in E$ on local information around $v, w \\in V$. The simplest of these is the **common neighbour** (CN) index. This method is based on the following idea: if we have a social network and two individuals $v$ and $w$ have many common friends, then they are likely part of the same friend group. Hence, link $\\{v, w\\}$ should be part of the graph. In light of this heuristic, if we denote $\\Gamma(v)$ the set of neighbors of $v \\in V$, then the CN index of two vertices $v, w \\in V$ is given by $$s_{vw}^{\\texttt{CN}} = |\\Gamma(v) \\cap \\Gamma(w)|.$$"
   ]
  },
  {
   "cell_type": "markdown",
   "id": "7e5add8a",
   "metadata": {},
   "source": [
    "**Exercise 1.** Use the common neighbour index to do link prediction on the graph in ```link_prediction_similarity1.gz```. Below is the list of removed links. Assess how well this method performs. Are there certain missing links the algorithm is \"better\" at spotting than others? Can you find a reason for this? You may use the skeleton below to structure your code.\n",
    "\n",
    "*Missing links: $\\{0,3\\}, \\{0,7\\}, \\{0,15\\}, \\{0, 59\\}, \\{2, 16\\}, \\{10, 47\\}, \\{22, 34\\}, \\{36,46\\}, \\{36,56\\}, \\{88, 98\\}$.*"
   ]
  },
  {
   "cell_type": "code",
   "execution_count": 4,
   "id": "7ae7e540",
   "metadata": {},
   "outputs": [
    {
     "data": {
      "image/png": "[encoded data removed]",
      "text/plain": [
       "<Figure size 640x480 with 1 Axes>"
      ]
     },
     "metadata": {},
     "output_type": "display_data"
    }
   ],
   "source": [
    "import networkx as nx\n",
    "import numpy as np\n",
    "from matplotlib import pyplot as plt\n",
    "\n",
    "def computeCNSimilarity(Adj):\n",
    "    \"\"\"\n",
    "    Computes CN reliability of a graph with adjacency matrix Adj.\n",
    "    \n",
    "    INPUT\n",
    "    -----\n",
    "    Adj : Symmetric np.array() with {0, 1} entries;\n",
    "        Adjacency matrix of the input graph.\n",
    "        \n",
    "    OUTPUT\n",
    "    ------\n",
    "    reliability : np.array() with float entries;\n",
    "        Matrix that shows the reliability of each edge in the graph.\n",
    "    \"\"\"\n",
    "    reliability = np.zeros_like(Adj)\n",
    "    \n",
    "    # Your answer goes here\n",
    "    \n",
    "    return reliability\n",
    "\n",
    "\n",
    "# The code below should show you what the reliability of missing links are.\n",
    "\n",
    "# Read graph\n",
    "G = \"Read the graph\"\n",
    "Adj = np.zeros((100,100)) #Compute the adjacency matrix from G\n",
    "\n",
    "# Order reliabilities from lowest to highest to find predictions\n",
    "reliability = computeCNSimilarity(Adj)\n",
    "ind = np.argsort(reliability, axis=None) \n",
    "sortedReliability = np.sort(reliability, axis = None)\n",
    "\n",
    "# Give the indices of the truely missing links\n",
    "trueMissing = np.ravel_multi_index([[2,22,88,0,0,0,10,36,36,0],[16,34,98,3,7,15,47,46,56,59]],Adj.shape)\n",
    "\n",
    "# Plot the reliabilities in a graph. Jitter the y-axis to make most points visible\n",
    "yvals = np.random.rand(len(ind))\n",
    "xvals = sortedReliability\n",
    "plt.scatter(xvals,yvals, marker = \"+\")\n",
    "\n",
    "# Mark the truely missing links in red\n",
    "plt.scatter(xvals[np.in1d(ind, trueMissing)], yvals[np.in1d(ind, trueMissing)], c = \"red\" )\n",
    "plt.xlabel(\"Reliability\")\n",
    "plt.show()"
   ]
  },
  {
   "cell_type": "markdown",
   "id": "fc6eb3bb",
   "metadata": {},
   "source": [
    "**Exercise 2.** Think of a network generated through a configuration model where the degree sequence consists of the element $2$ at all even entries, and $100$ at all odd entries. Which reliability will be bigger: $s^{\\texttt{CN}}_{13}$ or $s^{\\texttt{CN}}_{24}$? Why is this a problem? Create a new similarity score that solves the issues raised by this example, en test it on ```link_prediction_similarity1.gz```. Did the performance improve?"
   ]
  },
  {
   "cell_type": "code",
   "execution_count": 5,
   "id": "91b64587",
   "metadata": {
    "scrolled": false
   },
   "outputs": [],
   "source": [
    "import networkx as nx\n",
    "import numpy as np\n",
    "from matplotlib import pyplot as plt\n",
    "\n",
    "#Your answer goes here"
   ]
  },
  {
   "cell_type": "markdown",
   "id": "bd9c6f9a",
   "metadata": {},
   "source": [
    "In the previous exercise you have probably seen that performance indeed increased a little with your new metric. At the very least you should have seen some improvement for the missing arcs that already had a (relatively) high reliability in the first exercise. This should show that the usefulness of a similarity metric really depends on the type of network data you are dealing with."
   ]
  },
  {
   "cell_type": "markdown",
   "id": "c9567a1a",
   "metadata": {},
   "source": [
    "**Exercise 3.** Compare the solution used in the previous exercise to the *Salton*, *Jaccard* and *Sørensen* index in literature. Was your solution the same as one of these indices? *NetworkX* has an out-of-the-box implementation of four local similarity indices (on of them being the Jaccard index). Try them out on ```link_prediction_similarity1.gz```. Which works best? Can you think of a reason for this?"
   ]
  },
  {
   "cell_type": "code",
   "execution_count": 6,
   "id": "1c34dc56",
   "metadata": {},
   "outputs": [],
   "source": [
    "import networkx as nx\n",
    "import numpy as np\n",
    "from matplotlib import pyplot as plt\n",
    "\n",
    "# Your answer goes here"
   ]
  },
  {
   "cell_type": "markdown",
   "id": "191e2866",
   "metadata": {},
   "source": [
    "## Similarity based methods - Global"
   ]
  },
  {
   "cell_type": "markdown",
   "id": "c14aba67",
   "metadata": {},
   "source": [
    "You have now done some link prediction on some local similarity indices, and you have even designed one such index yourself. Of course, you can argue that local indices are not perfect, since they do not incorporate information about the whole graph when predicting links. Global similarity indices do use all available information of the graph. They can often be written as a function of the graph's adjacency matrix. The simplest example is maybe the **Katz index** (KI). This index gives to vertices $v, w \\in V$ a higher similarity index if there are more (short) paths connecting the two vertices.\n",
    "\n",
    "If $A$ is the adjacency matrix of a graph, then note that the matrix power $A^n$ counts all the paths of length $n$ between two vertices. Hence, we can write the Katz index as $$S^{\\texttt{Katz}} = \\sum_{n = 1}^\\infty \\beta^n A^n.$$ Here, $\\beta$ is a parameter that should be chosen small enough such that the sum converges. The smaller $\\beta$ is chosen, the less long paths matter. If the aforementioned sum converges, then it converges to the following value: $$S^{\\texttt{Katz}} = (I - \\beta A)^{-1} - I.$$ Here, $I$ is the identity matrix. The reliability of vertex-pair $v, w \\in V$ is now given by entry $(v, w)$ in the matrix $S^{\\texttt{Katz}}$."
   ]
  },
  {
   "cell_type": "markdown",
   "id": "e545520d",
   "metadata": {},
   "source": [
    "**Exercise 4.** Implement the Katz index and try it on ```link_prediction_similarity1.gz```. Use (at least) the following parameter values: $\\beta = \\{1/20, 1/25, 1/50, 1/1000\\}$. For which values of $\\beta$ did the algorithm break and why? Also, What do you notice as $\\beta \\to 0$? Can you explain this? Finally, does the Katz index work better than any of the local indices?"
   ]
  },
  {
   "cell_type": "code",
   "execution_count": 7,
   "id": "756c855c",
   "metadata": {},
   "outputs": [],
   "source": [
    "import networkx as nx\n",
    "import numpy as np\n",
    "from matplotlib import pyplot as plt\n",
    "\n",
    "# Your answer goes here"
   ]
  },
  {
   "cell_type": "markdown",
   "id": "89eb43c7",
   "metadata": {},
   "source": [
    "Of course, the Katz index is not the only global similarity index out there. There is a whole zoo of global indices, like the **average commute time index**, the **matrix forest index** or the **Leicht-Holme-Newman index**. Like with the local indices, all have their place to shine and their effectiveness heavily depends on how the dataset is constructed. Often, for global similarity indices it is harder to check whether your dataset meets its underlying assumptions."
   ]
  },
  {
   "cell_type": "markdown",
   "id": "5e5604fe",
   "metadata": {},
   "source": [
    "**Exercise 5$\\star$.** Look up these three global similarity indices in litarature, and choose your favourite. Implement this index and do link prediction on ```link_prediction_similarity1.gz```. Does it work better than the Katz index? "
   ]
  },
  {
   "cell_type": "code",
   "execution_count": 8,
   "id": "e624f927",
   "metadata": {},
   "outputs": [],
   "source": [
    "import networkx as nx\n",
    "import numpy as np\n",
    "from matplotlib import pyplot as plt\n",
    "\n",
    "# Your answer goes hee"
   ]
  },
  {
   "cell_type": "markdown",
   "id": "8dc35591",
   "metadata": {},
   "source": [
    "You have now probably seen that global similarity scores do not always work better than local ones. There is one final class of similarity based methods that seek to take the best of both worlds: **Quasi-local indices**. These use information from more vertices than the direct neighbors of a target vertex pair, but they do not use information of all vertices in the graph. One with a out-of-the-box implementation in NetworkX, is the **Common Neighbor and Centrality based Parameterized Algorithm** (CCPA) score. It has one free parameter $\\alpha \\in [0, 1]$, and if $s_{vw}^{\\texttt{CCPA}}$ denotes the CCPA score of two vertices $v, w \\in V$, then it is given by $$s_{vw}^{\\texttt{CCPA}} = \\alpha \\cdot |\\Gamma(v) \\cap \\Gamma(w)| + (1 - \\alpha) \\cdot \\frac{N}{d_{vw}}.$$ Here, $\\Gamma(v)$ denotes the set of neighbours of $v$, $N$ is the total number of nodes and $d_{vw}$ is the distance between $v$ and $w$."
   ]
  },
  {
   "cell_type": "markdown",
   "id": "c251fa4a",
   "metadata": {},
   "source": [
    "**Exercise 6.** Use the NetworkX implementation of CCPA to do link prediction on ```link_prediction_similarity1.gz```. Try to find which value of $\\alpha$ works best. How does this method perform compared to the local and global methods you have seen?"
   ]
  },
  {
   "cell_type": "code",
   "execution_count": 9,
   "id": "2f8aeb2b",
   "metadata": {},
   "outputs": [],
   "source": [
    "import networkx as nx\n",
    "import numpy as np\n",
    "from matplotlib import pyplot as plt\n",
    "\n",
    "# Your answer goes here"
   ]
  },
  {
   "cell_type": "markdown",
   "id": "acd63645",
   "metadata": {},
   "source": [
    "We now reveal that the data in ```link_prediction_similarity1``` was generated through a stochastic block model. The code is given below. You have seen some methods that were biassed, some methods that performed poorly, and some methods that performed relatively okay (ranking the first missing vertex around place 15 out of 10000). However, you have never really seen a method where the missing vertices overwhelmingly come out on top. You also could not really expect this given the way how the data was generated."
   ]
  },
  {
   "cell_type": "code",
   "execution_count": 10,
   "id": "b4f14405",
   "metadata": {},
   "outputs": [],
   "source": [
    "import networkx as nx\n",
    "\n",
    "G = nx.stochastic_block_model([20, 30, 50], [[0.8, 0.1, 0.02], [0.1, 0.6, 0.1], [0.02, 0.1, 0.3]], seed = 1)\n",
    "G.edges\n",
    "G.remove_edge(2, 16)\n",
    "G.remove_edge(22, 34)\n",
    "G.remove_edge(88, 98)\n",
    "G.remove_edge(0, 3)\n",
    "G.remove_edge(0, 7)\n",
    "G.remove_edge(0, 15)\n",
    "G.remove_edge(10, 47)\n",
    "G.remove_edge(36, 46)\n",
    "G.remove_edge(36, 56)\n",
    "G.remove_edge(0, 59)\n",
    "nx.write_edgelist(G, \"link_prediction_similarity1.gz\")"
   ]
  },
  {
   "cell_type": "markdown",
   "id": "1bbfaa9b",
   "metadata": {},
   "source": [
    "**Exercise 7.** Explain why it would be almost impossible for a link prediction method to retrieve all missing links."
   ]
  },
  {
   "cell_type": "markdown",
   "id": "a5120b76",
   "metadata": {},
   "source": [
    "## Real data and validation"
   ]
  },
  {
   "cell_type": "markdown",
   "id": "e3a5a406",
   "metadata": {},
   "source": [
    "We will end the workshop by looking at a real dataset. This is a dataset where nodes are dolphins and each link between two nodes represents \"frequent association\". The dataset is given in ```link_prediction_similarity2.gz```. We have removed three edges ($\\{29, 48\\}, \\{58, 49\\}, \\{9, 60\\}$)."
   ]
  },
  {
   "cell_type": "markdown",
   "id": "8753aa49",
   "metadata": {},
   "source": [
    "**Exercise 8.** Use your favourite link prediction method on the Dolphin dataset. What would be a good choice of similarity score and why? *Hint: link $\\{58, 49\\}$ is most difficult to predict.*"
   ]
  },
  {
   "cell_type": "code",
   "execution_count": 11,
   "id": "0d9a5f04",
   "metadata": {},
   "outputs": [],
   "source": [
    "import networkx as nx\n",
    "import numpy as np\n",
    "from matplotlib import pyplot as plt\n",
    "\n",
    "# Your answer goes here"
   ]
  },
  {
   "cell_type": "markdown",
   "id": "0ee2cbc1",
   "metadata": {},
   "source": [
    "In certain exercises you were asked to assess the performance of a link prediction algorithm. You have probably found out that this is not an easy task. In general, validation for link prediction is a difficult talk, since we do not know that the actual network looks like. Usually this lack of a ground truth is mediated by using **cross-validation** methods. The idea is to remove extra edges from a network, and using the link prediction method to assess how well these extra edges are retrieved. By doing this multiple times, and averaging over the results you can obtain a score that tells you how well the link prediction method performs on a given problem."
   ]
  },
  {
   "cell_type": "markdown",
   "id": "9341c455",
   "metadata": {},
   "source": [
    "**Exercise 9.** The code below implements a specific cross-validation method for the Jaccard index. Find out what the code does, and add comments to explain the procedure. Then, adapt it to other link prediction methods and test it on the Dolphin dataset to validate different link prediction methods."
   ]
  },
  {
   "cell_type": "code",
   "execution_count": null,
   "id": "0050348d",
   "metadata": {},
   "outputs": [],
   "source": [
    "def leaveOneOutJaccard(G):\n",
    "    AUC = 0\n",
    "    for e in G.edges:\n",
    "        Gprobed = G.copy()\n",
    "        Gprobed.remove_edge(e[0],e[1])\n",
    "        target = nx.jaccard_coefficient(Gprobed, [e])\n",
    "        for _, _, p in target:\n",
    "            reliabilityTarget = p\n",
    "        \n",
    "        reliability = nx.jaccard_coefficient(Gprobed)\n",
    "        better = 0\n",
    "        same = 0\n",
    "        total = 0\n",
    "        for _, _, p in reliability:\n",
    "            if p < reliabilityTarget:\n",
    "                better += 1\n",
    "            elif p == reliabilityTarget:\n",
    "                same += 1\n",
    "            total += 1\n",
    "        \n",
    "        AUC += (0.5 * same + better) / total\n",
    "    return AUC / len(G.edges)"
   ]
  },
  {
   "cell_type": "markdown",
   "id": "526589b0",
   "metadata": {},
   "source": [
    "In this workshop you have now tried out some similarity based link prediction methods on both real and synthetic data. You should now have noticed the following:\n",
    "- Link prediction is a difficult task, and in practice it is almost impossible to retrieve the missing links exactly.\n",
    "- The performance of similarity based link prediction methods depends heavily on the chosen similarity metric.\n",
    "- Similarity based methods are often fast and easy to implement. Local metrics more so than global ones.\n",
    "- Using more complex similarity based method is not always better.\n",
    "- It is not easy to validate and assess performance of link prediction algorithms (more on this in a later lecture)."
   ]
  }
 ],
 "metadata": {
  "kernelspec": {
   "display_name": "Python 3 (ipykernel)",
   "language": "python",
   "name": "python3"
  },
  "language_info": {
   "codemirror_mode": {
    "name": "ipython",
    "version": 3
   },
   "file_extension": ".py",
   "mimetype": "text/x-python",
   "name": "python",
   "nbconvert_exporter": "python",
   "pygments_lexer": "ipython3",
   "version": "3.10.6"
  }
 },
 "nbformat": 4,
 "nbformat_minor": 5
}
