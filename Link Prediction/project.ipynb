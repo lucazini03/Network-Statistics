{
  "cells": [
    {
      "cell_type": "markdown",
      "metadata": {
        "id": "cGPyj_okSGq2"
      },
      "source": [
        "***Dataset Description***\n",
        "The file netscience.gml contains a coauthorship network of scientists working on network theory and experiment. The network was compiled from bibliographies of review articles on networks with additional references added by hand. This version contains all components of the network (1589 scientists), not just the largest component of 379 scientists previously published. The network is weighted, with weights assigned as described in M. E. J. Newman, Phys. Rev. E 64, 016132 (2001).\n",
        "\n",
        "We'll use the Resource Allocation Index as our similarity metric, which has been shown to perform well on scientific collaboration networks. We'll implement k-fold cross-validation to evaluate the performance of our link prediction method.\n",
        "\n"
      ]
    },
    {
      "cell_type": "code",
      "execution_count": 13,
      "metadata": {
        "id": "6NAU9yjjSGq4"
      },
      "outputs": [],
      "source": [
        "import networkx as nx\n",
        "import numpy as np\n",
        "import matplotlib.pyplot as plt\n",
        "from sklearn.metrics import roc_curve, auc\n",
        "import random\n",
        "from collections import defaultdict"
      ]
    },
    {
      "cell_type": "code",
      "execution_count": 14,
      "metadata": {
        "colab": {
          "base_uri": "https://localhost:8080/"
        },
        "id": "ce7WiWW2SGq4",
        "outputId": "cba97fb6-aaf1-4bf1-b567-1ad510e91a00"
      },
      "outputs": [
        {
          "output_type": "stream",
          "name": "stdout",
          "text": [
            "Number of nodes: 1589\n",
            "Number of edges: 2742\n",
            "Graph density: 0.002173\n",
            "Is connected: False\n",
            "Number of connected components: 396\n",
            "Size of largest component: 379\n",
            "Average degree: 3.45\n",
            "Maximum degree: 34\n"
          ]
        }
      ],
      "source": [
        "# Load the network\n",
        "G = nx.read_gml('netscience.gml')\n",
        "\n",
        "print(f\"Number of nodes: {G.number_of_nodes()}\")\n",
        "print(f\"Number of edges: {G.number_of_edges()}\")\n",
        "print(f\"Graph density: {nx.density(G):.6f}\")\n",
        "print(f\"Is connected: {nx.is_connected(G)}\")\n",
        "\n",
        "# Check for multiple components\n",
        "components = list(nx.connected_components(G))\n",
        "print(f\"Number of connected components: {len(components)}\")\n",
        "print(f\"Size of largest component: {len(max(components, key=len))}\")\n",
        "\n",
        "# Basic network statistics\n",
        "degrees = [d for n, d in G.degree()]\n",
        "print(f\"Average degree: {np.mean(degrees):.2f}\")\n",
        "print(f\"Maximum degree: {max(degrees)}\")"
      ]
    },
    {
      "cell_type": "code",
      "execution_count": 15,
      "metadata": {
        "id": "JQVQrbKqSGq5"
      },
      "outputs": [],
      "source": [
        "def resource_allocation_index(G, u, v):\n",
        "    \"\"\"\n",
        "    Compute Resource Allocation Index between nodes u and v\n",
        "    \"\"\"\n",
        "    common_neighbors = set(G.neighbors(u)) & set(G.neighbors(v))\n",
        "    score = 0.0\n",
        "    for z in common_neighbors:\n",
        "        score += 1.0 / G.degree(z)\n",
        "    return score"
      ]
    },
    {
      "cell_type": "code",
      "execution_count": 16,
      "metadata": {
        "id": "SWj3GJEdSGq5"
      },
      "outputs": [],
      "source": [
        "def k_fold_link_prediction(G, k=5, similarity_func=resource_allocation_index):\n",
        "    \"\"\"\n",
        "    Perform k-fold cross-validation for link prediction\n",
        "\n",
        "    Parameters:\n",
        "    G: networkx graph\n",
        "    k: number of folds\n",
        "    similarity_func: function to compute similarity scores\n",
        "\n",
        "    Returns:\n",
        "    all_probs: list of similarity scores\n",
        "    all_labels: list of labels (1 for true edges, 0 for non-edges)\n",
        "    \"\"\"\n",
        "    # Convert to list for indexing\n",
        "    nodes = list(G.nodes())\n",
        "    edges = list(G.edges())\n",
        "\n",
        "    # Create non-existent edges for negative examples\n",
        "    non_edges = list(nx.non_edges(G))\n",
        "\n",
        "    # Shuffle edges and non-edges\n",
        "    random.shuffle(edges)\n",
        "    random.shuffle(non_edges)\n",
        "\n",
        "    # Split into k folds\n",
        "    edge_folds = np.array_split(edges, k)\n",
        "    non_edge_folds = np.array_split(non_edges, k)\n",
        "\n",
        "    all_probs = []\n",
        "    all_labels = []\n",
        "\n",
        "    for fold in range(k):\n",
        "        #rint(f\"Processing fold {fold + 1}/{k}\")\n",
        "\n",
        "        # Create training graph (remove edges from this fold)\n",
        "        train_G = G.copy()\n",
        "        edges_to_remove = edge_folds[fold]\n",
        "        train_G.remove_edges_from(edges_to_remove)\n",
        "\n",
        "        # Test pairs: removed edges (positive) + some non-edges (negative)\n",
        "        test_positive = list(edges_to_remove)  # Convert to list\n",
        "        test_negative = list(non_edge_folds[fold][:len(test_positive)])  # Convert to list\n",
        "        #test_negative = list(non_edge_folds[fold])  # we use all non-edges in the fold as negative samples, to have more robust evaluation\n",
        "        #this is what the professor does in the leave-one-out example\n",
        "\n",
        "        test_pairs = test_positive + test_negative  # Now this works with lists\n",
        "        test_labels = [1] * len(test_positive) + [0] * len(test_negative)\n",
        "\n",
        "        # Compute similarity scores\n",
        "        fold_scores = []\n",
        "        for u, v in test_pairs:\n",
        "            fold_scores.append(similarity_func(train_G, u, v))\n",
        "\n",
        "        all_probs.extend(fold_scores)\n",
        "        all_labels.extend(test_labels)\n",
        "\n",
        "    return all_probs, all_labels\n",
        "\n",
        "def evaluate_link_prediction(probs, labels):\n",
        "    \"\"\"\n",
        "    Evaluate link prediction performance using AUC\n",
        "    \"\"\"\n",
        "    fpr, tpr, thresholds = roc_curve(labels, probs)\n",
        "    roc_auc = auc(fpr, tpr)\n",
        "\n",
        "    return fpr, tpr, roc_auc"
      ]
    },
    {
      "cell_type": "code",
      "execution_count": 17,
      "metadata": {
        "id": "dOoix9UrSGq6"
      },
      "outputs": [],
      "source": [
        "# Since the full network is large, we'll work with the largest connected component\n",
        "# to ensure reasonable computation time\n",
        "probs, labels = k_fold_link_prediction(G, k=5)"
      ]
    },
    {
      "cell_type": "code",
      "execution_count": 18,
      "metadata": {
        "colab": {
          "base_uri": "https://localhost:8080/",
          "height": 633
        },
        "id": "R1taf-l1SGq6",
        "outputId": "f4041745-3332-48b3-cf89-b2eebfc99ffa"
      },
      "outputs": [
        {
          "output_type": "display_data",
          "data": {
            "text/plain": [
              "<Figure size 1000x600 with 1 Axes>"
            ],
            "image/png": "[encoded data removed]"
          },
          "metadata": {}
        },
        {
          "output_type": "stream",
          "name": "stdout",
          "text": [
            "Average score for positive edges: 0.431199\n",
            "Average score for negative edges: 0.000221\n",
            "Standard deviation for positive edges: 0.309357\n",
            "Standard deviation for negative edges: 0.007074\n"
          ]
        }
      ],
      "source": [
        "# Analyze the distribution of scores for positive vs negative examples\n",
        "positive_scores = [probs[i] for i in range(len(probs)) if labels[i] == 1]\n",
        "negative_scores = [probs[i] for i in range(len(probs)) if labels[i] == 0]\n",
        "\n",
        "plt.figure(figsize=(10, 6))\n",
        "plt.hist(positive_scores, bins=50, alpha=0.7, label='Positive edges', density=True)\n",
        "plt.hist(negative_scores, bins=50, alpha=0.7, label='Negative edges', density=True)\n",
        "plt.xlabel('Resource Allocation Index Score')\n",
        "plt.ylabel('Density')\n",
        "plt.title('Distribution of Similarity Scores')\n",
        "plt.legend()\n",
        "plt.show()\n",
        "\n",
        "print(f\"Average score for positive edges: {np.mean(positive_scores):.6f}\") #this value reprsents the average similarity score for edges that actually exist in the network\n",
        "print(f\"Average score for negative edges: {np.mean(negative_scores):.6f}\") #this value represents the average similarity score for edges that do not exist in the network\n",
        "print(f\"Standard deviation for positive edges: {np.std(positive_scores):.6f}\")\n",
        "print(f\"Standard deviation for negative edges: {np.std(negative_scores):.6f}\")"
      ]
    },
    {
      "cell_type": "code",
      "execution_count": 19,
      "metadata": {
        "id": "fuQWiYw_SGq6"
      },
      "outputs": [],
      "source": [
        "import numpy as np\n",
        "import networkx as nx\n",
        "\n",
        "# --- Common Neighbors ---\n",
        "def common_neighbors_index(G, u, v):\n",
        "    return len(set(G.neighbors(u)) & set(G.neighbors(v)))\n",
        "\n",
        "# --- Salton Index ---\n",
        "def salton_index(G, u, v):\n",
        "    cn = len(set(G.neighbors(u)) & set(G.neighbors(v)))\n",
        "    denom = np.sqrt(G.degree(u) * G.degree(v))\n",
        "    return cn / denom if denom != 0 else 0\n",
        "\n",
        "# --- Jaccard Coefficient ---\n",
        "def jaccard_index(G, u, v):\n",
        "    nu, nv = set(G.neighbors(u)), set(G.neighbors(v))\n",
        "    inter = len(nu & nv)\n",
        "    union = len(nu | nv)\n",
        "    return inter / union if union != 0 else 0\n",
        "\n",
        "# --- Sørensen Index ---\n",
        "def sorensen_index(G, u, v):\n",
        "    nu, nv = set(G.neighbors(u)), set(G.neighbors(v))\n",
        "    inter = len(nu & nv)\n",
        "    denom = len(nu) + len(nv)\n",
        "    return 2 * inter / denom if denom != 0 else 0\n",
        "\n",
        "# --- Hub Promoted Index (HPI) ---\n",
        "def hub_promoted_index(G, u, v):\n",
        "    inter = len(set(G.neighbors(u)) & set(G.neighbors(v)))\n",
        "    denom = min(G.degree(u), G.degree(v))\n",
        "    return inter / denom if denom != 0 else 0\n",
        "\n",
        "# --- Hub Depressed Index (HDI) ---\n",
        "def hub_depressed_index(G, u, v):\n",
        "    inter = len(set(G.neighbors(u)) & set(G.neighbors(v)))\n",
        "    denom = max(G.degree(u), G.degree(v))\n",
        "    return inter / denom if denom != 0 else 0\n",
        "\n",
        "# --- Leicht-Holme-Newman Index (LHN) ---\n",
        "def leicht_holme_newman_index(G, u, v):\n",
        "    inter = len(set(G.neighbors(u)) & set(G.neighbors(v)))\n",
        "    denom = G.degree(u) * G.degree(v)\n",
        "    return inter / denom if denom != 0 else 0\n",
        "\n",
        "# --- Preferential Attachment ---\n",
        "def preferential_attachment(G, u, v):\n",
        "    return G.degree(u) * G.degree(v)\n",
        "\n",
        "# --- Adamic-Adar Index ---\n",
        "def adamic_adar_index(G, u, v):\n",
        "    common_neighbors = set(G.neighbors(u)) & set(G.neighbors(v))\n",
        "    score = 0.0\n",
        "    for z in common_neighbors:\n",
        "        if G.degree(z) > 1:\n",
        "            score += 1.0 / np.log(G.degree(z))\n",
        "    return score\n",
        "\n",
        "# --- Resource Allocation Index ---\n",
        "def resource_allocation_index(G, u, v):\n",
        "    common_neighbors = set(G.neighbors(u)) & set(G.neighbors(v))\n",
        "    score = sum(1.0 / G.degree(z) for z in common_neighbors if G.degree(z) > 0)\n",
        "    return score\n",
        "\n",
        "# --- Local Path Index ---\n",
        "def local_path_index(G, u, v, alpha=0.01):\n",
        "    # A^3 is approximated by counting length-3 paths\n",
        "    A = nx.to_numpy_array(G)\n",
        "    A3 = np.linalg.matrix_power(A, 3)\n",
        "    A2 = np.linalg.matrix_power(A, 2)\n",
        "    cn = A2[G.nodes().index(u), G.nodes().index(v)]\n",
        "    return cn + alpha * A3[G.nodes().index(u), G.nodes().index(v)]\n"
      ]
    },
    {
      "cell_type": "code",
      "execution_count": 20,
      "metadata": {
        "colab": {
          "base_uri": "https://localhost:8080/"
        },
        "id": "bB_17uokSGq7",
        "outputId": "19ad0499-12d9-4b69-e62d-b578f9d0cf3d"
      },
      "outputs": [
        {
          "output_type": "stream",
          "name": "stdout",
          "text": [
            "Starting k-fold cross-validation for CN...\n",
            "CN AUC: 0.9113\n",
            "Starting k-fold cross-validation for Salton...\n",
            "Salton AUC: 0.9117\n",
            "Starting k-fold cross-validation for Jaccard...\n",
            "Jaccard AUC: 0.9132\n",
            "Starting k-fold cross-validation for Sorensen...\n",
            "Sorensen AUC: 0.9145\n",
            "Starting k-fold cross-validation for HPI...\n",
            "HPI AUC: 0.9061\n",
            "Starting k-fold cross-validation for HDI...\n",
            "HDI AUC: 0.9101\n",
            "Starting k-fold cross-validation for LHN...\n",
            "LHN AUC: 0.9087\n",
            "Starting k-fold cross-validation for PA...\n",
            "PA AUC: 0.6763\n",
            "Starting k-fold cross-validation for AA...\n",
            "AA AUC: 0.9160\n",
            "Starting k-fold cross-validation for RA...\n",
            "RA AUC: 0.9079\n",
            "\n",
            "Final AUC scores:\n",
            "CN: 0.9113\n",
            "Salton: 0.9117\n",
            "Jaccard: 0.9132\n",
            "Sorensen: 0.9145\n",
            "HPI: 0.9061\n",
            "HDI: 0.9101\n",
            "LHN: 0.9087\n",
            "PA: 0.6763\n",
            "AA: 0.9160\n",
            "RA: 0.9079\n"
          ]
        }
      ],
      "source": [
        "Local_similarity_functions = {\n",
        "    \"CN\": common_neighbors_index,\n",
        "    \"Salton\": salton_index,\n",
        "    \"Jaccard\": jaccard_index,\n",
        "    \"Sorensen\": sorensen_index,\n",
        "    \"HPI\": hub_promoted_index,\n",
        "    \"HDI\": hub_depressed_index,\n",
        "    \"LHN\": leicht_holme_newman_index,\n",
        "    \"PA\": preferential_attachment,\n",
        "    \"AA\": adamic_adar_index,\n",
        "    \"RA\": resource_allocation_index\n",
        "}\n",
        "\n",
        "results = {}\n",
        "\n",
        "for name, func in Local_similarity_functions.items():\n",
        "    print(f\"Starting k-fold cross-validation for {name}...\")\n",
        "    probs, labels = k_fold_link_prediction(G, k=5, similarity_func=func)\n",
        "    fpr, tpr, roc_auc = evaluate_link_prediction(probs, labels)\n",
        "    results[name] = roc_auc\n",
        "    print(f\"{name} AUC: {roc_auc:.4f}\")\n",
        "\n",
        "print(\"\\nFinal AUC scores:\")\n",
        "for name, auc_val in results.items():\n",
        "    print(f\"{name}: {auc_val:.4f}\")\n"
      ]
    },
    {
      "cell_type": "code",
      "execution_count": 21,
      "metadata": {
        "id": "t1dPlUNjSGq7"
      },
      "outputs": [],
      "source": [
        "import numpy as np\n",
        "import networkx as nx\n",
        "\n",
        "#GLOBAL METRICS\n",
        "\n",
        "# --- Katz Index ---\n",
        "def katz_index(G, u, v, beta=0.005, max_iter=5):\n",
        "    A = nx.to_numpy_array(G)\n",
        "    n = A.shape[0]\n",
        "    I = np.eye(n)\n",
        "    M = np.linalg.inv(I - beta * A) - I\n",
        "    nodes = list(G.nodes())\n",
        "    i, j = nodes.index(u), nodes.index(v)\n",
        "    return M[i, j]\n",
        "\n",
        "# --- Random Walk with Restart (RWR) ---\n",
        "def rwr_index(G, u, v, c=0.85, tol=1e-6):\n",
        "    nodes = list(G.nodes())\n",
        "    n = len(nodes)\n",
        "    idx = {node: i for i, node in enumerate(nodes)}\n",
        "    A = nx.to_numpy_array(G)\n",
        "    degs = A.sum(axis=1)\n",
        "    P = np.divide(A, degs[:, None], out=np.zeros_like(A), where=degs[:, None]!=0)\n",
        "\n",
        "    r = np.zeros(n)\n",
        "    r[idx[u]] = 1.0\n",
        "    prev = np.zeros(n)\n",
        "    while np.linalg.norm(r - prev) > tol:\n",
        "        prev = r.copy()\n",
        "        r = (1 - c) * np.eye(n)[idx[u]] + c * P.T @ r\n",
        "    return r[idx[v]]\n",
        "\n",
        "# --- Shortest Path Similarity ---\n",
        "def shortest_path_similarity(G, u, v):\n",
        "    try:\n",
        "        d = nx.shortest_path_length(G, u, v)\n",
        "        return 1 / (d + 1)  # closer = higher similarity\n",
        "    except nx.NetworkXNoPath:\n",
        "        return 0.0\n",
        "\n",
        "# --- LHNG (Leicht-Holme-Newman Global) ---\n",
        "def lhng_index(G, u, v, gamma=0.5):\n",
        "    inter = len(set(G.neighbors(u)) & set(G.neighbors(v)))\n",
        "    du, dv = G.degree(u), G.degree(v)\n",
        "    denom = (du * dv) ** gamma\n",
        "    return inter / denom if denom != 0 else 0\n",
        "\n",
        "# --- Average Commute Time (ACT) ---\n",
        "def average_commute_time(G, u, v):\n",
        "    L = nx.laplacian_matrix(G).toarray()\n",
        "    L_pinv = np.linalg.pinv(L)\n",
        "    nodes = list(G.nodes())\n",
        "    i, j = nodes.index(u), nodes.index(v)\n",
        "    return L_pinv[i, i] + L_pinv[j, j] - 2 * L_pinv[i, j]\n",
        "\n",
        "# --- Normalized ACT (NACT) ---\n",
        "def normalized_act(G, u, v):\n",
        "    act = average_commute_time(G, u, v)\n",
        "    du, dv = G.degree(u), G.degree(v)\n",
        "    return act / (du * dv) if du * dv > 0 else 0\n",
        "\n",
        "# --- Cos+ Similarity ---\n",
        "def cos_plus_similarity(G, u, v):\n",
        "    A = nx.to_numpy_array(G)\n",
        "    nodes = list(G.nodes())\n",
        "    i, j = nodes.index(u), nodes.index(v)\n",
        "    vec_u, vec_v = A[i], A[j]\n",
        "    num = np.dot(vec_u, vec_v)\n",
        "    denom = np.linalg.norm(vec_u) * np.linalg.norm(vec_v)\n",
        "    return num / denom if denom != 0 else 0\n",
        "\n",
        "# --- Matrix Factorization Similarity (MF) ---\n",
        "def matrix_factorization_similarity(G, u, v, rank=8):\n",
        "    A = nx.to_numpy_array(G)\n",
        "    U, S, Vt = np.linalg.svd(A, full_matrices=False)\n",
        "    U_r = U[:, :rank] * np.sqrt(S[:rank])\n",
        "    V_r = Vt[:rank, :].T * np.sqrt(S[:rank])\n",
        "    nodes = list(G.nodes())\n",
        "    i, j = nodes.index(u), nodes.index(v)\n",
        "    return np.dot(U_r[i], V_r[j])\n",
        "\n",
        "# --- Similarity Propagation Model (SPM) / SimRank-like ---\n",
        "def spm_index(G, u, v, c=0.8, max_iter=5):\n",
        "    A = nx.to_numpy_array(G)\n",
        "    n = A.shape[0]\n",
        "    nodes = list(G.nodes())\n",
        "    deg = A.sum(axis=1)\n",
        "    S = np.eye(n)\n",
        "    for _ in range(max_iter):\n",
        "        S_new = c * A.T @ (S / np.outer(deg, deg)) @ A\n",
        "        np.fill_diagonal(S_new, 1)\n",
        "        S = S_new\n",
        "    i, j = nodes.index(u), nodes.index(v)\n",
        "    return S[i, j]\n"
      ]
    },
    {
      "cell_type": "code",
      "execution_count": null,
      "metadata": {
        "colab": {
          "base_uri": "https://localhost:8080/"
        },
        "id": "QEswV6KJSGq7",
        "outputId": "ed772b98-3edb-40a5-e1de-083122d3cf3a"
      },
      "outputs": [
        {
          "output_type": "stream",
          "name": "stdout",
          "text": [
            "Running k-fold link prediction for Katz...\n",
            "Katz: 0.9208\n",
            "Running k-fold link prediction for RWR...\n",
            "RWR: 0.9208\n",
            "Running k-fold link prediction for ShortestPath...\n",
            "ShortestPath: 0.9140\n",
            "Running k-fold link prediction for LHNG...\n",
            "LHNG: 0.9149\n",
            "Running k-fold link prediction for ACT...\n",
            "ACT: 0.4086\n",
            "Running k-fold link prediction for NACT...\n",
            "NACT: 0.4374\n",
            "Running k-fold link prediction for Cos+...\n",
            "Cos+: 0.9085\n",
            "Running k-fold link prediction for MF...\n",
            "MF: 0.7201\n",
            "Running k-fold link prediction for SPM...\n"
          ]
        },
        {
          "output_type": "stream",
          "name": "stderr",
          "text": [
            "/tmp/ipython-input-356237805.py:90: RuntimeWarning: divide by zero encountered in divide\n",
            "  S_new = c * A.T @ (S / np.outer(deg, deg)) @ A\n",
            "/tmp/ipython-input-356237805.py:90: RuntimeWarning: invalid value encountered in divide\n",
            "  S_new = c * A.T @ (S / np.outer(deg, deg)) @ A\n",
            "/tmp/ipython-input-356237805.py:90: RuntimeWarning: invalid value encountered in matmul\n",
            "  S_new = c * A.T @ (S / np.outer(deg, deg)) @ A\n"
          ]
        }
      ],
      "source": [
        "\n",
        "global_metric_similarity_functions = {\n",
        "    \"Katz\": katz_index,\n",
        "    \"RWR\": rwr_index,\n",
        "    \"ShortestPath\": shortest_path_similarity,\n",
        "    \"LHNG\": lhng_index,\n",
        "    \"ACT\": average_commute_time,\n",
        "    \"NACT\": normalized_act,\n",
        "    \"Cos+\": cos_plus_similarity,\n",
        "    \"MF\": matrix_factorization_similarity,\n",
        "    \"SPM\": spm_index\n",
        "}\n",
        "\n",
        "results = {}\n",
        "\n",
        "for name, func in global_metric_similarity_functions.items():\n",
        "    print(f\"Running k-fold link prediction for {name}...\")\n",
        "    probs, labels = k_fold_link_prediction(G, k=5, similarity_func=func)\n",
        "    _, _, roc_auc = evaluate_link_prediction(probs, labels)\n",
        "    results[name] = roc_auc\n",
        "    print(f\"{name}: {roc_auc:.4f}\")\n",
        "\n",
        "print(\"\\n=== Final AUC Scores ===\")\n",
        "for k, v in results.items():\n",
        "    print(f\"{k}: {v:.4f}\")\n"
      ]
    },
    {
      "cell_type": "code",
      "execution_count": null,
      "metadata": {
        "id": "ooGPJ4WASGq8"
      },
      "outputs": [],
      "source": [
        "#QUASI-LOCAL METRICS\n",
        "import numpy as np\n",
        "\n",
        "def l3_index(G, u, v):\n",
        "    \"\"\"\n",
        "    Compute L3 index between nodes u and v\n",
        "    Reference: Kovács et al. (2019)\n",
        "    \"\"\"\n",
        "    neighbors_u = set(G.neighbors(u))\n",
        "    neighbors_v = set(G.neighbors(v))\n",
        "    score = 0.0\n",
        "\n",
        "    # Iterate over two intermediate nodes (i, j)\n",
        "    for i in neighbors_u:\n",
        "        for j in G.neighbors(i):\n",
        "            if j in neighbors_v:\n",
        "                score += 1.0 / np.sqrt(G.degree(i) * G.degree(j))\n",
        "    return score\n",
        "\n",
        "def local_path_index(G, u, v, epsilon=0.01):\n",
        "    \"\"\"\n",
        "    Compute Local Path Index between nodes u and v\n",
        "    Reference: Lü & Zhou (2009)\n",
        "    \"\"\"\n",
        "    neighbors_u = set(G.neighbors(u))\n",
        "    score = 0.0\n",
        "\n",
        "    # CN term (paths of length 2)\n",
        "    common_neighbors = neighbors_u & set(G.neighbors(v))\n",
        "    score += len(common_neighbors)\n",
        "\n",
        "    # Paths of length 3\n",
        "    for x in neighbors_u:\n",
        "        for y in G.neighbors(x):\n",
        "            if y in G[v]:\n",
        "                score += epsilon\n",
        "    return score"
      ]
    },
    {
      "cell_type": "code",
      "execution_count": null,
      "metadata": {
        "id": "AY3Rgf-8SGq8"
      },
      "outputs": [],
      "source": [
        "quasi_local_similarity_functions = {\n",
        "    \"L3\": l3_index,\n",
        "    \"LocalPath\": local_path_index\n",
        "}\n",
        "results =  {}\n",
        "\n",
        "for name, func in quasi_local_similarity_functions.items():\n",
        "    print(f\"Running k-fold link prediction for {name}...\")\n",
        "    probs, labels = k_fold_link_prediction(G, k=5, similarity_func=func)\n",
        "    _, _, roc_auc = evaluate_link_prediction(probs, labels)\n",
        "    results[name] = roc_auc\n",
        "    print(f\"{name}: {roc_auc:.4f}\")\n",
        "\n",
        "print(\"\\n=== Final AUC Scores ===\")\n",
        "for k, v in results.items():\n",
        "    print(f\"{k}: {v:.4f}\")"
      ]
    }
  ],
  "metadata": {
    "kernelspec": {
      "display_name": "Python 3",
      "language": "python",
      "name": "python3"
    },
    "language_info": {
      "codemirror_mode": {
        "name": "ipython",
        "version": 3
      },
      "file_extension": ".py",
      "mimetype": "text/x-python",
      "name": "python",
      "nbconvert_exporter": "python",
      "pygments_lexer": "ipython3",
      "version": "3.12.3"
    },
    "colab": {
      "provenance": []
    }
  },
  "nbformat": 4,
  "nbformat_minor": 0
}